{
 "cells": [
  {
   "cell_type": "code",
   "execution_count": 12,
   "id": "71dbd62c",
   "metadata": {},
   "outputs": [],
   "source": [
    "%reload_ext autoreload\n",
    "%autoreload 2"
   ]
  },
  {
   "cell_type": "code",
   "execution_count": 8,
   "id": "412f9aea",
   "metadata": {},
   "outputs": [],
   "source": [
    "import sys\n",
    "sys.path.append('..')"
   ]
  },
  {
   "cell_type": "code",
   "execution_count": null,
   "id": "045c5b1c",
   "metadata": {},
   "outputs": [
    {
     "data": {
      "text/plain": [
       "{'Dataset': torch.utils.data.dataset.Dataset,\n",
       " 'SingleFaustDataset': src.dataset.shape_cor.SingleFaustDataset,\n",
       " 'SingleScapeDataset': src.dataset.shape_cor.SingleScapeDataset,\n",
       " 'SingleShrec19Dataset': src.dataset.shape_cor.SingleShrec19Dataset,\n",
       " 'SingleSmalDataset': src.dataset.shape_cor.SingleSmalDataset,\n",
       " 'SingleDT4DDataset': src.dataset.shape_cor.SingleDT4DDataset,\n",
       " 'SingleShrec20Dataset': src.dataset.shape_cor.SingleShrec20Dataset,\n",
       " 'SingleTopKidsDataset': src.dataset.shape_cor.SingleTopKidsDataset,\n",
       " 'PairDataset': src.dataset.shape_cor.PairDataset,\n",
       " 'PairFaustDataset': src.dataset.shape_cor.PairFaustDataset,\n",
       " 'PairScapeDataset': src.dataset.shape_cor.PairScapeDataset,\n",
       " 'PairShrec19Dataset': src.dataset.shape_cor.PairShrec19Dataset,\n",
       " 'PairSmalDataset': src.dataset.shape_cor.PairSmalDataset,\n",
       " 'PairDT4DDataset': src.dataset.shape_cor.PairDT4DDataset,\n",
       " 'PairShrec20Dataset': src.dataset.shape_cor.PairShrec20Dataset,\n",
       " 'PairShrec16Dataset': src.dataset.shape_cor.PairShrec16Dataset,\n",
       " 'PairTopKidsDataset': src.dataset.shape_cor.PairTopKidsDataset}"
      ]
     },
     "execution_count": 9,
     "metadata": {},
     "output_type": "execute_result"
    }
   ],
   "source": [
    "import src\n",
    "from src.infra.registry import DATASET_REGISTRY\n",
    "DATASET_REGISTRY"
   ]
  },
  {
   "cell_type": "code",
   "execution_count": 10,
   "id": "290a0ed4",
   "metadata": {},
   "outputs": [],
   "source": [
    "dataset = DATASET_REGISTRY['PairFaustDataset'](\n",
    "    phase='train',\n",
    "    data_root='../data/FAUST_r/',\n",
    "    return_evecs='true',\n",
    "    return_faces='true',\n",
    "    num_evecs=200,\n",
    "    return_corr='false',\n",
    "    return_dist='false',\n",
    ")"
   ]
  },
  {
   "cell_type": "code",
   "execution_count": null,
   "id": "ed27e507",
   "metadata": {},
   "outputs": [],
   "source": [
    "from src.utils.tensor import to_numpy\n",
    "from src.utils.texture import write_obj_with_texture, generate_tex_coords\n",
    " \n",
    "data = dataset[1]\n",
    "visual_path = 'output'\n",
    "\n",
    "data_x, data_y = data['first'], data['second']\n",
    "name_x, name_y = data['first']['name'][0], data['second']['name'][0]\n",
    "verts_x, verts_y = to_numpy(data_x['verts']), to_numpy(data_y['verts'])\n",
    "faces_x, faces_y = to_numpy(data_x['faces']), to_numpy(data_y['faces'])\n",
    "\n",
    "uv_x = generate_tex_coords(verts_x)\n",
    "write_obj_with_texture(verts_x, faces_x, 'output/x.obj', uv=uv_x, texture_name='output/texture.png')\n",
    "uv_y = generate_tex_coords(verts_y)\n",
    "write_obj_with_texture(verts_y, faces_y, 'output/y.obj', uv=uv_y, texture_name='output/texture.png')"
   ]
  },
  {
   "cell_type": "code",
   "execution_count": null,
   "id": "7d8d2fe6",
   "metadata": {},
   "outputs": [],
   "source": []
  }
 ],
 "metadata": {
  "kernelspec": {
   "display_name": "dongliang-cao-2023-cvpr",
   "language": "python",
   "name": "python3"
  },
  "language_info": {
   "codemirror_mode": {
    "name": "ipython",
    "version": 3
   },
   "file_extension": ".py",
   "mimetype": "text/x-python",
   "name": "python",
   "nbconvert_exporter": "python",
   "pygments_lexer": "ipython3",
   "version": "3.8.20"
  }
 },
 "nbformat": 4,
 "nbformat_minor": 5
}
