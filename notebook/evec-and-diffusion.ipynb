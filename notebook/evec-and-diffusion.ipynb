{
 "cells": [
  {
   "cell_type": "code",
   "execution_count": 2,
   "id": "d0c7ebb9",
   "metadata": {},
   "outputs": [],
   "source": [
    "import pyvista as pv\n",
    "pv.set_jupyter_backend('html')"
   ]
  },
  {
   "cell_type": "markdown",
   "id": "775d7ee3",
   "metadata": {},
   "source": [
    "## Render eigen vectors"
   ]
  },
  {
   "cell_type": "code",
   "execution_count": 78,
   "id": "fd312023",
   "metadata": {},
   "outputs": [
    {
     "data": {
      "text/plain": [
       "((4999, 200), (5000, 200), (200,), (200,))"
      ]
     },
     "execution_count": 78,
     "metadata": {},
     "output_type": "execute_result"
    }
   ],
   "source": [
    "import numpy as np\n",
    "evecs_x = np.load('output/evecs/evecs_x.npy')\n",
    "evecs_y = np.load('output/evecs/evecs_y.npy')\n",
    "evals_x = np.load('output/evecs/evals_x.npy')\n",
    "evals_y = np.load('output/evecs/evals_y.npy')\n",
    "evecs_x.shape, evecs_y.shape, evals_x.shape, evals_y.shape"
   ]
  },
  {
   "cell_type": "code",
   "execution_count": 58,
   "id": "94b80fe0",
   "metadata": {},
   "outputs": [],
   "source": [
    "mesh_x = pv.read('output/evecs/x.obj')\n",
    "\n",
    "for id in range(10):\n",
    "    mesh_x[f'evec {id}'] = evecs_x[:, id]\n",
    "    plotter = pv.Plotter()\n",
    "    plotter.add_mesh(\n",
    "        mesh=mesh_x,\n",
    "        scalars=f'evec {id}',\n",
    "        cmap='coolwarm',\n",
    "        clim=[-1, 1],\n",
    "        show_scalar_bar=False,\n",
    "    )\n",
    "    plotter.camera_position = 'xy'\n",
    "    plotter.screenshot(f'output/evecs/x_{id}.png', window_size=[1024, 1024], return_img=False)"
   ]
  },
  {
   "cell_type": "code",
   "execution_count": 60,
   "id": "522854b2",
   "metadata": {},
   "outputs": [],
   "source": [
    "mesh_y = pv.read('output/evecs/y.obj')\n",
    "\n",
    "for id in range(10):\n",
    "    mesh_y[f'evec {id}'] = evecs_y[:, id]\n",
    "    plotter = pv.Plotter()\n",
    "    plotter.add_mesh(\n",
    "        mesh=mesh_y,\n",
    "        scalars=f'evec {id}',\n",
    "        cmap='coolwarm',\n",
    "        clim=[-1, 1],\n",
    "        show_scalar_bar=False,\n",
    "    )\n",
    "    plotter.camera_position = 'xy'\n",
    "    plotter.screenshot(f'output/evecs/y_{id}.png', window_size=[1024, 1024], return_img=False)"
   ]
  },
  {
   "cell_type": "markdown",
   "id": "85fb0a45",
   "metadata": {},
   "source": [
    "## Render heat diffusion"
   ]
  },
  {
   "cell_type": "code",
   "execution_count": 118,
   "id": "92cdbb9c",
   "metadata": {},
   "outputs": [],
   "source": [
    "delta_w = evecs_x[0, :]\n",
    "\n",
    "for diff_t in range(10):\n",
    "    # heat diffusion\n",
    "    diff_w = np.exp(-evals_x * diff_t) * delta_w\n",
    "    val = (evecs_x * diff_w).sum(axis=1)\n",
    "\n",
    "    mesh_x[f'diff_t={diff_t}'] = val\n",
    "    plotter = pv.Plotter()\n",
    "    plotter.add_mesh(\n",
    "        mesh=mesh_x,\n",
    "        scalars=f'diff_t={diff_t}',\n",
    "        cmap='coolwarm',\n",
    "        show_scalar_bar=False,\n",
    "    )\n",
    "    plotter.camera_position = 'xy'\n",
    "    plotter.screenshot(f'output/evecs/x_diff_{diff_t}.png', window_size=[1024, 1024], return_img=False)"
   ]
  },
  {
   "cell_type": "code",
   "execution_count": 119,
   "id": "1f28a3a2",
   "metadata": {},
   "outputs": [],
   "source": [
    "delta_w = evecs_y[0, :]\n",
    "\n",
    "for diff_t in range(10):\n",
    "    # heat diffusion\n",
    "    diff_w = np.exp(-evals_y * diff_t) * delta_w\n",
    "    val = (evecs_y * diff_w).sum(axis=1)\n",
    "\n",
    "    mesh_y[f'diff_t={diff_t}'] = val\n",
    "    plotter = pv.Plotter()\n",
    "    plotter.add_mesh(\n",
    "        mesh=mesh_y,\n",
    "        scalars=f'diff_t={diff_t}',\n",
    "        cmap='coolwarm',\n",
    "        show_scalar_bar=False,\n",
    "    )\n",
    "    plotter.camera_position = 'xy'\n",
    "    plotter.screenshot(f'output/evecs/y_diff_{diff_t}.png', window_size=[1024, 1024], return_img=False)"
   ]
  },
  {
   "cell_type": "code",
   "execution_count": null,
   "id": "cc0f0c40",
   "metadata": {},
   "outputs": [],
   "source": []
  }
 ],
 "metadata": {
  "kernelspec": {
   "display_name": "vtk",
   "language": "python",
   "name": "python3"
  },
  "language_info": {
   "codemirror_mode": {
    "name": "ipython",
    "version": 3
   },
   "file_extension": ".py",
   "mimetype": "text/x-python",
   "name": "python",
   "nbconvert_exporter": "python",
   "pygments_lexer": "ipython3",
   "version": "3.9.21"
  }
 },
 "nbformat": 4,
 "nbformat_minor": 5
}
