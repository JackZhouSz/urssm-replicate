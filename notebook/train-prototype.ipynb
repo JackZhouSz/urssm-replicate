{
 "cells": [
  {
   "cell_type": "code",
   "execution_count": 1,
   "id": "764cf7e6",
   "metadata": {},
   "outputs": [],
   "source": [
    "%reload_ext autoreload\n",
    "%autoreload 2"
   ]
  },
  {
   "cell_type": "code",
   "execution_count": 2,
   "id": "1577e1ff",
   "metadata": {},
   "outputs": [],
   "source": [
    "import sys\n",
    "sys.path.append('..')"
   ]
  },
  {
   "cell_type": "code",
   "execution_count": 3,
   "id": "4efc159e",
   "metadata": {},
   "outputs": [
    {
     "name": "stdout",
     "output_type": "stream",
     "text": [
      "Jupyter environment detected. Enabling Open3D WebVisualizer.\n",
      "[Open3D INFO] WebRTC GUI backend enabled.\n",
      "[Open3D INFO] WebRTCWindowSystem: HTTP handshake server disabled.\n",
      "device_select: auto\n",
      "network:\n",
      "  feature_extractor:\n",
      "    args:\n",
      "      cache_dir: data/FAUST_r/diffusion\n",
      "      in_channels: 128\n",
      "      input_type: wks\n",
      "      out_channels: 256\n",
      "    name: DiffusionNet\n",
      "  fm_solver:\n",
      "    args:\n",
      "      \n",
      "    name: RegularizedFMNet\n",
      "  name: URSSM\n",
      "  permutation:\n",
      "    args:\n",
      "      tau: 0.07\n",
      "    name: Similarity\n",
      "path: ../experiment/test-250605\n",
      "train:\n",
      "  checkpoint_interval: 500\n",
      "  dataset:\n",
      "    test:\n",
      "      args:\n",
      "        data_root: data/FAUST_r/\n",
      "        num_evecs: 200\n",
      "        phase: test\n",
      "        return_corr: True\n",
      "        return_dist: True\n",
      "        return_evecs: True\n",
      "        return_faces: True\n",
      "      dataloader:\n",
      "        args:\n",
      "          batch_size: 1\n",
      "          shuffle: True\n",
      "        name: DataLoader\n",
      "      name: PairFaustDataset\n",
      "    train:\n",
      "      args:\n",
      "        data_root: data/FAUST_r/\n",
      "        num_evecs: 200\n",
      "        phase: train\n",
      "        return_corr: False\n",
      "        return_dist: False\n",
      "        return_evecs: True\n",
      "        return_faces: True\n",
      "      dataloader:\n",
      "        args:\n",
      "          batch_size: 1\n",
      "          shuffle: True\n",
      "        name: DataLoader\n",
      "      name: PairFaustDataset\n",
      "  loss:\n",
      "    align_loss:\n",
      "      args:\n",
      "        \n",
      "      name: SpatialSpectralAlignmentLoss\n",
      "      weight: 1.0\n",
      "    bij_loss:\n",
      "      args:\n",
      "        \n",
      "      name: BijectivityLoss\n",
      "      weight: 1.0\n",
      "    orth_loss:\n",
      "      args:\n",
      "        \n",
      "      name: OrthogonalityLoss\n",
      "      weight: 1.0\n",
      "  metric:\n",
      "    geodist:\n",
      "      args:\n",
      "        \n",
      "      name: GeodesicDist\n",
      "  optimizer:\n",
      "    args:\n",
      "      lr: 0.001\n",
      "    epochs: 1\n",
      "    name: Adam\n",
      "  save_best: geodist\n",
      "  script: TrainScript\n",
      "  test_interval: 500\n"
     ]
    }
   ],
   "source": [
    "from src.infra import config\n",
    "\n",
    "path = '../experiment/test-250605'\n",
    "opt = config.load_config(path)\n",
    "opt.path = path\n",
    "print(opt)"
   ]
  },
  {
   "cell_type": "code",
   "execution_count": 4,
   "id": "0feee111",
   "metadata": {},
   "outputs": [
    {
     "data": {
      "text/plain": [
       "'cuda'"
      ]
     },
     "execution_count": 4,
     "metadata": {},
     "output_type": "execute_result"
    }
   ],
   "source": [
    "import torch\n",
    "device = 'cuda' if torch.cuda.is_available() else 'cpu'\n",
    "device"
   ]
  },
  {
   "cell_type": "code",
   "execution_count": 8,
   "id": "4859cf74",
   "metadata": {},
   "outputs": [],
   "source": [
    "if 'pth_path' in opt.network:\n",
    "    print('yes')"
   ]
  },
  {
   "cell_type": "markdown",
   "id": "33bccb69",
   "metadata": {},
   "source": [
    "## Dataset"
   ]
  },
  {
   "cell_type": "code",
   "execution_count": 5,
   "id": "5c8c8382",
   "metadata": {},
   "outputs": [
    {
     "data": {
      "text/plain": [
       "{'Dataset': torch.utils.data.dataset.Dataset,\n",
       " 'SingleFaustDataset': src.dataset.shape_cor.SingleFaustDataset,\n",
       " 'SingleScapeDataset': src.dataset.shape_cor.SingleScapeDataset,\n",
       " 'SingleShrec19Dataset': src.dataset.shape_cor.SingleShrec19Dataset,\n",
       " 'SingleSmalDataset': src.dataset.shape_cor.SingleSmalDataset,\n",
       " 'SingleDT4DDataset': src.dataset.shape_cor.SingleDT4DDataset,\n",
       " 'SingleShrec20Dataset': src.dataset.shape_cor.SingleShrec20Dataset,\n",
       " 'SingleTopKidsDataset': src.dataset.shape_cor.SingleTopKidsDataset,\n",
       " 'PairDataset': src.dataset.shape_cor.PairDataset,\n",
       " 'PairFaustDataset': src.dataset.shape_cor.PairFaustDataset,\n",
       " 'PairScapeDataset': src.dataset.shape_cor.PairScapeDataset,\n",
       " 'PairShrec19Dataset': src.dataset.shape_cor.PairShrec19Dataset,\n",
       " 'PairSmalDataset': src.dataset.shape_cor.PairSmalDataset,\n",
       " 'PairDT4DDataset': src.dataset.shape_cor.PairDT4DDataset,\n",
       " 'PairShrec20Dataset': src.dataset.shape_cor.PairShrec20Dataset,\n",
       " 'PairShrec16Dataset': src.dataset.shape_cor.PairShrec16Dataset,\n",
       " 'PairTopKidsDataset': src.dataset.shape_cor.PairTopKidsDataset}"
      ]
     },
     "execution_count": 5,
     "metadata": {},
     "output_type": "execute_result"
    }
   ],
   "source": [
    "import src\n",
    "from src.infra.registry import DATASET_REGISTRY\n",
    "DATASET_REGISTRY"
   ]
  },
  {
   "cell_type": "code",
   "execution_count": 6,
   "id": "5c1b0648",
   "metadata": {},
   "outputs": [],
   "source": [
    "dataset = DATASET_REGISTRY['PairFaustDataset'](\n",
    "    phase='train',\n",
    "    data_root='../data/FAUST_r/',\n",
    "    return_evecs='true',\n",
    "    return_faces='true',\n",
    "    num_evecs=200,\n",
    "    return_corr='false',\n",
    "    return_dist='false',\n",
    ")"
   ]
  },
  {
   "cell_type": "code",
   "execution_count": 7,
   "id": "f83a25d1",
   "metadata": {},
   "outputs": [
    {
     "data": {
      "text/plain": [
       "{'DataLoader': torch.utils.data.dataloader.DataLoader}"
      ]
     },
     "execution_count": 7,
     "metadata": {},
     "output_type": "execute_result"
    }
   ],
   "source": [
    "from src.infra.registry import DATALOADER_REGISTRY\n",
    "DATALOADER_REGISTRY"
   ]
  },
  {
   "cell_type": "code",
   "execution_count": 8,
   "id": "1b2b2bcd",
   "metadata": {},
   "outputs": [
    {
     "data": {
      "text/plain": [
       "<torch.utils.data.dataloader.DataLoader at 0x7354724e53d0>"
      ]
     },
     "execution_count": 8,
     "metadata": {},
     "output_type": "execute_result"
    }
   ],
   "source": [
    "dataloader = DATALOADER_REGISTRY['DataLoader'](\n",
    "    dataset=dataset,\n",
    "    batch_size=1,\n",
    "    shuffle=True,\n",
    ")\n",
    "dataloader"
   ]
  },
  {
   "cell_type": "code",
   "execution_count": 9,
   "id": "dabdd7dc",
   "metadata": {},
   "outputs": [
    {
     "name": "stdout",
     "output_type": "stream",
     "text": [
      "['tr_reg_030'] ['tr_reg_039']\n"
     ]
    }
   ],
   "source": [
    "from src.utils.tensor import to_device\n",
    "\n",
    "for batch, data in enumerate(dataloader):\n",
    "    data = to_device(data, device)\n",
    "    data_x, data_y = data['first'], data['second']\n",
    "    print(data_x['name'], data_y['name'])\n",
    "    break"
   ]
  },
  {
   "cell_type": "code",
   "execution_count": 10,
   "id": "afdb88f0",
   "metadata": {},
   "outputs": [
    {
     "data": {
      "text/plain": [
       "{'first': {'name': ['tr_reg_030'],\n",
       "  'verts': tensor([[[ 0.0313,  0.5211,  0.1447],\n",
       "           [ 0.0391,  0.5218,  0.1370],\n",
       "           [ 0.0239,  0.4825,  0.1326],\n",
       "           ...,\n",
       "           [-0.1408,  0.3237,  0.0589],\n",
       "           [-0.1864, -0.6583, -0.0119],\n",
       "           [-0.1899, -0.6484, -0.0083]]], device='cuda:0'),\n",
       "  'faces': tensor([[[  61,    0,   14],\n",
       "           [  67,    0,  104],\n",
       "           [ 104,    0,   61],\n",
       "           ...,\n",
       "           [4987, 2462, 4988],\n",
       "           [4988, 3881, 4987],\n",
       "           [4988, 2462, 2995]]], device='cuda:0'),\n",
       "  'evecs': tensor([[[ 1.0000, -0.9961, -0.0252,  ...,  1.3570, -3.3923,  5.3566],\n",
       "           [ 1.0000, -0.9955, -0.0251,  ...,  1.5223, -3.4034,  5.0044],\n",
       "           [ 1.0000, -0.9791, -0.0246,  ...,  1.1407, -2.3553,  3.3838],\n",
       "           ...,\n",
       "           [ 1.0000, -0.8350, -0.0439,  ..., -1.9760, -0.8635,  0.1942],\n",
       "           [ 1.0000,  1.9174, -2.5915,  ...,  1.3890,  0.8231, -0.4747],\n",
       "           [ 1.0000,  1.9174, -2.5916,  ...,  1.5511,  0.9086, -0.3562]]],\n",
       "         device='cuda:0'),\n",
       "  'evecs_trans': tensor([[[ 1.0564e-04,  9.0653e-05,  1.0652e-04,  ...,  6.0161e-05,\n",
       "             2.8016e-05,  2.5506e-05],\n",
       "           [-1.0523e-04, -9.0242e-05, -1.0429e-04,  ..., -5.0233e-05,\n",
       "             5.3717e-05,  4.8906e-05],\n",
       "           [-2.6595e-06, -2.2740e-06, -2.6204e-06,  ..., -2.6391e-06,\n",
       "            -7.2605e-05, -6.6101e-05],\n",
       "           ...,\n",
       "           [ 1.4336e-04,  1.3800e-04,  1.2151e-04,  ..., -1.1888e-04,\n",
       "             3.8915e-05,  3.9564e-05],\n",
       "           [-3.5836e-04, -3.0853e-04, -2.5089e-04,  ..., -5.1950e-05,\n",
       "             2.3061e-05,  2.3174e-05],\n",
       "           [ 5.6587e-04,  4.5366e-04,  3.6044e-04,  ...,  1.1681e-05,\n",
       "            -1.3299e-05, -9.0842e-06]]], device='cuda:0'),\n",
       "  'evals': tensor([[5.0040e-05, 5.1523e+00, 6.2737e+00, 1.0096e+01, 1.4465e+01, 2.0662e+01,\n",
       "           3.9079e+01, 4.0362e+01, 5.8168e+01, 6.0824e+01, 8.5775e+01, 8.8929e+01,\n",
       "           9.2653e+01, 1.1794e+02, 1.1888e+02, 1.5324e+02, 1.5692e+02, 1.7690e+02,\n",
       "           2.0836e+02, 2.2190e+02, 2.3519e+02, 2.6116e+02, 2.6529e+02, 2.8577e+02,\n",
       "           2.9002e+02, 2.9472e+02, 3.0449e+02, 3.3638e+02, 3.3935e+02, 3.4205e+02,\n",
       "           3.4444e+02, 3.7472e+02, 3.7990e+02, 4.0247e+02, 4.0963e+02, 4.1402e+02,\n",
       "           4.2945e+02, 4.4138e+02, 4.7141e+02, 4.8204e+02, 4.8601e+02, 4.9981e+02,\n",
       "           5.2055e+02, 5.2564e+02, 5.3246e+02, 5.5694e+02, 5.9439e+02, 6.0770e+02,\n",
       "           6.1509e+02, 6.1671e+02, 6.2545e+02, 6.2999e+02, 6.3823e+02, 6.6207e+02,\n",
       "           6.6637e+02, 6.6717e+02, 6.9228e+02, 6.9347e+02, 7.0065e+02, 7.0313e+02,\n",
       "           7.3257e+02, 7.4592e+02, 7.5584e+02, 7.5667e+02, 7.7532e+02, 7.8706e+02,\n",
       "           8.0656e+02, 8.1653e+02, 8.2858e+02, 8.3097e+02, 8.3800e+02, 8.7882e+02,\n",
       "           8.8244e+02, 8.8330e+02, 9.0785e+02, 9.2852e+02, 9.3478e+02, 9.3704e+02,\n",
       "           9.5356e+02, 9.6793e+02, 9.7835e+02, 9.7944e+02, 9.8626e+02, 9.9935e+02,\n",
       "           1.0038e+03, 1.0150e+03, 1.0284e+03, 1.0440e+03, 1.0641e+03, 1.0756e+03,\n",
       "           1.0848e+03, 1.0947e+03, 1.0990e+03, 1.1023e+03, 1.1102e+03, 1.1131e+03,\n",
       "           1.1257e+03, 1.1301e+03, 1.1463e+03, 1.1556e+03, 1.1567e+03, 1.1578e+03,\n",
       "           1.1724e+03, 1.1800e+03, 1.1949e+03, 1.2019e+03, 1.2060e+03, 1.2249e+03,\n",
       "           1.2465e+03, 1.2533e+03, 1.2610e+03, 1.2658e+03, 1.2700e+03, 1.2886e+03,\n",
       "           1.2995e+03, 1.3150e+03, 1.3207e+03, 1.3309e+03, 1.3362e+03, 1.3461e+03,\n",
       "           1.3636e+03, 1.3778e+03, 1.3826e+03, 1.3978e+03, 1.4090e+03, 1.4187e+03,\n",
       "           1.4292e+03, 1.4545e+03, 1.4573e+03, 1.4657e+03, 1.4758e+03, 1.4856e+03,\n",
       "           1.5095e+03, 1.5146e+03, 1.5487e+03, 1.5585e+03, 1.5665e+03, 1.5970e+03,\n",
       "           1.6065e+03, 1.6103e+03, 1.6160e+03, 1.6316e+03, 1.6405e+03, 1.6528e+03,\n",
       "           1.6583e+03, 1.6779e+03, 1.6865e+03, 1.7030e+03, 1.7133e+03, 1.7187e+03,\n",
       "           1.7206e+03, 1.7348e+03, 1.7453e+03, 1.7674e+03, 1.7754e+03, 1.7937e+03,\n",
       "           1.8020e+03, 1.8161e+03, 1.8218e+03, 1.8300e+03, 1.8453e+03, 1.8535e+03,\n",
       "           1.8629e+03, 1.8768e+03, 1.8959e+03, 1.9095e+03, 1.9170e+03, 1.9227e+03,\n",
       "           1.9317e+03, 1.9382e+03, 1.9622e+03, 1.9751e+03, 1.9773e+03, 1.9817e+03,\n",
       "           2.0008e+03, 2.0215e+03, 2.0298e+03, 2.0342e+03, 2.0519e+03, 2.0653e+03,\n",
       "           2.0751e+03, 2.0838e+03, 2.0998e+03, 2.1227e+03, 2.1324e+03, 2.1506e+03,\n",
       "           2.1598e+03, 2.1656e+03, 2.1812e+03, 2.1847e+03, 2.1919e+03, 2.1964e+03,\n",
       "           2.2055e+03, 2.2125e+03, 2.2242e+03, 2.2327e+03, 2.2380e+03, 2.2525e+03,\n",
       "           2.2611e+03, 2.2681e+03]], device='cuda:0'),\n",
       "  'mass': tensor([[1.0564e-04, 9.0653e-05, 1.0652e-04,  ..., 6.0162e-05, 2.8016e-05,\n",
       "           2.5507e-05]], device='cuda:0'),\n",
       "  'L': tensor([[[ 3.3153, -0.5359,  0.0000,  ...,  0.0000,  0.0000,  0.0000],\n",
       "           [-0.5359,  3.7726,  0.0000,  ...,  0.0000,  0.0000,  0.0000],\n",
       "           [ 0.0000,  0.0000,  3.5895,  ...,  0.0000,  0.0000,  0.0000],\n",
       "           ...,\n",
       "           [ 0.0000,  0.0000,  0.0000,  ...,  3.7821,  0.0000,  0.0000],\n",
       "           [ 0.0000,  0.0000,  0.0000,  ...,  0.0000,  3.4922,  0.0000],\n",
       "           [ 0.0000,  0.0000,  0.0000,  ...,  0.0000,  0.0000,  3.7046]]],\n",
       "         device='cuda:0'),\n",
       "  'dist': tensor([[[0.0000, 0.0110, 0.0423,  ..., 0.3256, 1.3718, 1.3630],\n",
       "           [0.0110, 0.0000, 0.0459,  ..., 0.3256, 1.3698, 1.3610],\n",
       "           [0.0423, 0.0459, 0.0000,  ..., 0.2833, 1.3320, 1.3231],\n",
       "           ...,\n",
       "           [0.3256, 0.3256, 0.2833,  ..., 0.0000, 1.1062, 1.0974],\n",
       "           [1.3718, 1.3698, 1.3320,  ..., 1.1062, 0.0000, 0.0120],\n",
       "           [1.3630, 1.3610, 1.3231,  ..., 1.0974, 0.0120, 0.0000]]],\n",
       "         device='cuda:0'),\n",
       "  'corr': tensor([[4423, 1136, 1854,  ..., 3623,  159, 2565]], device='cuda:0')},\n",
       " 'second': {'name': ['tr_reg_039'],\n",
       "  'verts': tensor([[[ 0.0228,  0.3981,  0.0613],\n",
       "           [ 0.0279,  0.4052,  0.0556],\n",
       "           [ 0.0327,  0.3514,  0.0350],\n",
       "           ...,\n",
       "           [-0.1793, -0.7865, -0.0652],\n",
       "           [-0.1793, -0.7830, -0.0633],\n",
       "           [-0.1716, -0.7894, -0.0546]]], device='cuda:0'),\n",
       "  'faces': tensor([[[  65,    1,   13],\n",
       "           [  65,    0,    1],\n",
       "           [ 112,    0,   65],\n",
       "           ...,\n",
       "           [4995, 2793, 4260],\n",
       "           [4260, 1773, 4995],\n",
       "           [3984, 3039, 4996]]], device='cuda:0'),\n",
       "  'evecs': tensor([[[ 1.0000, -0.9692,  0.0180,  ...,  6.0521,  1.3089, -0.3784],\n",
       "           [ 1.0000, -0.9708,  0.0180,  ...,  6.0349,  1.1458, -0.5954],\n",
       "           [ 1.0000, -0.9470,  0.0170,  ...,  2.5166,  0.5766, -0.5596],\n",
       "           ...,\n",
       "           [ 1.0000,  1.8056,  2.6213,  ..., -0.8377,  0.9473, -0.3530],\n",
       "           [ 1.0000,  1.8057,  2.6214,  ..., -0.8268,  0.8910, -0.2264],\n",
       "           [ 1.0000,  1.8080,  2.6258,  ..., -0.9510,  1.1246, -0.2827]]],\n",
       "         device='cuda:0'),\n",
       "  'evecs_trans': tensor([[[ 7.3598e-05,  1.2082e-04,  2.2720e-04,  ...,  1.8080e-05,\n",
       "             1.5469e-05,  2.4444e-05],\n",
       "           [-7.1328e-05, -1.1729e-04, -2.1515e-04,  ...,  3.2647e-05,\n",
       "             2.7932e-05,  4.4194e-05],\n",
       "           [ 1.3235e-06,  2.1744e-06,  3.8629e-06,  ...,  4.7395e-05,\n",
       "             4.0550e-05,  6.4185e-05],\n",
       "           ...,\n",
       "           [ 4.4543e-04,  7.2913e-04,  5.7178e-04,  ..., -1.5147e-05,\n",
       "            -1.2790e-05, -2.3246e-05],\n",
       "           [ 9.6332e-05,  1.3844e-04,  1.3101e-04,  ...,  1.7127e-05,\n",
       "             1.3782e-05,  2.7491e-05],\n",
       "           [-2.7851e-05, -7.1940e-05, -1.2715e-04,  ..., -6.3820e-06,\n",
       "            -3.5028e-06, -6.9114e-06]]], device='cuda:0'),\n",
       "  'evals': tensor([[5.0010e-05, 4.7973e+00, 6.3488e+00, 9.2639e+00, 1.3532e+01, 2.1337e+01,\n",
       "           3.9643e+01, 4.0604e+01, 5.5765e+01, 5.8307e+01, 7.9254e+01, 8.7452e+01,\n",
       "           9.3982e+01, 1.1293e+02, 1.1812e+02, 1.4782e+02, 1.5758e+02, 1.7114e+02,\n",
       "           1.9549e+02, 2.1405e+02, 2.4682e+02, 2.5501e+02, 2.6438e+02, 2.9325e+02,\n",
       "           2.9585e+02, 3.0017e+02, 3.0348e+02, 3.3990e+02, 3.4445e+02, 3.4803e+02,\n",
       "           3.5102e+02, 3.6473e+02, 3.7847e+02, 3.9650e+02, 4.0546e+02, 4.1495e+02,\n",
       "           4.3224e+02, 4.4711e+02, 4.6072e+02, 4.6782e+02, 5.0433e+02, 5.1446e+02,\n",
       "           5.2172e+02, 5.2878e+02, 5.4365e+02, 5.4911e+02, 5.9371e+02, 6.0278e+02,\n",
       "           6.1142e+02, 6.2462e+02, 6.2972e+02, 6.3550e+02, 6.4995e+02, 6.5505e+02,\n",
       "           6.6384e+02, 6.7968e+02, 6.9143e+02, 6.9798e+02, 7.0013e+02, 7.1755e+02,\n",
       "           7.2186e+02, 7.3386e+02, 7.5347e+02, 7.7419e+02, 7.7978e+02, 7.9780e+02,\n",
       "           8.0058e+02, 8.1160e+02, 8.1532e+02, 8.3629e+02, 8.5309e+02, 8.6195e+02,\n",
       "           8.7589e+02, 8.8772e+02, 8.9935e+02, 9.1689e+02, 9.2453e+02, 9.4185e+02,\n",
       "           9.4690e+02, 9.6096e+02, 9.7297e+02, 9.7612e+02, 9.9067e+02, 9.9408e+02,\n",
       "           1.0112e+03, 1.0205e+03, 1.0346e+03, 1.0575e+03, 1.0621e+03, 1.0756e+03,\n",
       "           1.0831e+03, 1.0917e+03, 1.1008e+03, 1.1217e+03, 1.1231e+03, 1.1271e+03,\n",
       "           1.1378e+03, 1.1438e+03, 1.1514e+03, 1.1554e+03, 1.1678e+03, 1.1795e+03,\n",
       "           1.1840e+03, 1.1869e+03, 1.1991e+03, 1.2056e+03, 1.2178e+03, 1.2219e+03,\n",
       "           1.2402e+03, 1.2545e+03, 1.2625e+03, 1.2676e+03, 1.2768e+03, 1.2811e+03,\n",
       "           1.2933e+03, 1.3095e+03, 1.3245e+03, 1.3373e+03, 1.3392e+03, 1.3442e+03,\n",
       "           1.3526e+03, 1.3644e+03, 1.3857e+03, 1.3891e+03, 1.4042e+03, 1.4140e+03,\n",
       "           1.4403e+03, 1.4462e+03, 1.4624e+03, 1.4772e+03, 1.4832e+03, 1.4899e+03,\n",
       "           1.5214e+03, 1.5236e+03, 1.5439e+03, 1.5512e+03, 1.5535e+03, 1.5741e+03,\n",
       "           1.6031e+03, 1.6173e+03, 1.6246e+03, 1.6329e+03, 1.6519e+03, 1.6687e+03,\n",
       "           1.6714e+03, 1.6819e+03, 1.6905e+03, 1.6952e+03, 1.7095e+03, 1.7123e+03,\n",
       "           1.7320e+03, 1.7473e+03, 1.7591e+03, 1.7683e+03, 1.7720e+03, 1.7881e+03,\n",
       "           1.8014e+03, 1.8054e+03, 1.8163e+03, 1.8229e+03, 1.8461e+03, 1.8632e+03,\n",
       "           1.8670e+03, 1.8796e+03, 1.8961e+03, 1.9042e+03, 1.9071e+03, 1.9193e+03,\n",
       "           1.9481e+03, 1.9512e+03, 1.9623e+03, 1.9700e+03, 1.9867e+03, 1.9926e+03,\n",
       "           2.0067e+03, 2.0161e+03, 2.0275e+03, 2.0350e+03, 2.0384e+03, 2.0559e+03,\n",
       "           2.0730e+03, 2.0773e+03, 2.1017e+03, 2.1112e+03, 2.1194e+03, 2.1485e+03,\n",
       "           2.1519e+03, 2.1661e+03, 2.1851e+03, 2.1868e+03, 2.1995e+03, 2.2033e+03,\n",
       "           2.2153e+03, 2.2172e+03, 2.2326e+03, 2.2512e+03, 2.2592e+03, 2.2688e+03,\n",
       "           2.2716e+03, 2.2796e+03]], device='cuda:0'),\n",
       "  'mass': tensor([[7.3598e-05, 1.2082e-04, 2.2720e-04,  ..., 1.8080e-05, 1.5469e-05,\n",
       "           2.4444e-05]], device='cuda:0'),\n",
       "  'L': tensor([[[ 3.4979, -0.4517,  0.0000,  ...,  0.0000,  0.0000,  0.0000],\n",
       "           [-0.4517,  3.7048,  0.0000,  ...,  0.0000,  0.0000,  0.0000],\n",
       "           [ 0.0000,  0.0000,  3.4989,  ...,  0.0000,  0.0000,  0.0000],\n",
       "           ...,\n",
       "           [ 0.0000,  0.0000,  0.0000,  ...,  3.6320, -0.7334,  0.0000],\n",
       "           [ 0.0000,  0.0000,  0.0000,  ..., -0.7334,  3.8442,  0.0000],\n",
       "           [ 0.0000,  0.0000,  0.0000,  ...,  0.0000,  0.0000,  3.4853]]],\n",
       "         device='cuda:0'),\n",
       "  'dist': tensor([[[0.0000, 0.0104, 0.0578,  ..., 1.3681, 1.3646, 1.3796],\n",
       "           [0.0104, 0.0000, 0.0618,  ..., 1.3741, 1.3706, 1.3856],\n",
       "           [0.0578, 0.0618, 0.0000,  ..., 1.3124, 1.3088, 1.3238],\n",
       "           ...,\n",
       "           [1.3681, 1.3741, 1.3124,  ..., 0.0000, 0.0040, 0.0193],\n",
       "           [1.3646, 1.3706, 1.3088,  ..., 0.0040, 0.0000, 0.0228],\n",
       "           [1.3796, 1.3856, 1.3238,  ..., 0.0193, 0.0228, 0.0000]]],\n",
       "         device='cuda:0'),\n",
       "  'corr': tensor([[4439, 1163, 1951,  ..., 3636,  159, 2630]], device='cuda:0')}}"
      ]
     },
     "execution_count": 10,
     "metadata": {},
     "output_type": "execute_result"
    }
   ],
   "source": [
    "data"
   ]
  },
  {
   "cell_type": "markdown",
   "id": "7f26747d",
   "metadata": {},
   "source": [
    "## Model"
   ]
  },
  {
   "cell_type": "code",
   "execution_count": null,
   "id": "4c4202e2",
   "metadata": {},
   "outputs": [
    {
     "data": {
      "text/plain": [
       "{'Similarity': src.model.permutation.Similarity,\n",
       " 'RegularizedFMNet': src.model.fmap.RegularizedFMNet,\n",
       " 'URSSM': src.model.urssm.URSSM,\n",
       " 'DiffusionNet': src.model.diffusionnet.DiffusionNet}"
      ]
     },
     "execution_count": 11,
     "metadata": {},
     "output_type": "execute_result"
    }
   ],
   "source": [
    "from src.infra.registry import MODULE_REGISTRY\n",
    "MODULE_REGISTRY"
   ]
  },
  {
   "cell_type": "code",
   "execution_count": null,
   "id": "6165e5d8",
   "metadata": {},
   "outputs": [
    {
     "data": {
      "text/plain": [
       "URSSM(\n",
       "  (feature_extractor): DiffusionNet(\n",
       "    (first_linear): Linear(in_features=128, out_features=128, bias=True)\n",
       "    (last_linear): Linear(in_features=128, out_features=256, bias=True)\n",
       "    (blocks): ModuleList(\n",
       "      (0): DiffusionNetBlock(\n",
       "        (diffusion): LearnedTimeDiffusion()\n",
       "        (gradient_features): SpatialGradientFeatures(\n",
       "          (A_re): Linear(in_features=128, out_features=128, bias=False)\n",
       "          (A_im): Linear(in_features=128, out_features=128, bias=False)\n",
       "        )\n",
       "        (mlp): MiniMLP(\n",
       "          (miniMLP_linear_000): Linear(in_features=384, out_features=128, bias=True)\n",
       "          (miniMLP_activation_000): ReLU()\n",
       "          (miniMLP_dropout_001): Dropout(p=0.5, inplace=False)\n",
       "          (miniMLP_linear_001): Linear(in_features=128, out_features=128, bias=True)\n",
       "          (miniMLP_activation_001): ReLU()\n",
       "          (miniMLP_dropout_002): Dropout(p=0.5, inplace=False)\n",
       "          (miniMLP_linear_002): Linear(in_features=128, out_features=128, bias=True)\n",
       "        )\n",
       "      )\n",
       "      (1): DiffusionNetBlock(\n",
       "        (diffusion): LearnedTimeDiffusion()\n",
       "        (gradient_features): SpatialGradientFeatures(\n",
       "          (A_re): Linear(in_features=128, out_features=128, bias=False)\n",
       "          (A_im): Linear(in_features=128, out_features=128, bias=False)\n",
       "        )\n",
       "        (mlp): MiniMLP(\n",
       "          (miniMLP_linear_000): Linear(in_features=384, out_features=128, bias=True)\n",
       "          (miniMLP_activation_000): ReLU()\n",
       "          (miniMLP_dropout_001): Dropout(p=0.5, inplace=False)\n",
       "          (miniMLP_linear_001): Linear(in_features=128, out_features=128, bias=True)\n",
       "          (miniMLP_activation_001): ReLU()\n",
       "          (miniMLP_dropout_002): Dropout(p=0.5, inplace=False)\n",
       "          (miniMLP_linear_002): Linear(in_features=128, out_features=128, bias=True)\n",
       "        )\n",
       "      )\n",
       "      (2): DiffusionNetBlock(\n",
       "        (diffusion): LearnedTimeDiffusion()\n",
       "        (gradient_features): SpatialGradientFeatures(\n",
       "          (A_re): Linear(in_features=128, out_features=128, bias=False)\n",
       "          (A_im): Linear(in_features=128, out_features=128, bias=False)\n",
       "        )\n",
       "        (mlp): MiniMLP(\n",
       "          (miniMLP_linear_000): Linear(in_features=384, out_features=128, bias=True)\n",
       "          (miniMLP_activation_000): ReLU()\n",
       "          (miniMLP_dropout_001): Dropout(p=0.5, inplace=False)\n",
       "          (miniMLP_linear_001): Linear(in_features=128, out_features=128, bias=True)\n",
       "          (miniMLP_activation_001): ReLU()\n",
       "          (miniMLP_dropout_002): Dropout(p=0.5, inplace=False)\n",
       "          (miniMLP_linear_002): Linear(in_features=128, out_features=128, bias=True)\n",
       "        )\n",
       "      )\n",
       "      (3): DiffusionNetBlock(\n",
       "        (diffusion): LearnedTimeDiffusion()\n",
       "        (gradient_features): SpatialGradientFeatures(\n",
       "          (A_re): Linear(in_features=128, out_features=128, bias=False)\n",
       "          (A_im): Linear(in_features=128, out_features=128, bias=False)\n",
       "        )\n",
       "        (mlp): MiniMLP(\n",
       "          (miniMLP_linear_000): Linear(in_features=384, out_features=128, bias=True)\n",
       "          (miniMLP_activation_000): ReLU()\n",
       "          (miniMLP_dropout_001): Dropout(p=0.5, inplace=False)\n",
       "          (miniMLP_linear_001): Linear(in_features=128, out_features=128, bias=True)\n",
       "          (miniMLP_activation_001): ReLU()\n",
       "          (miniMLP_dropout_002): Dropout(p=0.5, inplace=False)\n",
       "          (miniMLP_linear_002): Linear(in_features=128, out_features=128, bias=True)\n",
       "        )\n",
       "      )\n",
       "    )\n",
       "  )\n",
       "  (fm_solver): RegularizedFMNet()\n",
       "  (permutation): Similarity()\n",
       ")"
      ]
     },
     "execution_count": 12,
     "metadata": {},
     "output_type": "execute_result"
    }
   ],
   "source": [
    "urssm = MODULE_REGISTRY[opt.network.name](opt).to(device)\n",
    "urssm"
   ]
  },
  {
   "cell_type": "code",
   "execution_count": 13,
   "id": "80d0c19e",
   "metadata": {},
   "outputs": [
    {
     "name": "stdout",
     "output_type": "stream",
     "text": [
      "Loaded pretrain weights from ../checkpoints/faust.pth\n"
     ]
    }
   ],
   "source": [
    "network_path = '../checkpoints/faust.pth'\n",
    "urssm.feature_extractor.load_state_dict(\n",
    "    torch.load(network_path)['networks']['feature_extractor']\n",
    ")\n",
    "print(f'Loaded pretrain weights from {network_path}')"
   ]
  },
  {
   "cell_type": "code",
   "execution_count": 14,
   "id": "a597d89f",
   "metadata": {},
   "outputs": [
    {
     "data": {
      "text/plain": [
       "{'Cxy': tensor([[[ 9.6219e-01,  1.5338e-02, -2.4659e-02,  ..., -6.4113e-05,\n",
       "            3.6756e-04, -2.9156e-04],\n",
       "          [-1.8863e-02,  9.6023e-01, -2.4035e-02,  ...,  6.9799e-04,\n",
       "            6.4222e-04, -3.5222e-04],\n",
       "          [ 2.1723e-02,  2.0744e-02, -1.0053e+00,  ...,  4.7211e-04,\n",
       "           -3.9685e-05,  3.0762e-04],\n",
       "          ...,\n",
       "          [ 3.3094e-04, -2.4268e-04,  8.4136e-05,  ...,  2.1029e-01,\n",
       "           -5.6321e-01,  4.6303e-01],\n",
       "          [-1.8278e-04,  7.3649e-04, -5.9551e-04,  ...,  4.3372e-02,\n",
       "           -5.3321e-01, -2.8000e-01],\n",
       "          [ 2.1597e-04,  2.9710e-04, -1.7957e-03,  ..., -1.3474e-02,\n",
       "            1.0295e-01, -8.0878e-02]]], device='cuda:0', grad_fn=<CatBackward0>),\n",
       " 'Cyx': tensor([[[ 9.9082e-01, -1.7312e-02, -1.6508e-02,  ...,  7.7828e-04,\n",
       "           -1.1171e-04,  4.6791e-05],\n",
       "          [ 1.7325e-02,  1.0037e+00, -1.9745e-02,  ...,  6.1401e-04,\n",
       "            6.0568e-04, -5.8254e-04],\n",
       "          [ 2.1323e-02,  2.3070e-02, -9.8167e-01,  ...,  4.0590e-04,\n",
       "           -5.8678e-04,  3.2389e-05],\n",
       "          ...,\n",
       "          [-1.8449e-04, -6.3007e-04,  1.0214e-03,  ...,  1.8347e-01,\n",
       "            9.5948e-02,  2.7991e-02],\n",
       "          [-2.3775e-04, -3.3348e-04, -9.7867e-04,  ..., -5.5413e-01,\n",
       "           -4.4654e-01,  8.0607e-02],\n",
       "          [ 5.7872e-04,  4.6091e-04,  2.5833e-04,  ...,  5.8839e-01,\n",
       "           -3.4373e-01, -1.0589e-01]]], device='cuda:0', grad_fn=<CatBackward0>),\n",
       " 'Pxy': tensor([[[2.2265e-02, 9.9785e-02, 5.0449e-05,  ..., 1.3508e-06,\n",
       "           1.9450e-06, 6.0266e-06],\n",
       "          [1.7295e-02, 3.3205e-03, 3.6084e-06,  ..., 1.0539e-06,\n",
       "           3.9036e-06, 1.4769e-06],\n",
       "          [3.2871e-03, 1.5020e-06, 3.7645e-05,  ..., 1.4602e-06,\n",
       "           4.2152e-06, 1.3348e-06],\n",
       "          ...,\n",
       "          [6.3421e-04, 1.2855e-05, 6.5062e-07,  ..., 4.9038e-06,\n",
       "           4.5377e-06, 8.8722e-06],\n",
       "          [2.8901e-07, 2.2497e-07, 9.9861e-07,  ..., 9.3150e-03,\n",
       "           9.6462e-03, 2.1663e-03],\n",
       "          [1.8748e-06, 3.3696e-07, 8.0829e-06,  ..., 6.1473e-03,\n",
       "           3.2080e-03, 3.7175e-02]]], device='cuda:0', grad_fn=<ExpBackward0>),\n",
       " 'Pyx': tensor([[[7.0805e-03, 1.2651e-02, 2.0162e-03,  ..., 6.2233e-05,\n",
       "           6.3444e-07, 1.1030e-06],\n",
       "          [1.6102e-01, 1.2324e-02, 4.6750e-06,  ..., 6.4009e-06,\n",
       "           2.5060e-06, 1.0059e-06],\n",
       "          [7.4244e-05, 1.2214e-05, 1.0685e-04,  ..., 2.9544e-07,\n",
       "           1.0145e-05, 2.2006e-05],\n",
       "          ...,\n",
       "          [5.1509e-07, 9.2433e-07, 1.0739e-06,  ..., 5.7696e-07,\n",
       "           2.4518e-02, 4.3363e-03],\n",
       "          [7.6805e-07, 3.5455e-06, 3.2105e-06,  ..., 5.5290e-07,\n",
       "           2.6294e-02, 2.3435e-03],\n",
       "          [1.4309e-06, 8.0655e-07, 6.1125e-07,  ..., 6.4999e-07,\n",
       "           3.5505e-03, 1.6329e-02]]], device='cuda:0', grad_fn=<ExpBackward0>)}"
      ]
     },
     "execution_count": 14,
     "metadata": {},
     "output_type": "execute_result"
    }
   ],
   "source": [
    "infer = urssm(data)\n",
    "infer"
   ]
  },
  {
   "cell_type": "markdown",
   "id": "24e0fa34",
   "metadata": {},
   "source": [
    "## Loss"
   ]
  },
  {
   "cell_type": "code",
   "execution_count": 15,
   "id": "d3913d67",
   "metadata": {},
   "outputs": [
    {
     "data": {
      "text/plain": [
       "{'MSELoss': torch.nn.modules.loss.MSELoss,\n",
       " 'SquaredFrobeniusLoss': src.loss.fmap.SquaredFrobeniusLoss,\n",
       " 'SURFMNetLoss': src.loss.fmap.SURFMNetLoss,\n",
       " 'SURFMNetLoss_wrap': src.loss.fmap.SURFMNetLoss_wrap,\n",
       " 'SpatialSpectralAlignmentLoss': src.loss.fmap.SpatialSpectralAlignmentLoss,\n",
       " 'SpatialSpectralAlignmentLoss_wrap': src.loss.fmap.SpatialSpectralAlignmentLoss_wrap,\n",
       " 'PartialFmapsLoss': src.loss.fmap.PartialFmapsLoss,\n",
       " 'DirichletLoss': src.loss.dirichlet.DirichletLoss,\n",
       " 'CompositeLoss': src.loss.composite.CompositeLoss}"
      ]
     },
     "execution_count": 15,
     "metadata": {},
     "output_type": "execute_result"
    }
   ],
   "source": [
    "from src.infra.registry import LOSS_REGISTRY\n",
    "LOSS_REGISTRY"
   ]
  },
  {
   "cell_type": "code",
   "execution_count": 16,
   "id": "2bdf5437",
   "metadata": {},
   "outputs": [
    {
     "data": {
      "text/plain": [
       "{'surfm_loss': {'fn': SURFMNetLoss_wrap(\n",
       "    (squared_frobenius): SquaredFrobeniusLoss()\n",
       "  ),\n",
       "  'weight': 1.0},\n",
       " 'align_loss': {'fn': SpatialSpectralAlignmentLoss_wrap(\n",
       "    (squared_frobenius): SquaredFrobeniusLoss()\n",
       "  ),\n",
       "  'weight': 1.0}}"
      ]
     },
     "execution_count": 16,
     "metadata": {},
     "output_type": "execute_result"
    }
   ],
   "source": [
    "loss_dict = {}\n",
    "\n",
    "for name, loss in opt.train.loss.items():\n",
    "    loss_dict[name] = {\n",
    "        'fn': LOSS_REGISTRY[loss['name']](**loss['args']).to(device),\n",
    "        'weight': loss['weight'],\n",
    "    }\n",
    "\n",
    "loss_dict"
   ]
  },
  {
   "cell_type": "code",
   "execution_count": 17,
   "id": "a1a08a63",
   "metadata": {},
   "outputs": [
    {
     "name": "stdout",
     "output_type": "stream",
     "text": [
      "surfm_loss tensor(57.3256, device='cuda:0', grad_fn=<AddBackward0>)\n",
      "align_loss tensor(49.5927, device='cuda:0', grad_fn=<AddBackward0>)\n"
     ]
    }
   ],
   "source": [
    "for name, loss in loss_dict.items():\n",
    "    print(name, loss['fn'](infer, data))"
   ]
  },
  {
   "cell_type": "markdown",
   "id": "1f4f946a",
   "metadata": {},
   "source": [
    "## Metrics"
   ]
  },
  {
   "cell_type": "code",
   "execution_count": 18,
   "id": "abf7c7ab",
   "metadata": {},
   "outputs": [
    {
     "data": {
      "text/plain": [
       "{'L1Loss': torch.nn.modules.loss.L1Loss,\n",
       " 'MSELoss': torch.nn.modules.loss.MSELoss,\n",
       " 'MeanDiffRatio': src.metric.stats.MeanDiffRatio,\n",
       " 'StdDiffRatio': src.metric.stats.StdDiffRatio,\n",
       " 'calculate_geodesic_error': <function src.metric.geodist.calculate_geodesic_error(dist_x, corr_x, corr_y, p2p, return_mean=True)>,\n",
       " 'GeodesicDist': src.metric.geodist.GeodesicDist,\n",
       " 'plot_pck': <function src.metric.geodist.plot_pck(geo_err, threshold=0.1, steps=40)>}"
      ]
     },
     "execution_count": 18,
     "metadata": {},
     "output_type": "execute_result"
    }
   ],
   "source": [
    "from src.infra.registry import METRIC_REGISTRY\n",
    "METRIC_REGISTRY"
   ]
  },
  {
   "cell_type": "code",
   "execution_count": 19,
   "id": "807d1147",
   "metadata": {},
   "outputs": [
    {
     "data": {
      "text/plain": [
       "{'geodist': GeodesicDist()}"
      ]
     },
     "execution_count": 19,
     "metadata": {},
     "output_type": "execute_result"
    }
   ],
   "source": [
    "metric_dict = {}\n",
    "\n",
    "for name, metric in opt.train.metric.items():\n",
    "    metric_dict[name] = METRIC_REGISTRY[metric['name']](**metric['args']).to(device)\n",
    "\n",
    "metric_dict"
   ]
  },
  {
   "cell_type": "code",
   "execution_count": 20,
   "id": "6467308f",
   "metadata": {},
   "outputs": [
    {
     "name": "stdout",
     "output_type": "stream",
     "text": [
      "geodist 0.017233284190297127\n"
     ]
    }
   ],
   "source": [
    "for name, metric in metric_dict.items():\n",
    "    print(name, metric(infer, data))"
   ]
  },
  {
   "cell_type": "markdown",
   "id": "3dc1afff",
   "metadata": {},
   "source": [
    "## Training loop"
   ]
  },
  {
   "cell_type": "code",
   "execution_count": 21,
   "id": "c35aaf56",
   "metadata": {},
   "outputs": [
    {
     "data": {
      "text/plain": [
       "{'SGD': torch.optim.sgd.SGD,\n",
       " 'Adam': torch.optim.adam.Adam,\n",
       " 'AdamW': torch.optim.adamw.AdamW,\n",
       " 'RMSprop': torch.optim.rmsprop.RMSprop,\n",
       " 'Adagrad': torch.optim.adagrad.Adagrad,\n",
       " 'Adadelta': torch.optim.adadelta.Adadelta}"
      ]
     },
     "execution_count": 21,
     "metadata": {},
     "output_type": "execute_result"
    }
   ],
   "source": [
    "from src.infra.registry import OPTIMIZER_REGISTRY\n",
    "OPTIMIZER_REGISTRY"
   ]
  },
  {
   "cell_type": "code",
   "execution_count": 22,
   "id": "e6746169",
   "metadata": {},
   "outputs": [
    {
     "data": {
      "text/plain": [
       "Adam (\n",
       "Parameter Group 0\n",
       "    amsgrad: False\n",
       "    betas: (0.9, 0.999)\n",
       "    capturable: False\n",
       "    differentiable: False\n",
       "    eps: 1e-08\n",
       "    foreach: None\n",
       "    fused: False\n",
       "    lr: 0.001\n",
       "    maximize: False\n",
       "    weight_decay: 0\n",
       ")"
      ]
     },
     "execution_count": 22,
     "metadata": {},
     "output_type": "execute_result"
    }
   ],
   "source": [
    "optimizer = OPTIMIZER_REGISTRY[opt.train.optimizer.name](\n",
    "    params=urssm.parameters(),\n",
    "    **opt.train.optimizer.args,\n",
    ")\n",
    "optimizer"
   ]
  },
  {
   "cell_type": "code",
   "execution_count": 23,
   "id": "37b28c9a",
   "metadata": {},
   "outputs": [
    {
     "name": "stdout",
     "output_type": "stream",
     "text": [
      "batch 0 loss: 156.3905029296875\n",
      "batch 1 loss: 161.17811584472656\n",
      "batch 2 loss: 131.73617553710938\n",
      "batch 3 loss: 188.54330444335938\n",
      "batch 4 loss: 147.65383911132812\n",
      "batch 5 loss: 200.42495727539062\n",
      "batch 6 loss: 154.72117614746094\n",
      "batch 7 loss: 154.2474822998047\n",
      "batch 8 loss: 135.6914520263672\n",
      "batch 9 loss: 149.32748413085938\n",
      "batch 10 loss: 158.50827026367188\n",
      "batch 11 loss: 180.33425903320312\n"
     ]
    }
   ],
   "source": [
    "urssm.train()\n",
    "\n",
    "for batch, data in enumerate(dataloader):\n",
    "    data = to_device(data, device)\n",
    "    infer = urssm(data)\n",
    "    loss_val = 0\n",
    "    \n",
    "    for name, loss in loss_dict.items():\n",
    "        loss_value = loss['fn'](infer, data) * loss['weight']\n",
    "        loss_val += loss_value\n",
    "    \n",
    "    print(f'batch {batch} loss: {loss_val.item()}')\n",
    "\n",
    "    optimizer.zero_grad()\n",
    "    loss_val.backward()\n",
    "    optimizer.step()\n",
    "\n",
    "    if batch > 10:\n",
    "        break"
   ]
  },
  {
   "cell_type": "markdown",
   "id": "bd687fda",
   "metadata": {},
   "source": [
    "## Inference mode"
   ]
  },
  {
   "cell_type": "code",
   "execution_count": 24,
   "id": "56481c68",
   "metadata": {},
   "outputs": [
    {
     "data": {
      "text/plain": [
       "{'Cxy': tensor([[[-9.6680e-01, -7.6220e-03, -5.4017e-03,  ..., -3.8725e-04,\n",
       "            5.4300e-04, -1.3607e-04],\n",
       "          [-8.4055e-03,  9.5202e-01, -9.6099e-02,  ..., -3.6205e-04,\n",
       "            2.4001e-05, -6.0918e-04],\n",
       "          [ 4.7266e-03,  1.5281e-01,  9.4750e-01,  ..., -9.4869e-04,\n",
       "           -2.7597e-04, -2.7404e-04],\n",
       "          ...,\n",
       "          [-1.7067e-03, -5.2618e-05,  1.9227e-04,  ..., -8.9134e-02,\n",
       "            1.8322e-01,  1.3075e-01],\n",
       "          [-9.6023e-04, -8.8564e-04,  3.0949e-03,  ...,  3.2237e-03,\n",
       "            3.0350e-01,  2.2264e-01],\n",
       "          [-2.4657e-04,  1.4766e-03, -3.0290e-04,  ..., -2.8351e-02,\n",
       "           -1.3229e-01,  7.4403e-02]]], device='cuda:0', grad_fn=<CatBackward0>),\n",
       " 'Pyx': [tensor([[ 2.0774e-02,  3.1640e-02,  2.9294e-03,  ..., -4.9916e-05,\n",
       "            4.7147e-05,  4.9359e-05],\n",
       "          [ 2.2859e-02,  3.2898e-02,  5.4672e-03,  ..., -5.1118e-05,\n",
       "            1.1208e-05,  2.3583e-05],\n",
       "          [ 2.3053e-02,  3.3987e-02,  6.0531e-03,  ..., -5.9679e-05,\n",
       "            2.6104e-05,  3.3066e-05],\n",
       "          ...,\n",
       "          [ 9.6183e-05, -8.0668e-05,  2.9109e-04,  ..., -7.0455e-06,\n",
       "            4.6747e-06, -3.3915e-05],\n",
       "          [ 1.5896e-04,  5.3567e-06,  1.1429e-04,  ...,  3.2239e-05,\n",
       "           -1.6635e-05, -2.5725e-05],\n",
       "          [ 2.8416e-04,  3.2398e-04,  2.9972e-04,  ...,  1.6710e-05,\n",
       "            4.9154e-05, -4.5199e-05]], device='cuda:0')],\n",
       " 'p2p': [tensor([  46,   14,    1,  ..., 4936, 4269, 3244], device='cuda:0')]}"
      ]
     },
     "execution_count": 24,
     "metadata": {},
     "output_type": "execute_result"
    }
   ],
   "source": [
    "infer = urssm.inference(data)\n",
    "infer"
   ]
  }
 ],
 "metadata": {
  "kernelspec": {
   "display_name": "dongliang-cao-2023-cvpr",
   "language": "python",
   "name": "python3"
  },
  "language_info": {
   "codemirror_mode": {
    "name": "ipython",
    "version": 3
   },
   "file_extension": ".py",
   "mimetype": "text/x-python",
   "name": "python",
   "nbconvert_exporter": "python",
   "pygments_lexer": "ipython3",
   "version": "3.8.20"
  }
 },
 "nbformat": 4,
 "nbformat_minor": 5
}
