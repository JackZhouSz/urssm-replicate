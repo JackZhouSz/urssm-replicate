{
 "cells": [
  {
   "cell_type": "code",
   "execution_count": 1,
   "id": "6a1b804b",
   "metadata": {},
   "outputs": [],
   "source": [
    "import torch"
   ]
  },
  {
   "cell_type": "code",
   "execution_count": 3,
   "id": "b71c1fb1",
   "metadata": {},
   "outputs": [
    {
     "data": {
      "text/plain": [
       "(torch.Size([2, 200, 200]), torch.Size([2, 200, 200]))"
      ]
     },
     "execution_count": 3,
     "metadata": {},
     "output_type": "execute_result"
    }
   ],
   "source": [
    "Cxy, Cyx = torch.rand(2, 200, 200), torch.rand(2, 200, 200)\n",
    "Cxy.shape, Cyx.shape"
   ]
  },
  {
   "cell_type": "code",
   "execution_count": 7,
   "id": "ae14bec6",
   "metadata": {},
   "outputs": [
    {
     "data": {
      "text/plain": [
       "torch.Size([2, 200, 200])"
      ]
     },
     "execution_count": 7,
     "metadata": {},
     "output_type": "execute_result"
    }
   ],
   "source": [
    "(torch.bmm(Cxy, Cyx) - torch.eye(Cxy.shape[-2], Cxy.shape[-1])).shape"
   ]
  },
  {
   "cell_type": "code",
   "execution_count": 9,
   "id": "734cf1c5",
   "metadata": {},
   "outputs": [
    {
     "data": {
      "text/plain": [
       "tensor(0.)"
      ]
     },
     "execution_count": 9,
     "metadata": {},
     "output_type": "execute_result"
    }
   ],
   "source": [
    "((Cxy.transpose(1, 2) - Cxy.transpose(-2, -1))**2).mean()"
   ]
  },
  {
   "cell_type": "code",
   "execution_count": 13,
   "id": "3f035e06",
   "metadata": {},
   "outputs": [
    {
     "data": {
      "text/plain": [
       "tensor(False)"
      ]
     },
     "execution_count": 13,
     "metadata": {},
     "output_type": "execute_result"
    }
   ],
   "source": [
    "torch.inf < torch.tensor(1.0)"
   ]
  },
  {
   "cell_type": "code",
   "execution_count": null,
   "id": "a8a84ca4",
   "metadata": {},
   "outputs": [],
   "source": []
  }
 ],
 "metadata": {
  "kernelspec": {
   "display_name": "dongliang-cao-2023-cvpr",
   "language": "python",
   "name": "python3"
  },
  "language_info": {
   "codemirror_mode": {
    "name": "ipython",
    "version": 3
   },
   "file_extension": ".py",
   "mimetype": "text/x-python",
   "name": "python",
   "nbconvert_exporter": "python",
   "pygments_lexer": "ipython3",
   "version": "3.8.20"
  }
 },
 "nbformat": 4,
 "nbformat_minor": 5
}
