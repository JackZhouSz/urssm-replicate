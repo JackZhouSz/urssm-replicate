{
 "cells": [
  {
   "cell_type": "code",
   "execution_count": 1,
   "id": "6a1b804b",
   "metadata": {},
   "outputs": [],
   "source": [
    "import torch"
   ]
  },
  {
   "cell_type": "code",
   "execution_count": 2,
   "id": "b71c1fb1",
   "metadata": {},
   "outputs": [
    {
     "data": {
      "text/plain": [
       "(torch.Size([2, 200, 200]), torch.Size([2, 200, 200]))"
      ]
     },
     "execution_count": 2,
     "metadata": {},
     "output_type": "execute_result"
    }
   ],
   "source": [
    "Cxy, Cyx = torch.rand(2, 200, 200), torch.rand(2, 200, 200)\n",
    "Cxy.shape, Cyx.shape"
   ]
  },
  {
   "cell_type": "code",
   "execution_count": 3,
   "id": "ae14bec6",
   "metadata": {},
   "outputs": [
    {
     "data": {
      "text/plain": [
       "torch.Size([2, 200, 200])"
      ]
     },
     "execution_count": 3,
     "metadata": {},
     "output_type": "execute_result"
    }
   ],
   "source": [
    "(torch.bmm(Cxy, Cyx) - torch.eye(Cxy.shape[-2], Cxy.shape[-1])).shape"
   ]
  },
  {
   "cell_type": "code",
   "execution_count": 4,
   "id": "734cf1c5",
   "metadata": {},
   "outputs": [
    {
     "data": {
      "text/plain": [
       "tensor(0.)"
      ]
     },
     "execution_count": 4,
     "metadata": {},
     "output_type": "execute_result"
    }
   ],
   "source": [
    "((Cxy.transpose(1, 2) - Cxy.transpose(-2, -1))**2).mean()"
   ]
  },
  {
   "cell_type": "code",
   "execution_count": 5,
   "id": "3f035e06",
   "metadata": {},
   "outputs": [
    {
     "data": {
      "text/plain": [
       "tensor(False)"
      ]
     },
     "execution_count": 5,
     "metadata": {},
     "output_type": "execute_result"
    }
   ],
   "source": [
    "torch.inf < torch.tensor(1.0)"
   ]
  },
  {
   "cell_type": "code",
   "execution_count": 14,
   "id": "a8a84ca4",
   "metadata": {},
   "outputs": [
    {
     "data": {
      "text/plain": [
       "'config.yaml'"
      ]
     },
     "execution_count": 14,
     "metadata": {},
     "output_type": "execute_result"
    }
   ],
   "source": [
    "from pathlib import Path\n",
    "opt_path = Path('config/config.yaml')\n",
    "opt_path.name"
   ]
  },
  {
   "cell_type": "code",
   "execution_count": 13,
   "id": "96287e14",
   "metadata": {},
   "outputs": [
    {
     "data": {
      "text/plain": [
       "str"
      ]
     },
     "execution_count": 13,
     "metadata": {},
     "output_type": "execute_result"
    }
   ],
   "source": [
    "import os\n",
    "\n",
    "type(os.path.join('test', 'test'))"
   ]
  },
  {
   "cell_type": "code",
   "execution_count": 9,
   "id": "33eb022e",
   "metadata": {},
   "outputs": [
    {
     "name": "stdout",
     "output_type": "stream",
     "text": [
      "20250614-161834\n"
     ]
    }
   ],
   "source": [
    "import time\n",
    "\n",
    "formatted_time = time.strftime('%Y%m%d-%H%M%S')\n",
    "print(formatted_time)"
   ]
  },
  {
   "cell_type": "code",
   "execution_count": 16,
   "id": "438cd394",
   "metadata": {},
   "outputs": [],
   "source": [
    "import sys\n",
    "sys.path.append('..')"
   ]
  },
  {
   "cell_type": "code",
   "execution_count": 17,
   "id": "ff75c1e8",
   "metadata": {},
   "outputs": [
    {
     "name": "stdout",
     "output_type": "stream",
     "text": [
      "Jupyter environment detected. Enabling Open3D WebVisualizer.\n",
      "[Open3D INFO] WebRTC GUI backend enabled.\n",
      "[Open3D INFO] WebRTCWindowSystem: HTTP handshake server disabled.\n"
     ]
    },
    {
     "data": {
      "text/plain": [
       "CfgNode({'device_select': 'auto', 'network': CfgNode({'name': 'URSSM', 'feature_extractor': CfgNode({'name': 'DiffusionNet', 'args': CfgNode({'in_channels': 128, 'out_channels': 256, 'cache_dir': 'data/FAUST_r/diffusion', 'input_type': 'wks'})}), 'fm_solver': CfgNode({'name': 'RegularizedFMNet', 'args': CfgNode({})}), 'permutation': CfgNode({'name': 'Similarity', 'args': CfgNode({'tau': 0.07})})}), 'train': CfgNode({'script': 'TrainScript', 'dataset': CfgNode({'train': CfgNode({'name': 'PairFaustDataset', 'args': CfgNode({'phase': 'train', 'data_root': 'data/FAUST_r/', 'return_evecs': True, 'return_faces': True, 'num_evecs': 200, 'return_corr': False, 'return_dist': False}), 'dataloader': CfgNode({'name': 'DataLoader', 'args': CfgNode({'batch_size': 1, 'shuffle': True})})}), 'test': CfgNode({'name': 'PairFaustDataset', 'args': CfgNode({'phase': 'test', 'data_root': 'data/FAUST_r/', 'return_evecs': True, 'return_faces': True, 'num_evecs': 200, 'return_corr': True, 'return_dist': True}), 'dataloader': CfgNode({'name': 'DataLoader', 'args': CfgNode({'batch_size': 1, 'shuffle': True})})})}), 'loss': CfgNode({'bij_loss': CfgNode({'name': 'BijectivityLoss', 'weight': 1.0, 'args': CfgNode({})}), 'orth_loss': CfgNode({'name': 'OrthogonalityLoss', 'weight': 1.0, 'args': CfgNode({})}), 'align_loss': CfgNode({'name': 'SpatialSpectralAlignmentLoss', 'weight': 1.0, 'args': CfgNode({})})}), 'metric': CfgNode({'geodist': CfgNode({'name': 'GeodesicDist', 'need_writer': True, 'args': CfgNode({})})}), 'optimizer': CfgNode({'name': 'Adam', 'epochs': 1, 'args': CfgNode({'lr': 0.001})}), 'test_interval': 500, 'checkpoint_interval': 500, 'save_best': 'geodist'})})"
      ]
     },
     "execution_count": 17,
     "metadata": {},
     "output_type": "execute_result"
    }
   ],
   "source": [
    "from src.infra import config\n",
    "\n",
    "opt = config.load_config('../config/test.yaml')\n",
    "opt"
   ]
  },
  {
   "cell_type": "code",
   "execution_count": 22,
   "id": "1cdf75aa",
   "metadata": {},
   "outputs": [
    {
     "data": {
      "text/plain": [
       "{}"
      ]
     },
     "execution_count": 22,
     "metadata": {},
     "output_type": "execute_result"
    }
   ],
   "source": [
    "dict(opt.train.metric.geodist.args)"
   ]
  },
  {
   "cell_type": "code",
   "execution_count": null,
   "id": "cf10af3b",
   "metadata": {},
   "outputs": [],
   "source": []
  }
 ],
 "metadata": {
  "kernelspec": {
   "display_name": "dongliang-cao-2023-cvpr",
   "language": "python",
   "name": "python3"
  },
  "language_info": {
   "codemirror_mode": {
    "name": "ipython",
    "version": 3
   },
   "file_extension": ".py",
   "mimetype": "text/x-python",
   "name": "python",
   "nbconvert_exporter": "python",
   "pygments_lexer": "ipython3",
   "version": "3.8.20"
  }
 },
 "nbformat": 4,
 "nbformat_minor": 5
}
