{
 "cells": [
  {
   "cell_type": "code",
   "execution_count": 1,
   "id": "71dbd62c",
   "metadata": {},
   "outputs": [],
   "source": [
    "%reload_ext autoreload\n",
    "%autoreload 2"
   ]
  },
  {
   "cell_type": "code",
   "execution_count": 2,
   "id": "412f9aea",
   "metadata": {},
   "outputs": [],
   "source": [
    "import sys\n",
    "sys.path.append('..')"
   ]
  },
  {
   "cell_type": "code",
   "execution_count": 3,
   "id": "7452df68",
   "metadata": {},
   "outputs": [
    {
     "name": "stdout",
     "output_type": "stream",
     "text": [
      "Jupyter environment detected. Enabling Open3D WebVisualizer.\n",
      "[Open3D INFO] WebRTC GUI backend enabled.\n",
      "[Open3D INFO] WebRTCWindowSystem: HTTP handshake server disabled.\n"
     ]
    }
   ],
   "source": [
    "from src import dataset"
   ]
  },
  {
   "cell_type": "code",
   "execution_count": 4,
   "id": "045c5b1c",
   "metadata": {},
   "outputs": [
    {
     "data": {
      "text/plain": [
       "{'Dataset': torch.utils.data.dataset.Dataset,\n",
       " 'SingleFaustDataset': src.dataset.shape_cor.SingleFaustDataset,\n",
       " 'SingleScapeDataset': src.dataset.shape_cor.SingleScapeDataset,\n",
       " 'SingleShrec19Dataset': src.dataset.shape_cor.SingleShrec19Dataset,\n",
       " 'PairDataset': src.dataset.shape_cor.PairDataset,\n",
       " 'PairFaustDataset': src.dataset.shape_cor.PairFaustDataset,\n",
       " 'PairScapeDataset': src.dataset.shape_cor.PairScapeDataset,\n",
       " 'PairSurrealDataset': src.dataset.shape_cor.PairSurrealDataset,\n",
       " 'PairShrec19Dataset': src.dataset.shape_cor.PairShrec19Dataset}"
      ]
     },
     "execution_count": 4,
     "metadata": {},
     "output_type": "execute_result"
    }
   ],
   "source": [
    "from src.tool.registry import DATASET_REGISTRY\n",
    "DATASET_REGISTRY"
   ]
  },
  {
   "cell_type": "code",
   "execution_count": 5,
   "id": "290a0ed4",
   "metadata": {},
   "outputs": [],
   "source": [
    "dataset = DATASET_REGISTRY['PairFaustDataset'](\n",
    "    phase='train',\n",
    "    data_root='../data/FAUST_aligned/',\n",
    "    return_evecs='true',\n",
    "    return_faces='true',\n",
    "    num_evecs=80,\n",
    "    return_corr='false',\n",
    "    return_dist='false',\n",
    ")"
   ]
  },
  {
   "cell_type": "code",
   "execution_count": 6,
   "id": "ed27e507",
   "metadata": {},
   "outputs": [],
   "source": [
    "import os\n",
    "import shutil\n",
    "import scipy.io as sio\n",
    "from src.util.tensor import to_numpy\n",
    "from src.util.texture import write_obj_with_texture\n",
    " \n",
    "data = dataset[0]\n",
    "visual_path = 'output'\n",
    "\n",
    "data_x, data_y = data['first'], data['second']\n",
    "name_x, name_y = data['first']['name'][0], data['second']['name'][0]\n",
    "verts_x, verts_y = to_numpy(data_x['verts']), to_numpy(data_y['verts'])\n",
    "faces_x, faces_y = to_numpy(data_x['faces']), to_numpy(data_y['faces'])\n",
    "\n",
    "write_obj_with_texture(verts_x, faces_x, 'output/x.obj', uv=None, texture_name='output/texture.png')\n",
    "write_obj_with_texture(verts_y, faces_y, 'output/y.obj', uv=None, texture_name='output/texture.png')"
   ]
  }
 ],
 "metadata": {
  "kernelspec": {
   "display_name": "dongliang-cao-2023-cvpr",
   "language": "python",
   "name": "python3"
  },
  "language_info": {
   "codemirror_mode": {
    "name": "ipython",
    "version": 3
   },
   "file_extension": ".py",
   "mimetype": "text/x-python",
   "name": "python",
   "nbconvert_exporter": "python",
   "pygments_lexer": "ipython3",
   "version": "3.8.20"
  }
 },
 "nbformat": 4,
 "nbformat_minor": 5
}
