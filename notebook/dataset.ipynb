{
 "cells": [
  {
   "cell_type": "code",
   "execution_count": 1,
   "id": "71dbd62c",
   "metadata": {},
   "outputs": [],
   "source": [
    "%reload_ext autoreload\n",
    "%autoreload 2"
   ]
  },
  {
   "cell_type": "code",
   "execution_count": 2,
   "id": "412f9aea",
   "metadata": {},
   "outputs": [],
   "source": [
    "import sys\n",
    "sys.path.append('..')"
   ]
  },
  {
   "cell_type": "code",
   "execution_count": 3,
   "id": "7452df68",
   "metadata": {},
   "outputs": [
    {
     "name": "stdout",
     "output_type": "stream",
     "text": [
      "successfully imported src.metric.stats\n",
      "successfully imported src.metric.sample\n",
      "successfully imported src.metric\n",
      "successfully imported src.model.pos_emb\n",
      "successfully imported src.model\n",
      "successfully imported src.model.mlp\n",
      "successfully imported src.optimizer\n",
      "successfully imported src.loss\n",
      "successfully imported src.tool.script\n",
      "successfully imported src.tool.registry\n",
      "successfully imported src.tool.config\n",
      "successfully imported src.tool\n",
      "successfully imported src.tool.visual\n",
      "successfully imported src.dataloader\n",
      "successfully imported src.dataset\n",
      "successfully imported src.util.misc\n",
      "successfully imported src.util.geometry\n",
      "Jupyter environment detected. Enabling Open3D WebVisualizer.\n",
      "[Open3D INFO] WebRTC GUI backend enabled.\n",
      "[Open3D INFO] WebRTCWindowSystem: HTTP handshake server disabled.\n",
      "successfully imported src.util.shape\n"
     ]
    }
   ],
   "source": [
    "from src import dataset"
   ]
  },
  {
   "cell_type": "code",
   "execution_count": 4,
   "id": "045c5b1c",
   "metadata": {},
   "outputs": [
    {
     "data": {
      "text/plain": [
       "{'Dataset': torch.utils.data.dataset.Dataset}"
      ]
     },
     "execution_count": 4,
     "metadata": {},
     "output_type": "execute_result"
    }
   ],
   "source": [
    "from src.tool.registry import DATASET_REGISTRY\n",
    "DATASET_REGISTRY"
   ]
  },
  {
   "cell_type": "code",
   "execution_count": null,
   "id": "4e6c45db",
   "metadata": {},
   "outputs": [],
   "source": []
  }
 ],
 "metadata": {
  "kernelspec": {
   "display_name": "dongliang-cao-2023-cvpr",
   "language": "python",
   "name": "python3"
  },
  "language_info": {
   "codemirror_mode": {
    "name": "ipython",
    "version": 3
   },
   "file_extension": ".py",
   "mimetype": "text/x-python",
   "name": "python",
   "nbconvert_exporter": "python",
   "pygments_lexer": "ipython3",
   "version": "3.8.20"
  }
 },
 "nbformat": 4,
 "nbformat_minor": 5
}
