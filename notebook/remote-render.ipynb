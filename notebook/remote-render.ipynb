{
 "cells": [
  {
   "cell_type": "code",
   "execution_count": 3,
   "id": "d0c7ebb9",
   "metadata": {},
   "outputs": [],
   "source": [
    "import pyvista as pv\n",
    "pv.set_jupyter_backend('html')"
   ]
  },
  {
   "cell_type": "markdown",
   "id": "9d0d5629",
   "metadata": {},
   "source": [
    "## Init weights"
   ]
  },
  {
   "cell_type": "code",
   "execution_count": 6,
   "id": "c6e9ecb2",
   "metadata": {},
   "outputs": [
    {
     "data": {
      "application/vnd.jupyter.widget-view+json": {
       "model_id": "fd732fb02e224514a73dfe02ce8119f8",
       "version_major": 2,
       "version_minor": 0
      },
      "text/plain": [
       "EmbeddableWidget(value='<iframe srcdoc=\"<!DOCTYPE html>\\n<html>\\n  <head>\\n    <meta http-equiv=&quot;Content-…"
      ]
     },
     "metadata": {},
     "output_type": "display_data"
    }
   ],
   "source": [
    "# example\n",
    "pl = pv.Plotter()\n",
    "pl.add_mesh(\n",
    "    mesh=pv.read('output/init/tr_reg_000.obj'),\n",
    "    texture=pv.read_texture('output/texture.png'),\n",
    ")\n",
    "pl.show()"
   ]
  },
  {
   "cell_type": "code",
   "execution_count": 7,
   "id": "2924be45",
   "metadata": {},
   "outputs": [
    {
     "data": {
      "application/vnd.jupyter.widget-view+json": {
       "model_id": "d0b7704b62f641609185b925852caea7",
       "version_major": 2,
       "version_minor": 0
      },
      "text/plain": [
       "EmbeddableWidget(value='<iframe srcdoc=\"<!DOCTYPE html>\\n<html>\\n  <head>\\n    <meta http-equiv=&quot;Content-…"
      ]
     },
     "metadata": {},
     "output_type": "display_data"
    }
   ],
   "source": [
    "# example\n",
    "pl = pv.Plotter()\n",
    "pl.add_mesh(\n",
    "    mesh=pv.read('output/init/tr_reg_000-tr_reg_001.obj'),\n",
    "    texture=pv.read_texture('output/texture.png'),\n",
    ")\n",
    "pl.show()"
   ]
  },
  {
   "cell_type": "markdown",
   "id": "4d46cf56",
   "metadata": {},
   "source": [
    "## Pretrain weights"
   ]
  },
  {
   "cell_type": "code",
   "execution_count": 8,
   "id": "23ed3902",
   "metadata": {},
   "outputs": [
    {
     "data": {
      "application/vnd.jupyter.widget-view+json": {
       "model_id": "1d17b5a7873d44a39fb496bb56a70fdb",
       "version_major": 2,
       "version_minor": 0
      },
      "text/plain": [
       "EmbeddableWidget(value='<iframe srcdoc=\"<!DOCTYPE html>\\n<html>\\n  <head>\\n    <meta http-equiv=&quot;Content-…"
      ]
     },
     "metadata": {},
     "output_type": "display_data"
    }
   ],
   "source": [
    "# example\n",
    "pl = pv.Plotter()\n",
    "pl.add_mesh(\n",
    "    mesh=pv.read('output/pretrain/tr_reg_000.obj'),\n",
    "    texture=pv.read_texture('output/texture.png'),\n",
    ")\n",
    "pl.show()"
   ]
  },
  {
   "cell_type": "code",
   "execution_count": 9,
   "id": "8a5859a6",
   "metadata": {},
   "outputs": [
    {
     "data": {
      "application/vnd.jupyter.widget-view+json": {
       "model_id": "88380653b49a4d44afc5227140968891",
       "version_major": 2,
       "version_minor": 0
      },
      "text/plain": [
       "EmbeddableWidget(value='<iframe srcdoc=\"<!DOCTYPE html>\\n<html>\\n  <head>\\n    <meta http-equiv=&quot;Content-…"
      ]
     },
     "metadata": {},
     "output_type": "display_data"
    }
   ],
   "source": [
    "# example\n",
    "pl = pv.Plotter()\n",
    "pl.add_mesh(\n",
    "    mesh=pv.read('output/pretrain/tr_reg_000-tr_reg_001.obj'),\n",
    "    texture=pv.read_texture('output/texture.png'),\n",
    ")\n",
    "pl.show()"
   ]
  },
  {
   "cell_type": "code",
   "execution_count": null,
   "id": "dd8356b5",
   "metadata": {},
   "outputs": [],
   "source": []
  }
 ],
 "metadata": {
  "kernelspec": {
   "display_name": "vtk",
   "language": "python",
   "name": "python3"
  },
  "language_info": {
   "codemirror_mode": {
    "name": "ipython",
    "version": 3
   },
   "file_extension": ".py",
   "mimetype": "text/x-python",
   "name": "python",
   "nbconvert_exporter": "python",
   "pygments_lexer": "ipython3",
   "version": "3.9.21"
  }
 },
 "nbformat": 4,
 "nbformat_minor": 5
}
