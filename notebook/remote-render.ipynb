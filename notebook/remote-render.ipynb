{
 "cells": [
  {
   "cell_type": "code",
   "execution_count": 1,
   "id": "d0c7ebb9",
   "metadata": {},
   "outputs": [],
   "source": [
    "import pyvista as pv\n",
    "pv.set_jupyter_backend('html')"
   ]
  },
  {
   "cell_type": "markdown",
   "id": "9d0d5629",
   "metadata": {},
   "source": [
    "## Init weights"
   ]
  },
  {
   "cell_type": "markdown",
   "id": "1a311cb9",
   "metadata": {},
   "source": [
    "### Symbol grid texture"
   ]
  },
  {
   "cell_type": "code",
   "execution_count": 2,
   "id": "c6e9ecb2",
   "metadata": {},
   "outputs": [
    {
     "name": "stderr",
     "output_type": "stream",
     "text": [
      "\u001b[0m\u001b[33m2025-06-04 13:55:08.495 (   0.401s) [    70992C804440]vtkXOpenGLRenderWindow.:1416  WARN| bad X server connection. DISPLAY=\u001b[0m\n"
     ]
    },
    {
     "data": {
      "application/vnd.jupyter.widget-view+json": {
       "model_id": "a071f0149bce42789b9ee45c241a72a9",
       "version_major": 2,
       "version_minor": 0
      },
      "text/plain": [
       "EmbeddableWidget(value='<iframe srcdoc=\"<!DOCTYPE html>\\n<html>\\n  <head>\\n    <meta http-equiv=&quot;Content-…"
      ]
     },
     "metadata": {},
     "output_type": "display_data"
    }
   ],
   "source": [
    "pl = pv.Plotter()\n",
    "pl.add_mesh(\n",
    "    mesh=pv.read('output/init-sym-grid/tr_reg_000.obj'),\n",
    "    texture=pv.read_texture('output/init-sym-grid/texture-sym-grid.png'),\n",
    ")\n",
    "pl.show()"
   ]
  },
  {
   "cell_type": "code",
   "execution_count": 3,
   "id": "2924be45",
   "metadata": {},
   "outputs": [
    {
     "data": {
      "application/vnd.jupyter.widget-view+json": {
       "model_id": "eba358a28fa54d5aac9111ecda46cfb4",
       "version_major": 2,
       "version_minor": 0
      },
      "text/plain": [
       "EmbeddableWidget(value='<iframe srcdoc=\"<!DOCTYPE html>\\n<html>\\n  <head>\\n    <meta http-equiv=&quot;Content-…"
      ]
     },
     "metadata": {},
     "output_type": "display_data"
    }
   ],
   "source": [
    "pl = pv.Plotter()\n",
    "pl.add_mesh(\n",
    "    mesh=pv.read('output/init-sym-grid/tr_reg_000-tr_reg_001.obj'),\n",
    "    texture=pv.read_texture('output/init-sym-grid/texture-sym-grid.png'),\n",
    ")\n",
    "pl.show()"
   ]
  },
  {
   "cell_type": "markdown",
   "id": "61c9212e",
   "metadata": {},
   "source": [
    "### Color gradient texture"
   ]
  },
  {
   "cell_type": "code",
   "execution_count": 4,
   "id": "dcc2b586",
   "metadata": {},
   "outputs": [
    {
     "data": {
      "application/vnd.jupyter.widget-view+json": {
       "model_id": "1077c679a2814c83a14b0a8956b815a3",
       "version_major": 2,
       "version_minor": 0
      },
      "text/plain": [
       "EmbeddableWidget(value='<iframe srcdoc=\"<!DOCTYPE html>\\n<html>\\n  <head>\\n    <meta http-equiv=&quot;Content-…"
      ]
     },
     "metadata": {},
     "output_type": "display_data"
    }
   ],
   "source": [
    "pl = pv.Plotter()\n",
    "pl.add_mesh(\n",
    "    mesh=pv.read('output/init-clr-grad/tr_reg_000.obj'),\n",
    "    texture=pv.read_texture('output/init-clr-grad/texture-clr-grad.png'),\n",
    ")\n",
    "pl.show()"
   ]
  },
  {
   "cell_type": "code",
   "execution_count": 5,
   "id": "9c491082",
   "metadata": {},
   "outputs": [
    {
     "data": {
      "application/vnd.jupyter.widget-view+json": {
       "model_id": "48b85c031288473e959661e878c82c77",
       "version_major": 2,
       "version_minor": 0
      },
      "text/plain": [
       "EmbeddableWidget(value='<iframe srcdoc=\"<!DOCTYPE html>\\n<html>\\n  <head>\\n    <meta http-equiv=&quot;Content-…"
      ]
     },
     "metadata": {},
     "output_type": "display_data"
    }
   ],
   "source": [
    "pl = pv.Plotter()\n",
    "pl.add_mesh(\n",
    "    mesh=pv.read('output/init-clr-grad/tr_reg_000-tr_reg_001.obj'),\n",
    "    texture=pv.read_texture('output/init-clr-grad/texture-clr-grad.png'),\n",
    ")\n",
    "pl.show()"
   ]
  },
  {
   "cell_type": "markdown",
   "id": "4d46cf56",
   "metadata": {},
   "source": [
    "## Pretrain weights"
   ]
  },
  {
   "cell_type": "markdown",
   "id": "f71594e4",
   "metadata": {},
   "source": [
    "### Symbol grid texture"
   ]
  },
  {
   "cell_type": "code",
   "execution_count": 2,
   "id": "23ed3902",
   "metadata": {},
   "outputs": [
    {
     "name": "stderr",
     "output_type": "stream",
     "text": [
      "\u001b[0m\u001b[33m2025-06-04 15:15:31.711 (   6.023s) [    731E5A2F5440]vtkXOpenGLRenderWindow.:1416  WARN| bad X server connection. DISPLAY=\u001b[0m\n"
     ]
    },
    {
     "data": {
      "application/vnd.jupyter.widget-view+json": {
       "model_id": "95b5ab9d283048dd8fe19cd1d436d132",
       "version_major": 2,
       "version_minor": 0
      },
      "text/plain": [
       "EmbeddableWidget(value='<iframe srcdoc=\"<!DOCTYPE html>\\n<html>\\n  <head>\\n    <meta http-equiv=&quot;Content-…"
      ]
     },
     "metadata": {},
     "output_type": "display_data"
    }
   ],
   "source": [
    "pl = pv.Plotter()\n",
    "pl.add_mesh(\n",
    "    mesh=pv.read('output/pretrain-sym-grid/tr_reg_000.obj'),\n",
    "    texture=pv.read_texture('output/pretrain-sym-grid/texture-sym-grid.png'),\n",
    ")\n",
    "pl.show()"
   ]
  },
  {
   "cell_type": "code",
   "execution_count": 4,
   "id": "8a5859a6",
   "metadata": {},
   "outputs": [
    {
     "data": {
      "application/vnd.jupyter.widget-view+json": {
       "model_id": "4b693b38d6ad4b868df9021f3c35c947",
       "version_major": 2,
       "version_minor": 0
      },
      "text/plain": [
       "EmbeddableWidget(value='<iframe srcdoc=\"<!DOCTYPE html>\\n<html>\\n  <head>\\n    <meta http-equiv=&quot;Content-…"
      ]
     },
     "metadata": {},
     "output_type": "display_data"
    }
   ],
   "source": [
    "pl = pv.Plotter()\n",
    "pl.add_mesh(\n",
    "    mesh=pv.read('output/pretrain-sym-grid/tr_reg_000-tr_reg_001.obj'),\n",
    "    texture=pv.read_texture('output/pretrain-sym-grid/texture-sym-grid.png'),\n",
    ")\n",
    "pl.show()"
   ]
  },
  {
   "cell_type": "markdown",
   "id": "da72bf02",
   "metadata": {},
   "source": [
    "### Color gradient texture"
   ]
  },
  {
   "cell_type": "code",
   "execution_count": 8,
   "id": "dba9780f",
   "metadata": {},
   "outputs": [
    {
     "data": {
      "application/vnd.jupyter.widget-view+json": {
       "model_id": "5fbd6359b4ce4fbaaf097cc624535864",
       "version_major": 2,
       "version_minor": 0
      },
      "text/plain": [
       "EmbeddableWidget(value='<iframe srcdoc=\"<!DOCTYPE html>\\n<html>\\n  <head>\\n    <meta http-equiv=&quot;Content-…"
      ]
     },
     "metadata": {},
     "output_type": "display_data"
    }
   ],
   "source": [
    "pl = pv.Plotter()\n",
    "pl.add_mesh(\n",
    "    mesh=pv.read('output/pretrain-clr-grad/tr_reg_000.obj'),\n",
    "    texture=pv.read_texture('output/pretrain-clr-grad/texture-clr-grad.png'),\n",
    ")\n",
    "pl.show()"
   ]
  },
  {
   "cell_type": "code",
   "execution_count": 9,
   "id": "dd8356b5",
   "metadata": {},
   "outputs": [
    {
     "data": {
      "application/vnd.jupyter.widget-view+json": {
       "model_id": "6924499eee3848b59863b3c926c1ccbe",
       "version_major": 2,
       "version_minor": 0
      },
      "text/plain": [
       "EmbeddableWidget(value='<iframe srcdoc=\"<!DOCTYPE html>\\n<html>\\n  <head>\\n    <meta http-equiv=&quot;Content-…"
      ]
     },
     "metadata": {},
     "output_type": "display_data"
    }
   ],
   "source": [
    "pl = pv.Plotter()\n",
    "pl.add_mesh(\n",
    "    mesh=pv.read('output/pretrain-clr-grad/tr_reg_000-tr_reg_001.obj'),\n",
    "    texture=pv.read_texture('output/pretrain-clr-grad/texture-clr-grad.png'),\n",
    ")\n",
    "pl.show()"
   ]
  },
  {
   "cell_type": "markdown",
   "id": "4031046e",
   "metadata": {},
   "source": [
    "### Symbol grid texture with test-time adaptation"
   ]
  },
  {
   "cell_type": "code",
   "execution_count": 10,
   "id": "decc5011",
   "metadata": {},
   "outputs": [
    {
     "data": {
      "application/vnd.jupyter.widget-view+json": {
       "model_id": "6c6a0db968e94ff690c157c92ab7be89",
       "version_major": 2,
       "version_minor": 0
      },
      "text/plain": [
       "EmbeddableWidget(value='<iframe srcdoc=\"<!DOCTYPE html>\\n<html>\\n  <head>\\n    <meta http-equiv=&quot;Content-…"
      ]
     },
     "metadata": {},
     "output_type": "display_data"
    }
   ],
   "source": [
    "pl = pv.Plotter()\n",
    "pl.add_mesh(\n",
    "    mesh=pv.read('output/pretrain-sym-grid/refine/tr_reg_000.obj'),\n",
    "    texture=pv.read_texture('output/pretrain-sym-grid/refine/texture-sym-grid.png'),\n",
    ")\n",
    "pl.show()"
   ]
  },
  {
   "cell_type": "code",
   "execution_count": 11,
   "id": "23736db4",
   "metadata": {},
   "outputs": [
    {
     "data": {
      "application/vnd.jupyter.widget-view+json": {
       "model_id": "98295037072e4db28a46133042f8ceb3",
       "version_major": 2,
       "version_minor": 0
      },
      "text/plain": [
       "EmbeddableWidget(value='<iframe srcdoc=\"<!DOCTYPE html>\\n<html>\\n  <head>\\n    <meta http-equiv=&quot;Content-…"
      ]
     },
     "metadata": {},
     "output_type": "display_data"
    }
   ],
   "source": [
    "pl = pv.Plotter()\n",
    "pl.add_mesh(\n",
    "    mesh=pv.read('output/pretrain-sym-grid/refine/tr_reg_000-tr_reg_001.obj'),\n",
    "    texture=pv.read_texture('output/pretrain-sym-grid/refine/texture-sym-grid.png'),\n",
    ")\n",
    "pl.show()"
   ]
  },
  {
   "cell_type": "code",
   "execution_count": null,
   "id": "f472804c",
   "metadata": {},
   "outputs": [],
   "source": []
  }
 ],
 "metadata": {
  "kernelspec": {
   "display_name": "vtk",
   "language": "python",
   "name": "python3"
  },
  "language_info": {
   "codemirror_mode": {
    "name": "ipython",
    "version": 3
   },
   "file_extension": ".py",
   "mimetype": "text/x-python",
   "name": "python",
   "nbconvert_exporter": "python",
   "pygments_lexer": "ipython3",
   "version": "3.9.21"
  }
 },
 "nbformat": 4,
 "nbformat_minor": 5
}
