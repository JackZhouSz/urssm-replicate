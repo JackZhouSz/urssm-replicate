{
 "cells": [
  {
   "cell_type": "code",
   "execution_count": 1,
   "id": "d0c7ebb9",
   "metadata": {},
   "outputs": [],
   "source": [
    "import pyvista as pv\n",
    "pv.set_jupyter_backend('html')"
   ]
  },
  {
   "cell_type": "markdown",
   "id": "9d0d5629",
   "metadata": {},
   "source": [
    "## Init weights"
   ]
  },
  {
   "cell_type": "markdown",
   "id": "1a311cb9",
   "metadata": {},
   "source": [
    "### Symbol grid texture"
   ]
  },
  {
   "cell_type": "code",
   "execution_count": 20,
   "id": "c6e9ecb2",
   "metadata": {},
   "outputs": [
    {
     "data": {
      "application/vnd.jupyter.widget-view+json": {
       "model_id": "a0595f0dfabe4d3d9c8771168a660d20",
       "version_major": 2,
       "version_minor": 0
      },
      "text/plain": [
       "EmbeddableWidget(value='<iframe srcdoc=\"<!DOCTYPE html>\\n<html>\\n  <head>\\n    <meta http-equiv=&quot;Content-…"
      ]
     },
     "metadata": {},
     "output_type": "display_data"
    }
   ],
   "source": [
    "pl = pv.Plotter()\n",
    "pl.add_mesh(\n",
    "    mesh=pv.read('output/init-sym-grid/tr_reg_000.obj'),\n",
    "    texture=pv.read_texture('output/init-sym-grid/texture-sym-grid.png'),\n",
    ")\n",
    "pl.show()"
   ]
  },
  {
   "cell_type": "code",
   "execution_count": 21,
   "id": "2924be45",
   "metadata": {},
   "outputs": [
    {
     "data": {
      "application/vnd.jupyter.widget-view+json": {
       "model_id": "745921316534400fab0c18002af27993",
       "version_major": 2,
       "version_minor": 0
      },
      "text/plain": [
       "EmbeddableWidget(value='<iframe srcdoc=\"<!DOCTYPE html>\\n<html>\\n  <head>\\n    <meta http-equiv=&quot;Content-…"
      ]
     },
     "metadata": {},
     "output_type": "display_data"
    }
   ],
   "source": [
    "pl = pv.Plotter()\n",
    "pl.add_mesh(\n",
    "    mesh=pv.read('output/init-sym-grid/tr_reg_000-tr_reg_001.obj'),\n",
    "    texture=pv.read_texture('output/init-sym-grid/texture-sym-grid.png'),\n",
    ")\n",
    "pl.show()"
   ]
  },
  {
   "cell_type": "markdown",
   "id": "61c9212e",
   "metadata": {},
   "source": [
    "### Color gradient texture"
   ]
  },
  {
   "cell_type": "code",
   "execution_count": 22,
   "id": "dcc2b586",
   "metadata": {},
   "outputs": [
    {
     "data": {
      "application/vnd.jupyter.widget-view+json": {
       "model_id": "4e0ac5c76fd1451e88b24e9eb64e437b",
       "version_major": 2,
       "version_minor": 0
      },
      "text/plain": [
       "EmbeddableWidget(value='<iframe srcdoc=\"<!DOCTYPE html>\\n<html>\\n  <head>\\n    <meta http-equiv=&quot;Content-…"
      ]
     },
     "metadata": {},
     "output_type": "display_data"
    }
   ],
   "source": [
    "pl = pv.Plotter()\n",
    "pl.add_mesh(\n",
    "    mesh=pv.read('output/init-clr-grad/tr_reg_000.obj'),\n",
    "    texture=pv.read_texture('output/init-clr-grad/texture-clr-grad.png'),\n",
    ")\n",
    "pl.show()"
   ]
  },
  {
   "cell_type": "code",
   "execution_count": 23,
   "id": "9c491082",
   "metadata": {},
   "outputs": [
    {
     "data": {
      "application/vnd.jupyter.widget-view+json": {
       "model_id": "60d8168215504d4f895db9b20a61a447",
       "version_major": 2,
       "version_minor": 0
      },
      "text/plain": [
       "EmbeddableWidget(value='<iframe srcdoc=\"<!DOCTYPE html>\\n<html>\\n  <head>\\n    <meta http-equiv=&quot;Content-…"
      ]
     },
     "metadata": {},
     "output_type": "display_data"
    }
   ],
   "source": [
    "pl = pv.Plotter()\n",
    "pl.add_mesh(\n",
    "    mesh=pv.read('output/init-clr-grad/tr_reg_000-tr_reg_001.obj'),\n",
    "    texture=pv.read_texture('output/init-clr-grad/texture-clr-grad.png'),\n",
    ")\n",
    "pl.show()"
   ]
  },
  {
   "cell_type": "markdown",
   "id": "4d46cf56",
   "metadata": {},
   "source": [
    "## Pretrain weights"
   ]
  },
  {
   "cell_type": "markdown",
   "id": "f71594e4",
   "metadata": {},
   "source": [
    "### Symbol grid texture"
   ]
  },
  {
   "cell_type": "code",
   "execution_count": 24,
   "id": "23ed3902",
   "metadata": {},
   "outputs": [
    {
     "data": {
      "application/vnd.jupyter.widget-view+json": {
       "model_id": "03b73f3ed8074d149ba552004abafece",
       "version_major": 2,
       "version_minor": 0
      },
      "text/plain": [
       "EmbeddableWidget(value='<iframe srcdoc=\"<!DOCTYPE html>\\n<html>\\n  <head>\\n    <meta http-equiv=&quot;Content-…"
      ]
     },
     "metadata": {},
     "output_type": "display_data"
    }
   ],
   "source": [
    "pl = pv.Plotter()\n",
    "pl.add_mesh(\n",
    "    mesh=pv.read('output/pretrain-sym-grid/tr_reg_000.obj'),\n",
    "    texture=pv.read_texture('output/pretrain-sym-grid/texture-sym-grid.png'),\n",
    ")\n",
    "pl.show()"
   ]
  },
  {
   "cell_type": "code",
   "execution_count": 25,
   "id": "8a5859a6",
   "metadata": {},
   "outputs": [
    {
     "data": {
      "application/vnd.jupyter.widget-view+json": {
       "model_id": "fb9f2496c0c24186ad1dd1b12d08c8b9",
       "version_major": 2,
       "version_minor": 0
      },
      "text/plain": [
       "EmbeddableWidget(value='<iframe srcdoc=\"<!DOCTYPE html>\\n<html>\\n  <head>\\n    <meta http-equiv=&quot;Content-…"
      ]
     },
     "metadata": {},
     "output_type": "display_data"
    }
   ],
   "source": [
    "pl = pv.Plotter()\n",
    "pl.add_mesh(\n",
    "    mesh=pv.read('output/pretrain-sym-grid/tr_reg_000-tr_reg_001.obj'),\n",
    "    texture=pv.read_texture('output/pretrain-sym-grid/texture-sym-grid.png'),\n",
    ")\n",
    "pl.show()"
   ]
  },
  {
   "cell_type": "markdown",
   "id": "da72bf02",
   "metadata": {},
   "source": [
    "### Color gradient texture"
   ]
  },
  {
   "cell_type": "code",
   "execution_count": 26,
   "id": "dba9780f",
   "metadata": {},
   "outputs": [
    {
     "data": {
      "application/vnd.jupyter.widget-view+json": {
       "model_id": "71933658b4a74815b27a45f3bb8bbf1a",
       "version_major": 2,
       "version_minor": 0
      },
      "text/plain": [
       "EmbeddableWidget(value='<iframe srcdoc=\"<!DOCTYPE html>\\n<html>\\n  <head>\\n    <meta http-equiv=&quot;Content-…"
      ]
     },
     "metadata": {},
     "output_type": "display_data"
    }
   ],
   "source": [
    "pl = pv.Plotter()\n",
    "pl.add_mesh(\n",
    "    mesh=pv.read('output/pretrain-clr-grad/tr_reg_000.obj'),\n",
    "    texture=pv.read_texture('output/pretrain-clr-grad/texture-clr-grad.png'),\n",
    ")\n",
    "pl.show()"
   ]
  },
  {
   "cell_type": "code",
   "execution_count": 27,
   "id": "dd8356b5",
   "metadata": {},
   "outputs": [
    {
     "data": {
      "application/vnd.jupyter.widget-view+json": {
       "model_id": "b08da20b2dbb44518d2097293a356ad8",
       "version_major": 2,
       "version_minor": 0
      },
      "text/plain": [
       "EmbeddableWidget(value='<iframe srcdoc=\"<!DOCTYPE html>\\n<html>\\n  <head>\\n    <meta http-equiv=&quot;Content-…"
      ]
     },
     "metadata": {},
     "output_type": "display_data"
    }
   ],
   "source": [
    "pl = pv.Plotter()\n",
    "pl.add_mesh(\n",
    "    mesh=pv.read('output/pretrain-clr-grad/tr_reg_000-tr_reg_001.obj'),\n",
    "    texture=pv.read_texture('output/pretrain-clr-grad/texture-clr-grad.png'),\n",
    ")\n",
    "pl.show()"
   ]
  },
  {
   "cell_type": "code",
   "execution_count": null,
   "id": "5ed814b2",
   "metadata": {},
   "outputs": [],
   "source": []
  },
  {
   "cell_type": "markdown",
   "id": "4031046e",
   "metadata": {},
   "source": [
    "### Symbol grid texture with test-time adaptation"
   ]
  },
  {
   "cell_type": "code",
   "execution_count": 2,
   "id": "decc5011",
   "metadata": {},
   "outputs": [
    {
     "name": "stderr",
     "output_type": "stream",
     "text": [
      "\u001b[0m\u001b[33m2025-06-02 10:00:23.959 (  49.681s) [    72A85BE8E440]vtkXOpenGLRenderWindow.:1416  WARN| bad X server connection. DISPLAY=\u001b[0m\n"
     ]
    },
    {
     "data": {
      "application/vnd.jupyter.widget-view+json": {
       "model_id": "cc46a6cb529b40b79c221c787a10f7b3",
       "version_major": 2,
       "version_minor": 0
      },
      "text/plain": [
       "EmbeddableWidget(value='<iframe srcdoc=\"<!DOCTYPE html>\\n<html>\\n  <head>\\n    <meta http-equiv=&quot;Content-…"
      ]
     },
     "metadata": {},
     "output_type": "display_data"
    }
   ],
   "source": [
    "pl = pv.Plotter()\n",
    "pl.add_mesh(\n",
    "    mesh=pv.read('output/pretrain-sym-grid/refine/tr_reg_000.obj'),\n",
    "    texture=pv.read_texture('output/pretrain-sym-grid/refine/texture-sym-grid.png'),\n",
    ")\n",
    "pl.show()"
   ]
  },
  {
   "cell_type": "code",
   "execution_count": 3,
   "id": "23736db4",
   "metadata": {},
   "outputs": [
    {
     "data": {
      "application/vnd.jupyter.widget-view+json": {
       "model_id": "298737db6b6d48078bed3269452733f1",
       "version_major": 2,
       "version_minor": 0
      },
      "text/plain": [
       "EmbeddableWidget(value='<iframe srcdoc=\"<!DOCTYPE html>\\n<html>\\n  <head>\\n    <meta http-equiv=&quot;Content-…"
      ]
     },
     "metadata": {},
     "output_type": "display_data"
    }
   ],
   "source": [
    "pl = pv.Plotter()\n",
    "pl.add_mesh(\n",
    "    mesh=pv.read('output/pretrain-sym-grid/refine/tr_reg_000-tr_reg_001.obj'),\n",
    "    texture=pv.read_texture('output/pretrain-sym-grid/refine/texture-sym-grid.png'),\n",
    ")\n",
    "pl.show()"
   ]
  },
  {
   "cell_type": "code",
   "execution_count": null,
   "id": "f472804c",
   "metadata": {},
   "outputs": [],
   "source": []
  }
 ],
 "metadata": {
  "kernelspec": {
   "display_name": "vtk",
   "language": "python",
   "name": "python3"
  },
  "language_info": {
   "codemirror_mode": {
    "name": "ipython",
    "version": 3
   },
   "file_extension": ".py",
   "mimetype": "text/x-python",
   "name": "python",
   "nbconvert_exporter": "python",
   "pygments_lexer": "ipython3",
   "version": "3.9.21"
  }
 },
 "nbformat": 4,
 "nbformat_minor": 5
}
