{
 "cells": [
  {
   "cell_type": "code",
   "execution_count": 1,
   "id": "764cf7e6",
   "metadata": {},
   "outputs": [],
   "source": [
    "%reload_ext autoreload\n",
    "%autoreload 2"
   ]
  },
  {
   "cell_type": "code",
   "execution_count": 2,
   "id": "1577e1ff",
   "metadata": {},
   "outputs": [],
   "source": [
    "import sys\n",
    "sys.path.append('..')"
   ]
  },
  {
   "cell_type": "code",
   "execution_count": 3,
   "id": "4efc159e",
   "metadata": {},
   "outputs": [
    {
     "name": "stdout",
     "output_type": "stream",
     "text": [
      "Jupyter environment detected. Enabling Open3D WebVisualizer.\n",
      "[Open3D INFO] WebRTC GUI backend enabled.\n",
      "[Open3D INFO] WebRTCWindowSystem: HTTP handshake server disabled.\n",
      "benchmark:\n",
      "  dataset:\n",
      "    aug:\n",
      "      args:\n",
      "        footprint_wrap_folder: data/processed/footprint-wrap/\n",
      "        img_size: 5\n",
      "        l_mask_path: data/processed/left_foot_mask.png\n",
      "        pedar_dynamic_path: data/processed/pedar_dynamic.pkl\n",
      "        sense_range: 600\n",
      "        stack_range: 50\n",
      "      dataloader:\n",
      "        args:\n",
      "          batch_size: 128\n",
      "          shuffle: True\n",
      "        name: DataLoader\n",
      "      name: Footprint2Pressure_SensorStack_Blend\n",
      "    wo_aug:\n",
      "      args:\n",
      "        footprint_wrap_folder: data/processed/footprint-wrap/\n",
      "        img_size: 5\n",
      "        l_mask_path: data/processed/left_foot_mask.png\n",
      "        pedar_dynamic_path: data/processed/pedar_dynamic.pkl\n",
      "        sense_range: 600\n",
      "        stack_range: 50\n",
      "      dataloader:\n",
      "        args:\n",
      "          batch_size: 128\n",
      "          shuffle: True\n",
      "        name: DataLoader\n",
      "      name: Footprint2Pressure_SensorStack\n",
      "  metric:\n",
      "    MAE:\n",
      "      args:\n",
      "        \n",
      "      name: L1Loss\n",
      "    MSE:\n",
      "      args:\n",
      "        \n",
      "      name: MSELoss\n",
      "  script: TestScript\n",
      "device_select: auto\n",
      "model:\n",
      "  feature_extractor:\n",
      "    args:\n",
      "      cache_dir: ../data/FAUST_r/diffusion\n",
      "      in_channels: 128\n",
      "      input_type: wks\n",
      "      out_channels: 256\n",
      "    name: DiffusionNet\n",
      "  fm_solver:\n",
      "    args:\n",
      "      \n",
      "    name: RegularizedFMNet\n",
      "  name: URSSM\n",
      "  permutation:\n",
      "    args:\n",
      "      tau: 0.07\n",
      "    name: Similarity\n",
      "path: ../experiment/test-250605\n",
      "sampling:\n",
      "  dataset:\n",
      "    aug:\n",
      "      args:\n",
      "        footprint_wrap_folder: data/processed/footprint-wrap/\n",
      "        img_size: 5\n",
      "        l_mask_path: data/processed/left_foot_mask.png\n",
      "        pedar_dynamic_path: data/processed/pedar_dynamic.pkl\n",
      "        sense_range: 600\n",
      "        stack_range: 50\n",
      "      batch_select: [0]\n",
      "      dataloader:\n",
      "        args:\n",
      "          batch_size: 10\n",
      "          shuffle: False\n",
      "        name: DataLoader\n",
      "      name: Footprint2Pressure_SensorStack_Blend\n",
      "    wo_aug:\n",
      "      args:\n",
      "        footprint_wrap_folder: data/processed/footprint-wrap/\n",
      "        img_size: 5\n",
      "        l_mask_path: data/processed/left_foot_mask.png\n",
      "        pedar_dynamic_path: data/processed/pedar_dynamic.pkl\n",
      "        sense_range: 600\n",
      "        stack_range: 50\n",
      "      batch_select: [0]\n",
      "      dataloader:\n",
      "        args:\n",
      "          batch_size: 10\n",
      "          shuffle: False\n",
      "        name: DataLoader\n",
      "      name: Footprint2Pressure_SensorStack\n",
      "  metric:\n",
      "    MAE:\n",
      "      args:\n",
      "        export_folder: sample/\n",
      "        mask_path: data/processed/left_foot_mask.png\n",
      "        sense_range: 600\n",
      "      name: PedarHeatmap\n",
      "  script: SamplingScript\n",
      "train:\n",
      "  dataset:\n",
      "    test:\n",
      "      args:\n",
      "        data_root: data/FAUST_r/\n",
      "        num_evecs: 200\n",
      "        phase: test\n",
      "        return_corr: false\n",
      "        return_dist: false\n",
      "        return_evecs: true\n",
      "        return_faces: true\n",
      "      dataloader:\n",
      "        args:\n",
      "          batch_size: 1\n",
      "          shuffle: True\n",
      "        name: DataLoader\n",
      "      name: PairFaustDataset\n",
      "    train:\n",
      "      args:\n",
      "        data_root: data/FAUST_r/\n",
      "        num_evecs: 200\n",
      "        phase: train\n",
      "        return_corr: false\n",
      "        return_dist: false\n",
      "        return_evecs: true\n",
      "        return_faces: true\n",
      "      dataloader:\n",
      "        args:\n",
      "          batch_size: 1\n",
      "          shuffle: True\n",
      "        name: DataLoader\n",
      "      name: PairFaustDataset\n",
      "  loss:\n",
      "    losses: [{'name': 'SURFMNetLoss_wrap', 'weight': 1.0, 'args': {'w_bij': 1.0, 'w_orth': 1.0, 'w_lap': 0.0}}, {'name': 'SpatialSpectralAlignmentLoss_wrap', 'weight': 1.0, 'args': {}}]\n",
      "    name: CompositeLoss\n",
      "  metric:\n",
      "    MAE:\n",
      "      args:\n",
      "        \n",
      "      name: L1Loss\n",
      "    MSE:\n",
      "      args:\n",
      "        \n",
      "      name: MSELoss\n",
      "    mean_diff_ratio:\n",
      "      args:\n",
      "        \n",
      "      name: MeanDiffRatio\n",
      "    std_diff_ratio:\n",
      "      args:\n",
      "        \n",
      "      name: StdDiffRatio\n",
      "  optimizer:\n",
      "    args:\n",
      "      lr: 0.001\n",
      "    epochs: 100\n",
      "    name: SGD\n",
      "  script: TrainScript\n"
     ]
    }
   ],
   "source": [
    "from src.infra import config\n",
    "\n",
    "path = '../experiment/test-250605'\n",
    "opt = config.load_config(path)\n",
    "opt.path = path\n",
    "print(opt)"
   ]
  },
  {
   "cell_type": "code",
   "execution_count": 4,
   "id": "0feee111",
   "metadata": {},
   "outputs": [
    {
     "data": {
      "text/plain": [
       "'cuda'"
      ]
     },
     "execution_count": 4,
     "metadata": {},
     "output_type": "execute_result"
    }
   ],
   "source": [
    "import torch\n",
    "device = 'cuda' if torch.cuda.is_available() else 'cpu'\n",
    "device"
   ]
  },
  {
   "cell_type": "markdown",
   "id": "33bccb69",
   "metadata": {},
   "source": [
    "## Dataset"
   ]
  },
  {
   "cell_type": "code",
   "execution_count": 5,
   "id": "5c8c8382",
   "metadata": {},
   "outputs": [
    {
     "data": {
      "text/plain": [
       "{'Dataset': torch.utils.data.dataset.Dataset,\n",
       " 'SingleFaustDataset': src.dataset.shape_cor.SingleFaustDataset,\n",
       " 'SingleScapeDataset': src.dataset.shape_cor.SingleScapeDataset,\n",
       " 'SingleShrec19Dataset': src.dataset.shape_cor.SingleShrec19Dataset,\n",
       " 'SingleSmalDataset': src.dataset.shape_cor.SingleSmalDataset,\n",
       " 'SingleDT4DDataset': src.dataset.shape_cor.SingleDT4DDataset,\n",
       " 'SingleShrec20Dataset': src.dataset.shape_cor.SingleShrec20Dataset,\n",
       " 'SingleTopKidsDataset': src.dataset.shape_cor.SingleTopKidsDataset,\n",
       " 'PairDataset': src.dataset.shape_cor.PairDataset,\n",
       " 'PairFaustDataset': src.dataset.shape_cor.PairFaustDataset,\n",
       " 'PairScapeDataset': src.dataset.shape_cor.PairScapeDataset,\n",
       " 'PairShrec19Dataset': src.dataset.shape_cor.PairShrec19Dataset,\n",
       " 'PairSmalDataset': src.dataset.shape_cor.PairSmalDataset,\n",
       " 'PairDT4DDataset': src.dataset.shape_cor.PairDT4DDataset,\n",
       " 'PairShrec20Dataset': src.dataset.shape_cor.PairShrec20Dataset,\n",
       " 'PairShrec16Dataset': src.dataset.shape_cor.PairShrec16Dataset,\n",
       " 'PairTopKidsDataset': src.dataset.shape_cor.PairTopKidsDataset}"
      ]
     },
     "execution_count": 5,
     "metadata": {},
     "output_type": "execute_result"
    }
   ],
   "source": [
    "import src\n",
    "from src.infra.registry import DATASET_REGISTRY\n",
    "DATASET_REGISTRY"
   ]
  },
  {
   "cell_type": "code",
   "execution_count": 6,
   "id": "5c1b0648",
   "metadata": {},
   "outputs": [],
   "source": [
    "dataset = DATASET_REGISTRY['PairFaustDataset'](\n",
    "    phase='train',\n",
    "    data_root='../data/FAUST_r/',\n",
    "    return_evecs='true',\n",
    "    return_faces='true',\n",
    "    num_evecs=200,\n",
    "    return_corr='false',\n",
    "    return_dist='false',\n",
    ")"
   ]
  },
  {
   "cell_type": "code",
   "execution_count": 19,
   "id": "79981411",
   "metadata": {},
   "outputs": [
    {
     "data": {
      "text/plain": [
       "('tr_reg_000', 'tr_reg_001')"
      ]
     },
     "execution_count": 19,
     "metadata": {},
     "output_type": "execute_result"
    }
   ],
   "source": [
    "from src.utils.tensor import to_device\n",
    "\n",
    "data = to_device(dataset[1], device)\n",
    "data_x, data_y = to_device(data['first'], device), to_device(data['second'], device)\n",
    "data_x['name'], data_y['name']"
   ]
  },
  {
   "cell_type": "code",
   "execution_count": 8,
   "id": "f83a25d1",
   "metadata": {},
   "outputs": [
    {
     "data": {
      "text/plain": [
       "{'DataLoader': torch.utils.data.dataloader.DataLoader}"
      ]
     },
     "execution_count": 8,
     "metadata": {},
     "output_type": "execute_result"
    }
   ],
   "source": [
    "from src.infra.registry import DATALOADER_REGISTRY\n",
    "DATALOADER_REGISTRY"
   ]
  },
  {
   "cell_type": "code",
   "execution_count": 9,
   "id": "1b2b2bcd",
   "metadata": {},
   "outputs": [
    {
     "data": {
      "text/plain": [
       "<torch.utils.data.dataloader.DataLoader at 0x7c9861de8ee0>"
      ]
     },
     "execution_count": 9,
     "metadata": {},
     "output_type": "execute_result"
    }
   ],
   "source": [
    "dataloader = DATALOADER_REGISTRY['DataLoader'](\n",
    "    dataset=dataset,\n",
    "    batch_size=1,\n",
    "    shuffle=True,\n",
    ")\n",
    "dataloader"
   ]
  },
  {
   "cell_type": "code",
   "execution_count": 10,
   "id": "dabdd7dc",
   "metadata": {},
   "outputs": [
    {
     "name": "stdout",
     "output_type": "stream",
     "text": [
      "['tr_reg_032'] ['tr_reg_019']\n"
     ]
    }
   ],
   "source": [
    "for batch, data in enumerate(dataloader):\n",
    "    data_x, data_y = to_device(data['first'], device), to_device(data['second'], device)\n",
    "    print(data_x['name'], data_y['name'])\n",
    "    break"
   ]
  },
  {
   "cell_type": "markdown",
   "id": "7f26747d",
   "metadata": {},
   "source": [
    "## Model"
   ]
  },
  {
   "cell_type": "code",
   "execution_count": 11,
   "id": "4c4202e2",
   "metadata": {},
   "outputs": [
    {
     "data": {
      "text/plain": [
       "{'Similarity': src.model.permutation.Similarity,\n",
       " 'RegularizedFMNet': src.model.fmap.RegularizedFMNet,\n",
       " 'URSSM': src.model.urssm.URSSM,\n",
       " 'DiffusionNet': src.model.diffusionnet.DiffusionNet}"
      ]
     },
     "execution_count": 11,
     "metadata": {},
     "output_type": "execute_result"
    }
   ],
   "source": [
    "from src.infra.registry import MODEL_REGISTRY\n",
    "MODEL_REGISTRY"
   ]
  },
  {
   "cell_type": "code",
   "execution_count": 12,
   "id": "6165e5d8",
   "metadata": {},
   "outputs": [
    {
     "data": {
      "text/plain": [
       "URSSM(\n",
       "  (feature_extractor): DiffusionNet(\n",
       "    (first_linear): Linear(in_features=128, out_features=128, bias=True)\n",
       "    (last_linear): Linear(in_features=128, out_features=256, bias=True)\n",
       "    (blocks): ModuleList(\n",
       "      (0): DiffusionNetBlock(\n",
       "        (diffusion): LearnedTimeDiffusion()\n",
       "        (gradient_features): SpatialGradientFeatures(\n",
       "          (A_re): Linear(in_features=128, out_features=128, bias=False)\n",
       "          (A_im): Linear(in_features=128, out_features=128, bias=False)\n",
       "        )\n",
       "        (mlp): MiniMLP(\n",
       "          (miniMLP_linear_000): Linear(in_features=384, out_features=128, bias=True)\n",
       "          (miniMLP_activation_000): ReLU()\n",
       "          (miniMLP_dropout_001): Dropout(p=0.5, inplace=False)\n",
       "          (miniMLP_linear_001): Linear(in_features=128, out_features=128, bias=True)\n",
       "          (miniMLP_activation_001): ReLU()\n",
       "          (miniMLP_dropout_002): Dropout(p=0.5, inplace=False)\n",
       "          (miniMLP_linear_002): Linear(in_features=128, out_features=128, bias=True)\n",
       "        )\n",
       "      )\n",
       "      (1): DiffusionNetBlock(\n",
       "        (diffusion): LearnedTimeDiffusion()\n",
       "        (gradient_features): SpatialGradientFeatures(\n",
       "          (A_re): Linear(in_features=128, out_features=128, bias=False)\n",
       "          (A_im): Linear(in_features=128, out_features=128, bias=False)\n",
       "        )\n",
       "        (mlp): MiniMLP(\n",
       "          (miniMLP_linear_000): Linear(in_features=384, out_features=128, bias=True)\n",
       "          (miniMLP_activation_000): ReLU()\n",
       "          (miniMLP_dropout_001): Dropout(p=0.5, inplace=False)\n",
       "          (miniMLP_linear_001): Linear(in_features=128, out_features=128, bias=True)\n",
       "          (miniMLP_activation_001): ReLU()\n",
       "          (miniMLP_dropout_002): Dropout(p=0.5, inplace=False)\n",
       "          (miniMLP_linear_002): Linear(in_features=128, out_features=128, bias=True)\n",
       "        )\n",
       "      )\n",
       "      (2): DiffusionNetBlock(\n",
       "        (diffusion): LearnedTimeDiffusion()\n",
       "        (gradient_features): SpatialGradientFeatures(\n",
       "          (A_re): Linear(in_features=128, out_features=128, bias=False)\n",
       "          (A_im): Linear(in_features=128, out_features=128, bias=False)\n",
       "        )\n",
       "        (mlp): MiniMLP(\n",
       "          (miniMLP_linear_000): Linear(in_features=384, out_features=128, bias=True)\n",
       "          (miniMLP_activation_000): ReLU()\n",
       "          (miniMLP_dropout_001): Dropout(p=0.5, inplace=False)\n",
       "          (miniMLP_linear_001): Linear(in_features=128, out_features=128, bias=True)\n",
       "          (miniMLP_activation_001): ReLU()\n",
       "          (miniMLP_dropout_002): Dropout(p=0.5, inplace=False)\n",
       "          (miniMLP_linear_002): Linear(in_features=128, out_features=128, bias=True)\n",
       "        )\n",
       "      )\n",
       "      (3): DiffusionNetBlock(\n",
       "        (diffusion): LearnedTimeDiffusion()\n",
       "        (gradient_features): SpatialGradientFeatures(\n",
       "          (A_re): Linear(in_features=128, out_features=128, bias=False)\n",
       "          (A_im): Linear(in_features=128, out_features=128, bias=False)\n",
       "        )\n",
       "        (mlp): MiniMLP(\n",
       "          (miniMLP_linear_000): Linear(in_features=384, out_features=128, bias=True)\n",
       "          (miniMLP_activation_000): ReLU()\n",
       "          (miniMLP_dropout_001): Dropout(p=0.5, inplace=False)\n",
       "          (miniMLP_linear_001): Linear(in_features=128, out_features=128, bias=True)\n",
       "          (miniMLP_activation_001): ReLU()\n",
       "          (miniMLP_dropout_002): Dropout(p=0.5, inplace=False)\n",
       "          (miniMLP_linear_002): Linear(in_features=128, out_features=128, bias=True)\n",
       "        )\n",
       "      )\n",
       "    )\n",
       "  )\n",
       "  (fm_solver): RegularizedFMNet()\n",
       "  (permutation): Similarity()\n",
       ")"
      ]
     },
     "execution_count": 12,
     "metadata": {},
     "output_type": "execute_result"
    }
   ],
   "source": [
    "urssm = MODEL_REGISTRY[opt.model.name](opt).to(device)\n",
    "urssm"
   ]
  },
  {
   "cell_type": "code",
   "execution_count": 13,
   "id": "80d0c19e",
   "metadata": {},
   "outputs": [
    {
     "name": "stdout",
     "output_type": "stream",
     "text": [
      "Loaded pretrain weights from ../checkpoints/faust.pth\n"
     ]
    }
   ],
   "source": [
    "network_path = '../checkpoints/faust.pth'\n",
    "urssm.feature_extractor.load_state_dict(\n",
    "    torch.load(network_path)['networks']['feature_extractor']\n",
    ")\n",
    "print(f'Loaded pretrain weights from {network_path}')"
   ]
  },
  {
   "cell_type": "code",
   "execution_count": 14,
   "id": "a597d89f",
   "metadata": {},
   "outputs": [
    {
     "data": {
      "text/plain": [
       "{'Cxy': tensor([[[-9.7482e-01,  1.2067e-02,  3.8330e-04,  ..., -4.3933e-04,\n",
       "            7.8162e-04,  1.7684e-05],\n",
       "          [-1.3796e-02, -9.4858e-01, -5.8940e-02,  ...,  3.0590e-04,\n",
       "            7.0716e-04, -1.6155e-04],\n",
       "          [ 1.0811e-02, -4.1229e-02,  9.3997e-01,  ...,  3.0392e-04,\n",
       "           -2.1220e-04, -1.9038e-04],\n",
       "          ...,\n",
       "          [ 1.3636e-03,  1.3223e-03, -1.1529e-03,  ...,  7.6819e-02,\n",
       "            1.6766e-01, -2.0771e-02],\n",
       "          [-3.3330e-04,  1.2754e-03,  2.9656e-04,  ...,  6.3550e-02,\n",
       "           -1.1424e-01, -2.4210e-02],\n",
       "          [-5.1405e-04,  8.1348e-05, -1.1189e-03,  ...,  1.5569e-01,\n",
       "           -2.5701e-02, -1.1376e-01]]], device='cuda:0', grad_fn=<CatBackward0>),\n",
       " 'Cyx': tensor([[[-9.7188e-01, -5.2084e-04,  1.8461e-04,  ...,  5.0212e-04,\n",
       "           -3.1207e-04, -9.2881e-04],\n",
       "          [ 9.0058e-03, -9.5826e-01, -5.6782e-02,  ...,  2.4080e-04,\n",
       "           -3.6017e-04,  8.6898e-05],\n",
       "          [ 1.0530e-02, -4.4639e-02,  1.0322e+00,  ..., -5.3495e-04,\n",
       "            2.7682e-04, -4.8136e-05],\n",
       "          ...,\n",
       "          [-7.8325e-04, -1.1937e-03,  1.2169e-03,  ...,  1.1179e-03,\n",
       "           -2.6566e-02,  1.1085e-01],\n",
       "          [ 4.5644e-04,  4.6112e-04, -2.1535e-03,  ...,  1.0753e-01,\n",
       "            4.3899e-03, -2.7010e-03],\n",
       "          [-2.6738e-04, -1.2963e-03, -9.9220e-04,  ..., -1.7264e-01,\n",
       "           -1.0641e-01, -8.9291e-02]]], device='cuda:0', grad_fn=<CatBackward0>),\n",
       " 'Pxy': tensor([[[1.1049e-04, 4.4496e-03, 7.8847e-07,  ..., 5.4027e-07,\n",
       "           2.2891e-06, 2.0235e-06],\n",
       "          [1.0737e-05, 5.4917e-03, 7.6922e-07,  ..., 1.1876e-06,\n",
       "           4.2338e-06, 1.9228e-06],\n",
       "          [3.2770e-05, 4.0088e-05, 1.1351e-03,  ..., 7.4711e-07,\n",
       "           2.0530e-07, 1.1209e-06],\n",
       "          ...,\n",
       "          [4.0689e-05, 1.6402e-06, 8.7822e-07,  ..., 9.3510e-07,\n",
       "           2.7005e-06, 1.7105e-06],\n",
       "          [6.2871e-06, 9.1566e-07, 7.9094e-07,  ..., 7.2630e-07,\n",
       "           2.2148e-06, 5.2474e-07],\n",
       "          [2.3612e-05, 2.4645e-06, 1.6203e-06,  ..., 1.8323e-06,\n",
       "           7.1643e-06, 1.6487e-06]]], device='cuda:0', grad_fn=<ExpBackward0>),\n",
       " 'Pyx': tensor([[[1.1090e-04, 7.8843e-06, 2.4729e-04,  ..., 3.2827e-05,\n",
       "           7.2821e-06, 9.9580e-06],\n",
       "          [1.0612e-03, 9.5823e-04, 7.1881e-05,  ..., 3.1443e-07,\n",
       "           2.5201e-07, 2.4697e-07],\n",
       "          [4.4840e-07, 3.2006e-07, 4.8534e-03,  ..., 4.0147e-07,\n",
       "           5.1910e-07, 3.8720e-07],\n",
       "          ...,\n",
       "          [1.7524e-07, 2.8182e-07, 1.8219e-06,  ..., 2.4380e-07,\n",
       "           2.7186e-07, 2.4973e-07],\n",
       "          [3.3069e-06, 4.4750e-06, 2.2299e-06,  ..., 3.1359e-06,\n",
       "           3.6925e-06, 4.3490e-06],\n",
       "          [1.0491e-06, 7.2936e-07, 4.3693e-06,  ..., 7.1285e-07,\n",
       "           3.1396e-07, 3.5916e-07]]], device='cuda:0', grad_fn=<ExpBackward0>)}"
      ]
     },
     "execution_count": 14,
     "metadata": {},
     "output_type": "execute_result"
    }
   ],
   "source": [
    "infer = urssm(data_x, data_y)\n",
    "infer"
   ]
  },
  {
   "cell_type": "markdown",
   "id": "24e0fa34",
   "metadata": {},
   "source": [
    "## Loss"
   ]
  },
  {
   "cell_type": "code",
   "execution_count": 15,
   "id": "d3913d67",
   "metadata": {},
   "outputs": [
    {
     "data": {
      "text/plain": [
       "{'MSELoss': torch.nn.modules.loss.MSELoss,\n",
       " 'SquaredFrobeniusLoss': src.loss.fmap.SquaredFrobeniusLoss,\n",
       " 'SURFMNetLoss': src.loss.fmap.SURFMNetLoss,\n",
       " 'SURFMNetLoss_wrap': src.loss.fmap.SURFMNetLoss_wrap,\n",
       " 'SpatialSpectralAlignmentLoss': src.loss.fmap.SpatialSpectralAlignmentLoss,\n",
       " 'SpatialSpectralAlignmentLoss_wrap': src.loss.fmap.SpatialSpectralAlignmentLoss_wrap,\n",
       " 'PartialFmapsLoss': src.loss.fmap.PartialFmapsLoss,\n",
       " 'DirichletLoss': src.loss.dirichlet.DirichletLoss,\n",
       " 'CompositeLoss': src.loss.composite.CompositeLoss}"
      ]
     },
     "execution_count": 15,
     "metadata": {},
     "output_type": "execute_result"
    }
   ],
   "source": [
    "from src.infra.registry import LOSS_REGISTRY\n",
    "LOSS_REGISTRY"
   ]
  },
  {
   "cell_type": "code",
   "execution_count": 16,
   "id": "1a426526",
   "metadata": {},
   "outputs": [
    {
     "data": {
      "text/plain": [
       "(CompositeLoss(\n",
       "   (losses): ModuleList(\n",
       "     (0): SURFMNetLoss_wrap(\n",
       "       (squared_frobenius): SquaredFrobeniusLoss()\n",
       "     )\n",
       "     (1): SpatialSpectralAlignmentLoss_wrap(\n",
       "       (squared_frobenius): SquaredFrobeniusLoss()\n",
       "     )\n",
       "   )\n",
       " ),\n",
       " [1.0, 1.0])"
      ]
     },
     "execution_count": 16,
     "metadata": {},
     "output_type": "execute_result"
    }
   ],
   "source": [
    "loss = LOSS_REGISTRY[opt.train.loss.name](opt).to(device)\n",
    "loss, loss.weights"
   ]
  },
  {
   "cell_type": "code",
   "execution_count": 17,
   "id": "a1a08a63",
   "metadata": {},
   "outputs": [
    {
     "data": {
      "text/plain": [
       "tensor(138.9938, device='cuda:0', grad_fn=<AddBackward0>)"
      ]
     },
     "execution_count": 17,
     "metadata": {},
     "output_type": "execute_result"
    }
   ],
   "source": [
    "loss(infer, data)"
   ]
  },
  {
   "cell_type": "code",
   "execution_count": 18,
   "id": "4c7e3353",
   "metadata": {},
   "outputs": [
    {
     "data": {
      "text/plain": [
       "{'first': {'name': ['tr_reg_032'],\n",
       "  'verts': tensor([[[ 0.0261,  0.5284,  0.1571],\n",
       "           [ 0.0381,  0.5354,  0.1466],\n",
       "           [ 0.0382,  0.4832,  0.1354],\n",
       "           ...,\n",
       "           [-0.1363,  0.3480, -0.0092],\n",
       "           [-0.1369,  0.3391,  0.0033],\n",
       "           [-0.1373,  0.3516, -0.0145]]], device='cuda:0'),\n",
       "  'faces': tensor([[[  70,    1,   14],\n",
       "           [  70,   14,   67],\n",
       "           [  70,    0,   69],\n",
       "           ...,\n",
       "           [3374, 2941, 4995],\n",
       "           [2941, 4994, 4995],\n",
       "           [3373, 4995, 4994]]], device='cuda:0'),\n",
       "  'evecs': tensor([[[ 1.0000,  1.0089,  0.0344,  ..., -1.1998, -1.2748, -0.3302],\n",
       "           [ 1.0000,  1.0100,  0.0344,  ..., -1.1494, -1.5042,  0.7864],\n",
       "           [ 1.0000,  0.9872,  0.0331,  ..., -0.8419, -0.8645,  0.9074],\n",
       "           ...,\n",
       "           [ 1.0000,  0.8921,  0.0472,  ...,  0.1738, -0.5052, -0.3958],\n",
       "           [ 1.0000,  0.8955,  0.0481,  ...,  0.5150, -0.7056, -0.1909],\n",
       "           [ 1.0000,  0.8968,  0.0470,  ..., -0.0034, -0.3630, -0.3331]]],\n",
       "         device='cuda:0'),\n",
       "  'evecs_trans': tensor([[[ 8.1697e-05,  1.2607e-04,  1.5362e-04,  ...,  2.8702e-05,\n",
       "             5.2134e-05,  2.6545e-05],\n",
       "           [ 8.2427e-05,  1.2734e-04,  1.5165e-04,  ...,  2.5605e-05,\n",
       "             4.6687e-05,  2.3806e-05],\n",
       "           [ 2.8109e-06,  4.3330e-06,  5.0874e-06,  ...,  1.3559e-06,\n",
       "             2.5093e-06,  1.2479e-06],\n",
       "           ...,\n",
       "           [-9.8017e-05, -1.4491e-04, -1.2933e-04,  ...,  4.9890e-06,\n",
       "             2.6847e-05, -9.0444e-08],\n",
       "           [-1.0414e-04, -1.8964e-04, -1.3280e-04,  ..., -1.4500e-05,\n",
       "            -3.6788e-05, -9.6368e-06],\n",
       "           [-2.6973e-05,  9.9145e-05,  1.3940e-04,  ..., -1.1360e-05,\n",
       "            -9.9539e-06, -8.8434e-06]]], device='cuda:0'),\n",
       "  'evals': tensor([[5.0030e-05, 5.0469e+00, 6.3333e+00, 1.0678e+01, 1.4959e+01, 2.1453e+01,\n",
       "           3.9296e+01, 4.1467e+01, 6.0486e+01, 6.1680e+01, 8.4551e+01, 8.9095e+01,\n",
       "           9.4136e+01, 1.1820e+02, 1.2174e+02, 1.5505e+02, 1.5604e+02, 1.7382e+02,\n",
       "           2.0435e+02, 2.2788e+02, 2.4680e+02, 2.5577e+02, 2.6053e+02, 2.9035e+02,\n",
       "           2.9537e+02, 2.9900e+02, 3.1358e+02, 3.2975e+02, 3.3908e+02, 3.4184e+02,\n",
       "           3.4659e+02, 3.7090e+02, 3.8490e+02, 4.0425e+02, 4.0762e+02, 4.1558e+02,\n",
       "           4.2840e+02, 4.4611e+02, 4.6950e+02, 4.7412e+02, 5.0265e+02, 5.0617e+02,\n",
       "           5.1666e+02, 5.2360e+02, 5.2866e+02, 5.5538e+02, 5.8462e+02, 6.0535e+02,\n",
       "           6.0651e+02, 6.1499e+02, 6.2668e+02, 6.3765e+02, 6.4490e+02, 6.5802e+02,\n",
       "           6.7016e+02, 6.7900e+02, 6.8599e+02, 6.9097e+02, 7.0022e+02, 7.1271e+02,\n",
       "           7.3412e+02, 7.4617e+02, 7.5881e+02, 7.7625e+02, 7.8437e+02, 7.8976e+02,\n",
       "           8.0260e+02, 8.0947e+02, 8.1807e+02, 8.2525e+02, 8.4540e+02, 8.7004e+02,\n",
       "           8.8083e+02, 8.8466e+02, 8.9554e+02, 9.0305e+02, 9.2488e+02, 9.4728e+02,\n",
       "           9.5596e+02, 9.7404e+02, 9.8082e+02, 9.8890e+02, 9.9335e+02, 1.0019e+03,\n",
       "           1.0080e+03, 1.0188e+03, 1.0292e+03, 1.0509e+03, 1.0731e+03, 1.0821e+03,\n",
       "           1.0872e+03, 1.0934e+03, 1.0943e+03, 1.1011e+03, 1.1096e+03, 1.1124e+03,\n",
       "           1.1214e+03, 1.1276e+03, 1.1369e+03, 1.1486e+03, 1.1574e+03, 1.1627e+03,\n",
       "           1.1713e+03, 1.1789e+03, 1.1887e+03, 1.1943e+03, 1.2143e+03, 1.2320e+03,\n",
       "           1.2412e+03, 1.2467e+03, 1.2529e+03, 1.2606e+03, 1.2787e+03, 1.2849e+03,\n",
       "           1.2885e+03, 1.3006e+03, 1.3079e+03, 1.3243e+03, 1.3318e+03, 1.3434e+03,\n",
       "           1.3456e+03, 1.3740e+03, 1.3934e+03, 1.3991e+03, 1.4130e+03, 1.4185e+03,\n",
       "           1.4389e+03, 1.4436e+03, 1.4545e+03, 1.4637e+03, 1.4786e+03, 1.4816e+03,\n",
       "           1.5156e+03, 1.5378e+03, 1.5445e+03, 1.5592e+03, 1.5621e+03, 1.5909e+03,\n",
       "           1.5974e+03, 1.6082e+03, 1.6151e+03, 1.6336e+03, 1.6466e+03, 1.6560e+03,\n",
       "           1.6640e+03, 1.6660e+03, 1.6848e+03, 1.7027e+03, 1.7134e+03, 1.7219e+03,\n",
       "           1.7333e+03, 1.7485e+03, 1.7571e+03, 1.7707e+03, 1.7747e+03, 1.7856e+03,\n",
       "           1.8092e+03, 1.8117e+03, 1.8206e+03, 1.8279e+03, 1.8351e+03, 1.8447e+03,\n",
       "           1.8490e+03, 1.8876e+03, 1.8947e+03, 1.9017e+03, 1.9193e+03, 1.9332e+03,\n",
       "           1.9439e+03, 1.9504e+03, 1.9592e+03, 1.9616e+03, 1.9729e+03, 1.9875e+03,\n",
       "           2.0115e+03, 2.0189e+03, 2.0315e+03, 2.0464e+03, 2.0511e+03, 2.0622e+03,\n",
       "           2.0683e+03, 2.0857e+03, 2.0972e+03, 2.1125e+03, 2.1271e+03, 2.1315e+03,\n",
       "           2.1461e+03, 2.1517e+03, 2.1797e+03, 2.1811e+03, 2.2026e+03, 2.2039e+03,\n",
       "           2.2081e+03, 2.2216e+03, 2.2309e+03, 2.2428e+03, 2.2462e+03, 2.2503e+03,\n",
       "           2.2632e+03, 2.2663e+03]], device='cuda:0'),\n",
       "  'mass': tensor([[8.1697e-05, 1.2607e-04, 1.5362e-04,  ..., 2.8702e-05, 5.2134e-05,\n",
       "           2.6545e-05]], device='cuda:0'),\n",
       "  'L': tensor([[[ 3.4661,  0.0000,  0.0000,  ...,  0.0000,  0.0000,  0.0000],\n",
       "           [ 0.0000,  3.7553,  0.0000,  ...,  0.0000,  0.0000,  0.0000],\n",
       "           [ 0.0000,  0.0000,  3.8312,  ...,  0.0000,  0.0000,  0.0000],\n",
       "           ...,\n",
       "           [ 0.0000,  0.0000,  0.0000,  ...,  3.7100,  0.0000, -0.5052],\n",
       "           [ 0.0000,  0.0000,  0.0000,  ...,  0.0000,  3.6338,  0.0000],\n",
       "           [ 0.0000,  0.0000,  0.0000,  ..., -0.5052,  0.0000,  3.6894]]],\n",
       "         device='cuda:0'),\n",
       "  'dist': tensor([[[0.0000, 0.0202, 0.0543,  ..., 0.3865, 0.3771, 0.3839],\n",
       "           [0.0202, 0.0000, 0.0575,  ..., 0.3897, 0.3803, 0.3962],\n",
       "           [0.0543, 0.0575, 0.0000,  ..., 0.3322, 0.3228, 0.3387],\n",
       "           ...,\n",
       "           [0.3865, 0.3897, 0.3322,  ..., 0.0000, 0.0157, 0.0065],\n",
       "           [0.3771, 0.3803, 0.3228,  ..., 0.0157, 0.0000, 0.0221],\n",
       "           [0.3839, 0.3962, 0.3387,  ..., 0.0065, 0.0221, 0.0000]]],\n",
       "         device='cuda:0'),\n",
       "  'corr': tensor([[4353, 1137, 1920,  ..., 3632, 2384, 2472]], device='cuda:0')},\n",
       " 'second': {'name': ['tr_reg_019'],\n",
       "  'verts': tensor([[[ 0.0308,  0.3806,  0.1015],\n",
       "           [ 0.0413,  0.3922,  0.0889],\n",
       "           [ 0.0493,  0.3325,  0.0682],\n",
       "           ...,\n",
       "           [ 0.1462, -0.7736, -0.0179],\n",
       "           [ 0.1438, -0.7807, -0.0174],\n",
       "           [ 0.1458, -0.7767, -0.0155]]], device='cuda:0'),\n",
       "  'faces': tensor([[[  75,    1,   15],\n",
       "           [  77,    1,   75],\n",
       "           [  77,   75,  117],\n",
       "           ...,\n",
       "           [4995, 1391, 4996],\n",
       "           [4996,  521, 3968],\n",
       "           [4996, 3968, 4995]]], device='cuda:0'),\n",
       "  'evecs': tensor([[[-1.0000e+00, -1.0865e+00, -2.4087e-03,  ..., -2.3433e-01,\n",
       "             8.9461e-01,  1.3991e+00],\n",
       "           [-1.0000e+00, -1.0896e+00, -2.4795e-03,  ..., -2.5126e-01,\n",
       "             3.7075e-01,  1.4473e+00],\n",
       "           [-1.0000e+00, -1.0573e+00, -2.9834e-03,  ..., -1.3245e+00,\n",
       "             1.2630e-01,  6.2888e-01],\n",
       "           ...,\n",
       "           [-1.0000e+00,  1.5858e+00, -2.6688e+00,  ..., -1.2621e+00,\n",
       "            -6.4518e-01,  1.5171e+00],\n",
       "           [-1.0000e+00,  1.5865e+00, -2.6705e+00,  ..., -8.1865e-01,\n",
       "            -4.8417e-01,  1.6112e+00],\n",
       "           [-1.0000e+00,  1.5865e+00, -2.6706e+00,  ..., -1.0886e+00,\n",
       "            -5.9350e-01,  1.5717e+00]]], device='cuda:0'),\n",
       "  'evecs_trans': tensor([[[-8.6220e-05, -1.2673e-04, -2.2897e-04,  ..., -1.7082e-05,\n",
       "            -1.7686e-05, -1.6672e-05],\n",
       "           [-9.3682e-05, -1.3808e-04, -2.4208e-04,  ...,  2.7088e-05,\n",
       "             2.8059e-05,  2.6451e-05],\n",
       "           [-2.0768e-07, -3.1424e-07, -6.8310e-07,  ..., -4.5587e-05,\n",
       "            -4.7230e-05, -4.4525e-05],\n",
       "           ...,\n",
       "           [-2.0204e-05, -3.1843e-05, -3.0326e-04,  ..., -2.1559e-05,\n",
       "            -1.4478e-05, -1.8149e-05],\n",
       "           [ 7.7133e-05,  4.6986e-05,  2.8918e-05,  ..., -1.1021e-05,\n",
       "            -8.5629e-06, -9.8949e-06],\n",
       "           [ 1.2063e-04,  1.8342e-04,  1.4399e-04,  ...,  2.5914e-05,\n",
       "             2.8495e-05,  2.6204e-05]]], device='cuda:0'),\n",
       "  'evals': tensor([[5.0000e-05, 4.9923e+00, 7.3051e+00, 1.0285e+01, 1.5107e+01, 2.2167e+01,\n",
       "           4.0845e+01, 4.3300e+01, 6.1771e+01, 6.2767e+01, 8.2108e+01, 8.6888e+01,\n",
       "           1.0131e+02, 1.2016e+02, 1.2516e+02, 1.5164e+02, 1.5456e+02, 1.7758e+02,\n",
       "           2.0623e+02, 2.2202e+02, 2.3480e+02, 2.5345e+02, 2.5594e+02, 2.6481e+02,\n",
       "           2.7913e+02, 3.0941e+02, 3.1686e+02, 3.3514e+02, 3.5384e+02, 3.6068e+02,\n",
       "           3.7169e+02, 3.7796e+02, 3.8308e+02, 3.8731e+02, 3.9678e+02, 4.0592e+02,\n",
       "           4.1201e+02, 4.4514e+02, 4.5513e+02, 4.6939e+02, 4.8680e+02, 5.0773e+02,\n",
       "           5.1187e+02, 5.2264e+02, 5.3796e+02, 5.5287e+02, 5.6927e+02, 5.7767e+02,\n",
       "           5.8049e+02, 5.9963e+02, 6.2234e+02, 6.2376e+02, 6.3961e+02, 6.4188e+02,\n",
       "           6.5237e+02, 6.5843e+02, 6.6829e+02, 7.0606e+02, 7.1285e+02, 7.3599e+02,\n",
       "           7.3806e+02, 7.6662e+02, 7.7388e+02, 7.7595e+02, 7.7861e+02, 7.8344e+02,\n",
       "           8.1722e+02, 8.2738e+02, 8.3868e+02, 8.5411e+02, 8.5869e+02, 8.7566e+02,\n",
       "           8.8143e+02, 8.9251e+02, 8.9790e+02, 9.0422e+02, 9.1110e+02, 9.1585e+02,\n",
       "           9.2842e+02, 9.6249e+02, 9.8035e+02, 9.8615e+02, 1.0041e+03, 1.0093e+03,\n",
       "           1.0179e+03, 1.0260e+03, 1.0300e+03, 1.0368e+03, 1.0423e+03, 1.0622e+03,\n",
       "           1.0654e+03, 1.0803e+03, 1.1037e+03, 1.1132e+03, 1.1232e+03, 1.1412e+03,\n",
       "           1.1490e+03, 1.1561e+03, 1.1679e+03, 1.1703e+03, 1.1770e+03, 1.2082e+03,\n",
       "           1.2171e+03, 1.2215e+03, 1.2271e+03, 1.2338e+03, 1.2492e+03, 1.2543e+03,\n",
       "           1.2604e+03, 1.2693e+03, 1.2732e+03, 1.2821e+03, 1.2990e+03, 1.3035e+03,\n",
       "           1.3197e+03, 1.3335e+03, 1.3419e+03, 1.3520e+03, 1.3588e+03, 1.3721e+03,\n",
       "           1.3828e+03, 1.3913e+03, 1.3999e+03, 1.4081e+03, 1.4338e+03, 1.4409e+03,\n",
       "           1.4465e+03, 1.4580e+03, 1.4622e+03, 1.4775e+03, 1.4880e+03, 1.4946e+03,\n",
       "           1.5020e+03, 1.5111e+03, 1.5212e+03, 1.5440e+03, 1.5773e+03, 1.5870e+03,\n",
       "           1.5935e+03, 1.6110e+03, 1.6193e+03, 1.6198e+03, 1.6386e+03, 1.6446e+03,\n",
       "           1.6608e+03, 1.6702e+03, 1.6943e+03, 1.6995e+03, 1.7151e+03, 1.7337e+03,\n",
       "           1.7350e+03, 1.7602e+03, 1.7659e+03, 1.7792e+03, 1.7860e+03, 1.7941e+03,\n",
       "           1.8051e+03, 1.8211e+03, 1.8395e+03, 1.8547e+03, 1.8581e+03, 1.8695e+03,\n",
       "           1.8795e+03, 1.8857e+03, 1.8960e+03, 1.9027e+03, 1.9093e+03, 1.9199e+03,\n",
       "           1.9290e+03, 1.9397e+03, 1.9492e+03, 1.9534e+03, 1.9646e+03, 1.9660e+03,\n",
       "           1.9797e+03, 1.9861e+03, 2.0038e+03, 2.0137e+03, 2.0221e+03, 2.0301e+03,\n",
       "           2.0410e+03, 2.0543e+03, 2.0616e+03, 2.0691e+03, 2.0813e+03, 2.0857e+03,\n",
       "           2.1067e+03, 2.1132e+03, 2.1319e+03, 2.1376e+03, 2.1565e+03, 2.1645e+03,\n",
       "           2.1785e+03, 2.1960e+03, 2.1973e+03, 2.2092e+03, 2.2216e+03, 2.2410e+03,\n",
       "           2.2453e+03, 2.2523e+03]], device='cuda:0'),\n",
       "  'mass': tensor([[8.6220e-05, 1.2673e-04, 2.2897e-04,  ..., 1.7082e-05, 1.7686e-05,\n",
       "           1.6672e-05]], device='cuda:0'),\n",
       "  'L': tensor([[[ 3.4662,  0.0000,  0.0000,  ...,  0.0000,  0.0000,  0.0000],\n",
       "           [ 0.0000,  3.5766,  0.0000,  ...,  0.0000,  0.0000,  0.0000],\n",
       "           [ 0.0000,  0.0000,  3.5096,  ...,  0.0000,  0.0000,  0.0000],\n",
       "           ...,\n",
       "           [ 0.0000,  0.0000,  0.0000,  ...,  4.9335,  0.0000, -0.6841],\n",
       "           [ 0.0000,  0.0000,  0.0000,  ...,  0.0000,  3.5600, -0.4529],\n",
       "           [ 0.0000,  0.0000,  0.0000,  ..., -0.6841, -0.4529,  3.6401]]],\n",
       "         device='cuda:0'),\n",
       "  'dist': tensor([[[0.0000, 0.0206, 0.0660,  ..., 1.3346, 1.3429, 1.3385],\n",
       "           [0.0206, 0.0000, 0.0651,  ..., 1.3377, 1.3459, 1.3416],\n",
       "           [0.0660, 0.0651, 0.0000,  ..., 1.2725, 1.2808, 1.2765],\n",
       "           ...,\n",
       "           [1.3346, 1.3377, 1.2725,  ..., 0.0000, 0.0083, 0.0039],\n",
       "           [1.3429, 1.3459, 1.2808,  ..., 0.0083, 0.0000, 0.0049],\n",
       "           [1.3385, 1.3416, 1.2765,  ..., 0.0039, 0.0049, 0.0000]]],\n",
       "         device='cuda:0'),\n",
       "  'corr': tensor([[4400, 1139, 1902,  ..., 3624,  137, 2617]], device='cuda:0')}}"
      ]
     },
     "execution_count": 18,
     "metadata": {},
     "output_type": "execute_result"
    }
   ],
   "source": [
    "to_device(data, device)"
   ]
  },
  {
   "cell_type": "markdown",
   "id": "3dc1afff",
   "metadata": {},
   "source": [
    "## Training loop"
   ]
  },
  {
   "cell_type": "code",
   "execution_count": 32,
   "id": "e6746169",
   "metadata": {},
   "outputs": [
    {
     "data": {
      "text/plain": [
       "Adam (\n",
       "Parameter Group 0\n",
       "    amsgrad: False\n",
       "    betas: (0.9, 0.999)\n",
       "    capturable: False\n",
       "    differentiable: False\n",
       "    eps: 1e-08\n",
       "    foreach: None\n",
       "    fused: False\n",
       "    lr: 0.001\n",
       "    maximize: False\n",
       "    weight_decay: 0\n",
       ")"
      ]
     },
     "execution_count": 32,
     "metadata": {},
     "output_type": "execute_result"
    }
   ],
   "source": [
    "import torch.optim as optim\n",
    "\n",
    "optimizer = optim.Adam(\n",
    "    params=urssm.parameters(),\n",
    "    lr=1.0e-3,\n",
    ")\n",
    "optimizer"
   ]
  },
  {
   "cell_type": "code",
   "execution_count": 37,
   "id": "37b28c9a",
   "metadata": {},
   "outputs": [
    {
     "name": "stdout",
     "output_type": "stream",
     "text": [
      "batch 0 loss: 168.72573852539062\n",
      "batch 1 loss: 161.0816650390625\n",
      "batch 2 loss: 158.69309997558594\n",
      "batch 3 loss: 140.21925354003906\n",
      "batch 4 loss: 118.90010833740234\n",
      "batch 5 loss: 168.7462158203125\n",
      "batch 6 loss: 147.72103881835938\n",
      "batch 7 loss: 130.97396850585938\n",
      "batch 8 loss: 135.06170654296875\n",
      "batch 9 loss: 149.27003479003906\n",
      "batch 10 loss: 163.2886962890625\n",
      "batch 11 loss: 167.516845703125\n"
     ]
    }
   ],
   "source": [
    "for batch, data in enumerate(dataloader):\n",
    "    data = to_device(data, device)\n",
    "    infer = urssm(data['first'], data['second'])\n",
    "    loss_value = loss(infer, data)\n",
    "\n",
    "    print(f'batch {batch} loss: {loss_value.item()}')\n",
    "\n",
    "    optimizer.zero_grad()\n",
    "    loss_value.backward()\n",
    "    optimizer.step()\n",
    "\n",
    "    if batch > 10:\n",
    "        break"
   ]
  },
  {
   "cell_type": "code",
   "execution_count": null,
   "id": "c61fd5aa",
   "metadata": {},
   "outputs": [
    {
     "name": "stdout",
     "output_type": "stream",
     "text": [
      "batch 0 loss: 153.46319580078125\n",
      "batch 1 loss: 152.51292419433594\n",
      "batch 2 loss: 150.9139404296875\n",
      "batch 3 loss: 150.45840454101562\n",
      "batch 4 loss: 149.34332275390625\n",
      "batch 5 loss: 150.97003173828125\n",
      "batch 6 loss: 150.73577880859375\n",
      "batch 7 loss: 148.7731170654297\n",
      "batch 8 loss: 144.04058837890625\n",
      "batch 9 loss: 147.0554656982422\n"
     ]
    }
   ],
   "source": [
    "for batch in range(10):\n",
    "    data = to_device(data, device)\n",
    "    infer = urssm(data['first'], data['second'])\n",
    "    loss_value = loss(infer, data)\n",
    "    \n",
    "    print(f'batch {batch} loss: {loss_value.item()}')\n",
    "\n",
    "    optimizer.zero_grad()\n",
    "    loss_value.backward()\n",
    "    optimizer.step()\n",
    "\n",
    "    if batch > 10:\n",
    "        break"
   ]
  },
  {
   "cell_type": "code",
   "execution_count": null,
   "id": "ac98d2ba",
   "metadata": {},
   "outputs": [],
   "source": []
  }
 ],
 "metadata": {
  "kernelspec": {
   "display_name": "dongliang-cao-2023-cvpr",
   "language": "python",
   "name": "python3"
  },
  "language_info": {
   "codemirror_mode": {
    "name": "ipython",
    "version": 3
   },
   "file_extension": ".py",
   "mimetype": "text/x-python",
   "name": "python",
   "nbconvert_exporter": "python",
   "pygments_lexer": "ipython3",
   "version": "3.8.20"
  }
 },
 "nbformat": 4,
 "nbformat_minor": 5
}
