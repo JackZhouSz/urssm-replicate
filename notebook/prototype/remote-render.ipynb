{
 "cells": [
  {
   "cell_type": "code",
   "execution_count": 1,
   "id": "d0c7ebb9",
   "metadata": {},
   "outputs": [],
   "source": [
    "import pyvista as pv\n",
    "pv.set_jupyter_backend('html')"
   ]
  },
  {
   "cell_type": "markdown",
   "id": "9d0d5629",
   "metadata": {},
   "source": [
    "## Init weights"
   ]
  },
  {
   "cell_type": "markdown",
   "id": "1a311cb9",
   "metadata": {},
   "source": [
    "### Symbol grid texture"
   ]
  },
  {
   "cell_type": "code",
   "execution_count": 2,
   "id": "c6e9ecb2",
   "metadata": {},
   "outputs": [
    {
     "name": "stderr",
     "output_type": "stream",
     "text": [
      "\u001b[0m\u001b[33m2025-07-04 15:48:46.530 (   2.644s) [    7BD157A03440]vtkXOpenGLRenderWindow.:1416  WARN| bad X server connection. DISPLAY=\u001b[0m\n"
     ]
    },
    {
     "data": {
      "application/vnd.jupyter.widget-view+json": {
       "model_id": "f871ccc0ee2048019cec0cb772a75aa6",
       "version_major": 2,
       "version_minor": 0
      },
      "text/plain": [
       "EmbeddableWidget(value='<iframe srcdoc=\"<!DOCTYPE html>\\n<html>\\n  <head>\\n    <meta http-equiv=&quot;Content-…"
      ]
     },
     "metadata": {},
     "output_type": "display_data"
    }
   ],
   "source": [
    "pl = pv.Plotter()\n",
    "pl.add_mesh(\n",
    "    mesh=pv.read('output/init-sym-grid/tr_reg_000.obj'),\n",
    "    texture=pv.read_texture('output/init-sym-grid/texture-sym-grid.png'),\n",
    ")\n",
    "pl.show()"
   ]
  },
  {
   "cell_type": "code",
   "execution_count": 3,
   "id": "2924be45",
   "metadata": {},
   "outputs": [
    {
     "data": {
      "application/vnd.jupyter.widget-view+json": {
       "model_id": "bf86ef4757b241388483c52949fb9761",
       "version_major": 2,
       "version_minor": 0
      },
      "text/plain": [
       "EmbeddableWidget(value='<iframe srcdoc=\"<!DOCTYPE html>\\n<html>\\n  <head>\\n    <meta http-equiv=&quot;Content-…"
      ]
     },
     "metadata": {},
     "output_type": "display_data"
    }
   ],
   "source": [
    "pl = pv.Plotter()\n",
    "pl.add_mesh(\n",
    "    mesh=pv.read('output/init-sym-grid/tr_reg_000-tr_reg_001.obj'),\n",
    "    texture=pv.read_texture('output/init-sym-grid/texture-sym-grid.png'),\n",
    ")\n",
    "pl.show()"
   ]
  },
  {
   "cell_type": "markdown",
   "id": "61c9212e",
   "metadata": {},
   "source": [
    "### Color gradient texture"
   ]
  },
  {
   "cell_type": "code",
   "execution_count": 4,
   "id": "dcc2b586",
   "metadata": {},
   "outputs": [
    {
     "data": {
      "application/vnd.jupyter.widget-view+json": {
       "model_id": "eb0aeaa8eb0845c480135fce3fdd4ea9",
       "version_major": 2,
       "version_minor": 0
      },
      "text/plain": [
       "EmbeddableWidget(value='<iframe srcdoc=\"<!DOCTYPE html>\\n<html>\\n  <head>\\n    <meta http-equiv=&quot;Content-…"
      ]
     },
     "metadata": {},
     "output_type": "display_data"
    }
   ],
   "source": [
    "pl = pv.Plotter()\n",
    "pl.add_mesh(\n",
    "    mesh=pv.read('output/init-clr-grad/tr_reg_000.obj'),\n",
    "    texture=pv.read_texture('output/init-clr-grad/texture-clr-grad.png'),\n",
    ")\n",
    "pl.show()"
   ]
  },
  {
   "cell_type": "code",
   "execution_count": 5,
   "id": "9c491082",
   "metadata": {},
   "outputs": [
    {
     "data": {
      "application/vnd.jupyter.widget-view+json": {
       "model_id": "a8d9d6da50ec496d955310474b2f9bc2",
       "version_major": 2,
       "version_minor": 0
      },
      "text/plain": [
       "EmbeddableWidget(value='<iframe srcdoc=\"<!DOCTYPE html>\\n<html>\\n  <head>\\n    <meta http-equiv=&quot;Content-…"
      ]
     },
     "metadata": {},
     "output_type": "display_data"
    }
   ],
   "source": [
    "pl = pv.Plotter()\n",
    "pl.add_mesh(\n",
    "    mesh=pv.read('output/init-clr-grad/tr_reg_000-tr_reg_001.obj'),\n",
    "    texture=pv.read_texture('output/init-clr-grad/texture-clr-grad.png'),\n",
    ")\n",
    "pl.show()"
   ]
  },
  {
   "cell_type": "markdown",
   "id": "4d46cf56",
   "metadata": {},
   "source": [
    "## Pretrain weights"
   ]
  },
  {
   "cell_type": "markdown",
   "id": "f71594e4",
   "metadata": {},
   "source": [
    "### Symbol grid texture"
   ]
  },
  {
   "cell_type": "code",
   "execution_count": 6,
   "id": "23ed3902",
   "metadata": {},
   "outputs": [
    {
     "data": {
      "application/vnd.jupyter.widget-view+json": {
       "model_id": "eac7f9007a9843edbcdf6d3bdcffbb14",
       "version_major": 2,
       "version_minor": 0
      },
      "text/plain": [
       "EmbeddableWidget(value='<iframe srcdoc=\"<!DOCTYPE html>\\n<html>\\n  <head>\\n    <meta http-equiv=&quot;Content-…"
      ]
     },
     "metadata": {},
     "output_type": "display_data"
    }
   ],
   "source": [
    "pl = pv.Plotter()\n",
    "pl.add_mesh(\n",
    "    mesh=pv.read('output/pretrain-sym-grid/tr_reg_000.obj'),\n",
    "    texture=pv.read_texture('output/pretrain-sym-grid/texture-sym-grid.png'),\n",
    ")\n",
    "pl.show()"
   ]
  },
  {
   "cell_type": "code",
   "execution_count": 7,
   "id": "8a5859a6",
   "metadata": {},
   "outputs": [
    {
     "data": {
      "application/vnd.jupyter.widget-view+json": {
       "model_id": "552e2927c4ee4246b4bcd1a30488bc40",
       "version_major": 2,
       "version_minor": 0
      },
      "text/plain": [
       "EmbeddableWidget(value='<iframe srcdoc=\"<!DOCTYPE html>\\n<html>\\n  <head>\\n    <meta http-equiv=&quot;Content-…"
      ]
     },
     "metadata": {},
     "output_type": "display_data"
    }
   ],
   "source": [
    "pl = pv.Plotter()\n",
    "pl.add_mesh(\n",
    "    mesh=pv.read('output/pretrain-sym-grid/tr_reg_000-tr_reg_001.obj'),\n",
    "    texture=pv.read_texture('output/pretrain-sym-grid/texture-sym-grid.png'),\n",
    ")\n",
    "pl.show()"
   ]
  },
  {
   "cell_type": "markdown",
   "id": "da72bf02",
   "metadata": {},
   "source": [
    "### Color gradient texture"
   ]
  },
  {
   "cell_type": "code",
   "execution_count": 8,
   "id": "dba9780f",
   "metadata": {},
   "outputs": [
    {
     "data": {
      "application/vnd.jupyter.widget-view+json": {
       "model_id": "787ea504475f461f94e9d129fa1e3743",
       "version_major": 2,
       "version_minor": 0
      },
      "text/plain": [
       "EmbeddableWidget(value='<iframe srcdoc=\"<!DOCTYPE html>\\n<html>\\n  <head>\\n    <meta http-equiv=&quot;Content-…"
      ]
     },
     "metadata": {},
     "output_type": "display_data"
    }
   ],
   "source": [
    "pl = pv.Plotter()\n",
    "pl.add_mesh(\n",
    "    mesh=pv.read('output/pretrain-clr-grad/tr_reg_000.obj'),\n",
    "    texture=pv.read_texture('output/pretrain-clr-grad/texture-clr-grad.png'),\n",
    ")\n",
    "pl.show()"
   ]
  },
  {
   "cell_type": "code",
   "execution_count": 9,
   "id": "dd8356b5",
   "metadata": {},
   "outputs": [
    {
     "data": {
      "application/vnd.jupyter.widget-view+json": {
       "model_id": "e01cd415759d472481857118daebefa8",
       "version_major": 2,
       "version_minor": 0
      },
      "text/plain": [
       "EmbeddableWidget(value='<iframe srcdoc=\"<!DOCTYPE html>\\n<html>\\n  <head>\\n    <meta http-equiv=&quot;Content-…"
      ]
     },
     "metadata": {},
     "output_type": "display_data"
    }
   ],
   "source": [
    "pl = pv.Plotter()\n",
    "pl.add_mesh(\n",
    "    mesh=pv.read('output/pretrain-clr-grad/tr_reg_000-tr_reg_001.obj'),\n",
    "    texture=pv.read_texture('output/pretrain-clr-grad/texture-clr-grad.png'),\n",
    ")\n",
    "pl.show()"
   ]
  },
  {
   "cell_type": "markdown",
   "id": "4031046e",
   "metadata": {},
   "source": [
    "### Symbol grid texture with test-time adaptation"
   ]
  },
  {
   "cell_type": "code",
   "execution_count": 10,
   "id": "decc5011",
   "metadata": {},
   "outputs": [
    {
     "data": {
      "application/vnd.jupyter.widget-view+json": {
       "model_id": "6a2caa7e9bc7467192223fb2525aff98",
       "version_major": 2,
       "version_minor": 0
      },
      "text/plain": [
       "EmbeddableWidget(value='<iframe srcdoc=\"<!DOCTYPE html>\\n<html>\\n  <head>\\n    <meta http-equiv=&quot;Content-…"
      ]
     },
     "metadata": {},
     "output_type": "display_data"
    }
   ],
   "source": [
    "pl = pv.Plotter()\n",
    "pl.add_mesh(\n",
    "    mesh=pv.read('output/pretrain-sym-grid/refine/tr_reg_000.obj'),\n",
    "    texture=pv.read_texture('output/pretrain-sym-grid/refine/texture-sym-grid.png'),\n",
    ")\n",
    "pl.show()"
   ]
  },
  {
   "cell_type": "code",
   "execution_count": 11,
   "id": "23736db4",
   "metadata": {},
   "outputs": [
    {
     "data": {
      "application/vnd.jupyter.widget-view+json": {
       "model_id": "7bbeff38b059453192e4c024075bf6b1",
       "version_major": 2,
       "version_minor": 0
      },
      "text/plain": [
       "EmbeddableWidget(value='<iframe srcdoc=\"<!DOCTYPE html>\\n<html>\\n  <head>\\n    <meta http-equiv=&quot;Content-…"
      ]
     },
     "metadata": {},
     "output_type": "display_data"
    }
   ],
   "source": [
    "pl = pv.Plotter()\n",
    "pl.add_mesh(\n",
    "    mesh=pv.read('output/pretrain-sym-grid/refine/tr_reg_000-tr_reg_001.obj'),\n",
    "    texture=pv.read_texture('output/pretrain-sym-grid/refine/texture-sym-grid.png'),\n",
    ")\n",
    "pl.show()"
   ]
  },
  {
   "cell_type": "code",
   "execution_count": null,
   "id": "cc0f0c40",
   "metadata": {},
   "outputs": [],
   "source": []
  }
 ],
 "metadata": {
  "kernelspec": {
   "display_name": "fmap",
   "language": "python",
   "name": "python3"
  },
  "language_info": {
   "codemirror_mode": {
    "name": "ipython",
    "version": 3
   },
   "file_extension": ".py",
   "mimetype": "text/x-python",
   "name": "python",
   "nbconvert_exporter": "python",
   "pygments_lexer": "ipython3",
   "version": "3.10.18"
  }
 },
 "nbformat": 4,
 "nbformat_minor": 5
}
