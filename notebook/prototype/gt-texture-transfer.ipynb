{
 "cells": [
  {
   "cell_type": "code",
   "execution_count": 1,
   "id": "03cd64b2",
   "metadata": {},
   "outputs": [],
   "source": [
    "%reload_ext autoreload\n",
    "%autoreload 2"
   ]
  },
  {
   "cell_type": "code",
   "execution_count": 2,
   "id": "c810c4a6",
   "metadata": {},
   "outputs": [],
   "source": [
    "import sys\n",
    "sys.path.append('../..')"
   ]
  },
  {
   "cell_type": "code",
   "execution_count": 3,
   "id": "67f2724b",
   "metadata": {},
   "outputs": [
    {
     "data": {
      "text/plain": [
       "'cuda'"
      ]
     },
     "execution_count": 3,
     "metadata": {},
     "output_type": "execute_result"
    }
   ],
   "source": [
    "import torch\n",
    "device = 'cuda' if torch.cuda.is_available() else 'cpu'\n",
    "device"
   ]
  },
  {
   "cell_type": "code",
   "execution_count": 4,
   "id": "848513d8",
   "metadata": {},
   "outputs": [
    {
     "name": "stdout",
     "output_type": "stream",
     "text": [
      "Jupyter environment detected. Enabling Open3D WebVisualizer.\n",
      "[Open3D INFO] WebRTC GUI backend enabled.\n",
      "[Open3D INFO] WebRTCWindowSystem: HTTP handshake server disabled.\n"
     ]
    }
   ],
   "source": [
    "from src.infra import config\n",
    "\n",
    "path = '../../config/vec.yaml'\n",
    "opt = config.load_config(path)\n",
    "opt.path = path"
   ]
  },
  {
   "cell_type": "markdown",
   "id": "0136a710",
   "metadata": {},
   "source": [
    "## Dataset & dataloader"
   ]
  },
  {
   "cell_type": "code",
   "execution_count": 7,
   "id": "a9128a84",
   "metadata": {},
   "outputs": [],
   "source": [
    "from pathlib import Path\n",
    "\n",
    "data_root = Path('/home/knpob/Documents/Hinton/data/shape-corr/FAUST_r')"
   ]
  },
  {
   "cell_type": "code",
   "execution_count": 13,
   "id": "8675d402",
   "metadata": {},
   "outputs": [
    {
     "data": {
      "text/plain": [
       "6400"
      ]
     },
     "execution_count": 13,
     "metadata": {},
     "output_type": "execute_result"
    }
   ],
   "source": [
    "from src.dataset.shape_cor_fast import PairFaustDatasetFast\n",
    "\n",
    "dataset = PairFaustDatasetFast(\n",
    "    data_root=data_root,\n",
    "    phase='train',\n",
    "    return_faces=True,\n",
    "    return_L=True,\n",
    "    return_mass=True,\n",
    "    num_evecs=200,\n",
    "    return_evecs=True,\n",
    "    return_grad=True,\n",
    "    return_corr=True,\n",
    "    return_dist=False,\n",
    ")\n",
    "len(dataset)"
   ]
  },
  {
   "cell_type": "code",
   "execution_count": 124,
   "id": "d55d6e7e",
   "metadata": {},
   "outputs": [
    {
     "data": {
      "text/plain": [
       "800"
      ]
     },
     "execution_count": 124,
     "metadata": {},
     "output_type": "execute_result"
    }
   ],
   "source": [
    "from src.dataloader.shape_cor_batch import BatchShapePairDataLoader\n",
    "\n",
    "dataloader = BatchShapePairDataLoader(\n",
    "    dataset,\n",
    "    batch_size=8,\n",
    "    shuffle=False,\n",
    "    num_workers=0,\n",
    ")\n",
    "len(dataloader)"
   ]
  },
  {
   "cell_type": "code",
   "execution_count": 125,
   "id": "cae47d5c",
   "metadata": {},
   "outputs": [
    {
     "data": {
      "text/plain": [
       "(['tr_reg_000',\n",
       "  'tr_reg_000',\n",
       "  'tr_reg_000',\n",
       "  'tr_reg_000',\n",
       "  'tr_reg_000',\n",
       "  'tr_reg_000',\n",
       "  'tr_reg_000',\n",
       "  'tr_reg_000'],\n",
       " ['tr_reg_008',\n",
       "  'tr_reg_009',\n",
       "  'tr_reg_010',\n",
       "  'tr_reg_011',\n",
       "  'tr_reg_012',\n",
       "  'tr_reg_013',\n",
       "  'tr_reg_014',\n",
       "  'tr_reg_015'])"
      ]
     },
     "execution_count": 125,
     "metadata": {},
     "output_type": "execute_result"
    }
   ],
   "source": [
    "from src.utils.tensor import to_device\n",
    "\n",
    "for idx, data in enumerate(dataloader):\n",
    "    data = to_device(data, device)\n",
    "    if idx == 1:\n",
    "        break\n",
    "\n",
    "data['first']['name'], data['second']['name'], "
   ]
  },
  {
   "cell_type": "code",
   "execution_count": 126,
   "id": "d7815484",
   "metadata": {},
   "outputs": [],
   "source": [
    "def corr2pointmap_vectorized(corr_x, corr_y, num_verts_y):\n",
    "    \"\"\"\n",
    "    Convert a pair of correspondences to point-to-point map in a vectorized manner.\n",
    "    Args:\n",
    "        corr_x (torch.Tensor): Correspondences from template to target. Shape [B, V_t] _P.S. V_t is the number of vertices in the template shape._\n",
    "        corr_y (torch.Tensor): Correspondences from target to template. Shape [B, V_t]\n",
    "        num_verts_y (int): Number of vertices in the target shape.\n",
    "    Returns:\n",
    "        p2p (torch.Tensor): Point-to-point map (shape y -> shape x). Shape [B, V_y] _P.S. Padded points will have value -1.\n",
    "    \"\"\"\n",
    "    # template -(corr_x)-> shape x <--> shape y <-(corr_y)- target\n",
    "    # i.e. the i-th row of corr_y is correspongding with the i-th row of corr_x\n",
    "    B, V_t = corr_x.shape\n",
    "    batch_idx = torch.arange(B, device=corr_y.device).unsqueeze(1).expand(B, V_t)  # [B, V_t]\n",
    "    p2p_t = torch.full((B, V_t), -1, dtype=torch.long).to(device=corr_y.device)\n",
    "    p2p_t[batch_idx, corr_y] = corr_x\n",
    "\n",
    "    # get p2p in shape [B, V_y]\n",
    "    V_y = num_verts_y\n",
    "\n",
    "    if V_t > V_y:\n",
    "        p2p = p2p_t[:, :V_y]\n",
    "\n",
    "    else:\n",
    "        p2p = torch.full((B, V_y), -1, dtype=torch.long).to(device=corr_y.device)\n",
    "        p2p[:, :V_t] = p2p_t\n",
    "    \n",
    "    return p2p"
   ]
  },
  {
   "cell_type": "code",
   "execution_count": 127,
   "id": "555c8cdb",
   "metadata": {},
   "outputs": [
    {
     "data": {
      "text/plain": [
       "tensor([[4466, 1211, 2037,  ..., 3712,  182, 2703],\n",
       "        [4414, 1138, 1930,  ..., 3604,  141, 2499],\n",
       "        [4420, 1137, 1903,  ..., 3627, 2400, 2591],\n",
       "        ...,\n",
       "        [4402, 1169, 1929,  ..., 3664,  160, 2617],\n",
       "        [4306, 1089, 1845,  ..., 3604,  146, 2490],\n",
       "        [4433, 1149, 1941,  ..., 3656,  180, 2601]], device='cuda:0')"
      ]
     },
     "execution_count": 127,
     "metadata": {},
     "output_type": "execute_result"
    }
   ],
   "source": [
    "data['second']['corr']"
   ]
  },
  {
   "cell_type": "code",
   "execution_count": 128,
   "id": "19e1e3ed",
   "metadata": {},
   "outputs": [
    {
     "data": {
      "text/plain": [
       "tensor([[4414, 1129, 1929,  ..., 3617,  173, 2482],\n",
       "        [4414, 1129, 1929,  ..., 3617,  173, 2482],\n",
       "        [4414, 1129, 1929,  ..., 3617,  173, 2482],\n",
       "        ...,\n",
       "        [4414, 1129, 1929,  ..., 3617,  173, 2482],\n",
       "        [4414, 1129, 1929,  ..., 3617,  173, 2482],\n",
       "        [4414, 1129, 1929,  ..., 3617,  173, 2482]], device='cuda:0')"
      ]
     },
     "execution_count": 128,
     "metadata": {},
     "output_type": "execute_result"
    }
   ],
   "source": [
    "data['first']['corr']"
   ]
  },
  {
   "cell_type": "code",
   "execution_count": 129,
   "id": "db5d83cd",
   "metadata": {},
   "outputs": [
    {
     "data": {
      "text/plain": [
       "tensor([[   0,   16,    2,  ...,   -1,   -1,   -1],\n",
       "        [   0, 2383,   96,  ...,   -1,   -1,   -1],\n",
       "        [   0,   28,    2,  ..., 1949,   -1,   -1],\n",
       "        ...,\n",
       "        [  71,   16,    2,  ...,   -1,   -1,   -1],\n",
       "        [   0,    1,  118,  ..., 1949,   -1,   -1],\n",
       "        [  70,   28,  118,  ...,   -1,   -1,   -1]], device='cuda:0')"
      ]
     },
     "execution_count": 129,
     "metadata": {},
     "output_type": "execute_result"
    }
   ],
   "source": [
    "# from src.utils.fmap import corr2pointmap_vectorized\n",
    "\n",
    "p2p = corr2pointmap_vectorized(\n",
    "    corr_x=data['first']['corr'],\n",
    "    corr_y=data['second']['corr'],\n",
    "    num_verts_y=max(data['second']['num_verts']),\n",
    ")\n",
    "p2p"
   ]
  },
  {
   "cell_type": "code",
   "execution_count": null,
   "id": "fe09fed1",
   "metadata": {},
   "outputs": [
    {
     "data": {
      "text/plain": [
       "tensor([[[1., 0., 0.,  ..., 0., 0., 0.],\n",
       "         [0., 0., 0.,  ..., 0., 0., 0.],\n",
       "         [0., 0., 1.,  ..., 0., 0., 0.],\n",
       "         ...,\n",
       "         [0., 0., 0.,  ..., 0., 0., 0.],\n",
       "         [0., 0., 0.,  ..., 0., 0., 0.],\n",
       "         [0., 0., 0.,  ..., 0., 0., 0.]],\n",
       "\n",
       "        [[1., 0., 0.,  ..., 0., 0., 0.],\n",
       "         [0., 0., 0.,  ..., 0., 0., 0.],\n",
       "         [0., 0., 0.,  ..., 0., 0., 0.],\n",
       "         ...,\n",
       "         [0., 0., 0.,  ..., 0., 0., 0.],\n",
       "         [0., 0., 0.,  ..., 0., 0., 0.],\n",
       "         [0., 0., 0.,  ..., 0., 0., 0.]],\n",
       "\n",
       "        [[1., 0., 0.,  ..., 0., 0., 0.],\n",
       "         [0., 0., 0.,  ..., 0., 0., 0.],\n",
       "         [0., 0., 1.,  ..., 0., 0., 0.],\n",
       "         ...,\n",
       "         [0., 0., 0.,  ..., 0., 0., 0.],\n",
       "         [0., 0., 0.,  ..., 0., 0., 0.],\n",
       "         [0., 0., 0.,  ..., 0., 0., 0.]],\n",
       "\n",
       "        ...,\n",
       "\n",
       "        [[0., 0., 0.,  ..., 0., 0., 0.],\n",
       "         [0., 0., 0.,  ..., 0., 0., 0.],\n",
       "         [0., 0., 1.,  ..., 0., 0., 0.],\n",
       "         ...,\n",
       "         [0., 0., 0.,  ..., 0., 0., 0.],\n",
       "         [0., 0., 0.,  ..., 0., 0., 0.],\n",
       "         [0., 0., 0.,  ..., 0., 0., 0.]],\n",
       "\n",
       "        [[1., 0., 0.,  ..., 0., 0., 0.],\n",
       "         [0., 1., 0.,  ..., 0., 0., 0.],\n",
       "         [0., 0., 0.,  ..., 0., 0., 0.],\n",
       "         ...,\n",
       "         [0., 0., 0.,  ..., 0., 0., 0.],\n",
       "         [0., 0., 0.,  ..., 0., 0., 0.],\n",
       "         [0., 0., 0.,  ..., 0., 0., 0.]],\n",
       "\n",
       "        [[0., 0., 0.,  ..., 0., 0., 0.],\n",
       "         [0., 0., 0.,  ..., 0., 0., 0.],\n",
       "         [0., 0., 0.,  ..., 0., 0., 0.],\n",
       "         ...,\n",
       "         [0., 0., 0.,  ..., 0., 0., 0.],\n",
       "         [0., 0., 0.,  ..., 0., 0., 0.],\n",
       "         [0., 0., 0.,  ..., 0., 0., 0.]]], device='cuda:0')"
      ]
     },
     "execution_count": 156,
     "metadata": {},
     "output_type": "execute_result"
    }
   ],
   "source": [
    "import torch\n",
    "\n",
    "# verts_mask_x = data['first']['verts_mask']\n",
    "# verts_mask_y = data['second']['verts_mask']\n",
    "B, V_y, V_x = len(p2p), max(data['second']['num_verts']), max(data['first']['num_verts'])\n",
    "\n",
    "\n",
    "Pyx"
   ]
  },
  {
   "cell_type": "code",
   "execution_count": 158,
   "id": "47b6356e",
   "metadata": {},
   "outputs": [
    {
     "data": {
      "text/plain": [
       "tensor([[1., 1., 1.,  ..., 1., 1., 2.],\n",
       "        [1., 1., 1.,  ..., 0., 1., 2.],\n",
       "        [1., 1., 1.,  ..., 1., 1., 2.],\n",
       "        ...,\n",
       "        [0., 1., 1.,  ..., 1., 1., 1.],\n",
       "        [1., 1., 1.,  ..., 0., 1., 1.],\n",
       "        [1., 0., 0.,  ..., 0., 1., 1.]], device='cuda:0')"
      ]
     },
     "execution_count": 158,
     "metadata": {},
     "output_type": "execute_result"
    }
   ],
   "source": [
    "Pyx.sum(axis=1)"
   ]
  },
  {
   "cell_type": "code",
   "execution_count": null,
   "id": "192ad08b",
   "metadata": {},
   "outputs": [],
   "source": []
  }
 ],
 "metadata": {
  "kernelspec": {
   "display_name": "fmap",
   "language": "python",
   "name": "python3"
  },
  "language_info": {
   "codemirror_mode": {
    "name": "ipython",
    "version": 3
   },
   "file_extension": ".py",
   "mimetype": "text/x-python",
   "name": "python",
   "nbconvert_exporter": "python",
   "pygments_lexer": "ipython3",
   "version": "3.10.18"
  }
 },
 "nbformat": 4,
 "nbformat_minor": 5
}
