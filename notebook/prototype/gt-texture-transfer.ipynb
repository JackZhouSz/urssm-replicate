{
 "cells": [
  {
   "cell_type": "code",
   "execution_count": 1,
   "id": "03cd64b2",
   "metadata": {},
   "outputs": [],
   "source": [
    "%reload_ext autoreload\n",
    "%autoreload 2"
   ]
  },
  {
   "cell_type": "code",
   "execution_count": 2,
   "id": "c810c4a6",
   "metadata": {},
   "outputs": [],
   "source": [
    "import sys\n",
    "sys.path.append('../..')"
   ]
  },
  {
   "cell_type": "code",
   "execution_count": 3,
   "id": "67f2724b",
   "metadata": {},
   "outputs": [
    {
     "data": {
      "text/plain": [
       "'cuda'"
      ]
     },
     "execution_count": 3,
     "metadata": {},
     "output_type": "execute_result"
    }
   ],
   "source": [
    "import torch\n",
    "device = 'cuda' if torch.cuda.is_available() else 'cpu'\n",
    "device"
   ]
  },
  {
   "cell_type": "code",
   "execution_count": 4,
   "id": "848513d8",
   "metadata": {},
   "outputs": [
    {
     "name": "stdout",
     "output_type": "stream",
     "text": [
      "Jupyter environment detected. Enabling Open3D WebVisualizer.\n",
      "[Open3D INFO] WebRTC GUI backend enabled.\n",
      "[Open3D INFO] WebRTCWindowSystem: HTTP handshake server disabled.\n"
     ]
    }
   ],
   "source": [
    "from src.infra import config\n",
    "\n",
    "path = '../../config/vec.yaml'\n",
    "opt = config.load_config(path)\n",
    "opt.path = path"
   ]
  },
  {
   "cell_type": "markdown",
   "id": "0136a710",
   "metadata": {},
   "source": [
    "## Dataset & dataloader"
   ]
  },
  {
   "cell_type": "code",
   "execution_count": 5,
   "id": "a9128a84",
   "metadata": {},
   "outputs": [],
   "source": [
    "from pathlib import Path\n",
    "\n",
    "data_root = Path('/home/knpob/Documents/Hinton/data/shape-corr/FAUST_r')"
   ]
  },
  {
   "cell_type": "code",
   "execution_count": 38,
   "id": "8675d402",
   "metadata": {},
   "outputs": [
    {
     "data": {
      "text/plain": [
       "6400"
      ]
     },
     "execution_count": 38,
     "metadata": {},
     "output_type": "execute_result"
    }
   ],
   "source": [
    "from src.dataset.shape_cor_fast import PairFaustDatasetFast\n",
    "\n",
    "dataset = PairFaustDatasetFast(\n",
    "    data_root=data_root,\n",
    "    phase='train',\n",
    "    return_faces=True,\n",
    "    return_L=True,\n",
    "    return_mass=True,\n",
    "    num_evecs=200,\n",
    "    return_evecs=True,\n",
    "    return_grad=True,\n",
    "    return_corr=True,\n",
    "    return_dist=True,\n",
    ")\n",
    "len(dataset)"
   ]
  },
  {
   "cell_type": "code",
   "execution_count": 39,
   "id": "d55d6e7e",
   "metadata": {},
   "outputs": [
    {
     "data": {
      "text/plain": [
       "800"
      ]
     },
     "execution_count": 39,
     "metadata": {},
     "output_type": "execute_result"
    }
   ],
   "source": [
    "from src.dataloader.shape_cor_batch import BatchShapePairDataLoader\n",
    "\n",
    "dataloader = BatchShapePairDataLoader(\n",
    "    dataset,\n",
    "    batch_size=8,\n",
    "    shuffle=False,\n",
    "    num_workers=0,\n",
    ")\n",
    "len(dataloader)"
   ]
  },
  {
   "cell_type": "code",
   "execution_count": 40,
   "id": "cae47d5c",
   "metadata": {},
   "outputs": [
    {
     "data": {
      "text/plain": [
       "(['tr_reg_000',\n",
       "  'tr_reg_000',\n",
       "  'tr_reg_000',\n",
       "  'tr_reg_000',\n",
       "  'tr_reg_000',\n",
       "  'tr_reg_000',\n",
       "  'tr_reg_000',\n",
       "  'tr_reg_000'],\n",
       " ['tr_reg_008',\n",
       "  'tr_reg_009',\n",
       "  'tr_reg_010',\n",
       "  'tr_reg_011',\n",
       "  'tr_reg_012',\n",
       "  'tr_reg_013',\n",
       "  'tr_reg_014',\n",
       "  'tr_reg_015'])"
      ]
     },
     "execution_count": 40,
     "metadata": {},
     "output_type": "execute_result"
    }
   ],
   "source": [
    "from src.utils.tensor import to_device\n",
    "\n",
    "for idx, data in enumerate(dataloader):\n",
    "    data = to_device(data, device)\n",
    "    if idx == 1:\n",
    "        break\n",
    "\n",
    "data['first']['name'], data['second']['name'], "
   ]
  },
  {
   "cell_type": "markdown",
   "id": "badcc0b6",
   "metadata": {},
   "source": [
    "## `corr2pointmap`"
   ]
  },
  {
   "cell_type": "code",
   "execution_count": 44,
   "id": "da3d9ec4",
   "metadata": {},
   "outputs": [
    {
     "data": {
      "text/plain": [
       "(torch.Size([8, 5001]),\n",
       " tensor([[   0,   28,    2,  ...,   -1,   -1,   -1],\n",
       "         [   0, 2383,   96,  ...,   -1,   -1,   -1],\n",
       "         [   0,   28,    2,  ..., 1949,   -1,   -1],\n",
       "         ...,\n",
       "         [  71,   16,    2,  ...,   -1,   -1,   -1],\n",
       "         [   0,    1,  118,  ..., 1949,   -1,   -1],\n",
       "         [  70,   28,  118,  ...,   -1,   -1,   -1]], device='cuda:0'))"
      ]
     },
     "execution_count": 44,
     "metadata": {},
     "output_type": "execute_result"
    }
   ],
   "source": [
    "from src.utils.fmap import corr2pointmap_vectorized\n",
    "\n",
    "p2p = corr2pointmap_vectorized(\n",
    "    data['first']['corr'],\n",
    "    data['second']['corr'],\n",
    "    max(data['second']['num_verts']),\n",
    ")\n",
    "p2p.shape, p2p"
   ]
  },
  {
   "cell_type": "markdown",
   "id": "5ab0a874",
   "metadata": {},
   "source": [
    "Surprisingly, the ground-truth `p2p` has a ~4.5 geodesic error on the remeshed FAUST dataset!"
   ]
  },
  {
   "cell_type": "code",
   "execution_count": 45,
   "id": "263872a2",
   "metadata": {},
   "outputs": [
    {
     "data": {
      "text/plain": [
       "(torch.Size([8, 5000]),\n",
       " tensor([[0.0000, 0.0000, 0.0000,  ..., 0.0000, 0.0169, 0.0000],\n",
       "         [0.0000, 0.0000, 0.0000,  ..., 0.0000, 0.0000, 0.0000],\n",
       "         [0.0000, 0.0000, 0.0000,  ..., 0.0000, 0.0000, 0.0000],\n",
       "         ...,\n",
       "         [0.0000, 0.0000, 0.0000,  ..., 0.0000, 0.0000, 0.0114],\n",
       "         [0.0000, 0.0000, 0.0000,  ..., 0.0000, 0.0000, 0.0000],\n",
       "         [0.0000, 0.0000, 0.0000,  ..., 0.0000, 0.0000, 0.0103]],\n",
       "        device='cuda:0'),\n",
       " tensor([0.0046, 0.0045, 0.0045, 0.0045, 0.0046, 0.0046, 0.0045, 0.0045],\n",
       "        device='cuda:0'))"
      ]
     },
     "execution_count": 45,
     "metadata": {},
     "output_type": "execute_result"
    }
   ],
   "source": [
    "from src.metric.geodist import GeodesicDist_vectorized\n",
    "\n",
    "geodist = GeodesicDist_vectorized()\n",
    "err = geodist.geodesic_error(\n",
    "    dist_x=data['first']['dist'],\n",
    "    corr_x=data['first']['corr'],\n",
    "    corr_y=data['second']['corr'],\n",
    "    p2p=p2p,\n",
    ")\n",
    "err.shape, err, err.mean(axis=1)"
   ]
  },
  {
   "cell_type": "code",
   "execution_count": 52,
   "id": "5cb79c65",
   "metadata": {},
   "outputs": [
    {
     "data": {
      "text/plain": [
       "((), np.float32(0.004646266), np.float32(0.004646266))"
      ]
     },
     "execution_count": 52,
     "metadata": {},
     "output_type": "execute_result"
    }
   ],
   "source": [
    "from src.metric.geodist import GeodesicDist\n",
    "\n",
    "geodist = GeodesicDist()\n",
    "err = geodist.calculate_geodesic_error(\n",
    "    dist_x=data['first']['dist'][0].cpu().numpy(),\n",
    "    corr_x=data['first']['corr'][0].cpu().numpy(),\n",
    "    corr_y=data['second']['corr'][0].cpu().numpy(),\n",
    "    p2p=p2p[0].cpu().numpy(),\n",
    ")\n",
    "err.shape, err, err.mean()"
   ]
  },
  {
   "cell_type": "markdown",
   "id": "f8de19ce",
   "metadata": {},
   "source": [
    "## LBO"
   ]
  },
  {
   "cell_type": "code",
   "execution_count": null,
   "id": "27ed0f99",
   "metadata": {},
   "outputs": [],
   "source": [
    "import pyvista as pv\n",
    "pv.set_jupyter_backend('html')"
   ]
  },
  {
   "cell_type": "code",
   "execution_count": null,
   "id": "ffda55bd",
   "metadata": {},
   "outputs": [
    {
     "data": {
      "text/plain": [
       "(torch.Size([8, 4999, 200]), torch.Size([8, 5001, 200]))"
      ]
     },
     "execution_count": 14,
     "metadata": {},
     "output_type": "execute_result"
    }
   ],
   "source": [
    "lbo_x, lbo_y = data['first']['evecs'], data['second']['evecs']\n",
    "lbo_x.shape, lbo_y.shape"
   ]
  },
  {
   "cell_type": "code",
   "execution_count": null,
   "id": "38af784a",
   "metadata": {},
   "outputs": [],
   "source": [
    "import numpy as np\n",
    "\n",
    "batch_interval = 10\n",
    "k = 10\n",
    "shape_disp = np.array([1, 0, 0])\n",
    "pair_disp = np.array([0, 2, 0])\n",
    "cammera_position = 'xy'\n",
    "window_size = [1024, 512]\n",
    "output_folder = Path('output/lbo-samples')\n",
    "output_folder.mkdir(parents=True, exist_ok=True)"
   ]
  },
  {
   "cell_type": "code",
   "execution_count": null,
   "id": "1f14e84f",
   "metadata": {},
   "outputs": [
    {
     "name": "stderr",
     "output_type": "stream",
     "text": [
      "\u001b[0m\u001b[33m2025-07-22 14:04:56.965 (   2.019s) [    7DC8B828E440]vtkXOpenGLRenderWindow.:1416  WARN| bad X server connection. DISPLAY=\u001b[0m\n"
     ]
    }
   ],
   "source": [
    "for idx in range(len(lbo_x)):\n",
    "    pl = pv.Plotter()\n",
    "\n",
    "    name_x, name_y = data['first']['name'][idx], data['second']['name'][idx]\n",
    "    num_verts_x = data['first']['num_verts']\n",
    "    num_verts_y = data['second']['num_verts']\n",
    "    mesh_x = pv.read(data_root / 'off' / f\"{name_x}.off\")\n",
    "    mesh_y = pv.read(data_root / 'off' / f\"{name_y}.off\")\n",
    "    lbo_min = min(lbo_x[idx, :, :k].min(), lbo_y[idx, :, :k].min()).cpu().numpy()\n",
    "    lbo_max = max(lbo_x[idx, :, :k].max(), lbo_y[idx, :, :k].max()).cpu().numpy()\n",
    "\n",
    "    for dim in range(k):\n",
    "        mesh_x[f'lbo-{dim}'] = (lbo_x[idx, :num_verts_x[idx], dim]).cpu().numpy()\n",
    "        mesh_y[f'lbo-{dim}'] = (lbo_y[idx, :num_verts_y[idx], dim]).cpu().numpy()\n",
    "\n",
    "        pl.add_mesh(\n",
    "            mesh=mesh_x.translate(dim * shape_disp),\n",
    "            scalars=f'lbo-{dim}',\n",
    "            cmap='coolwarm',\n",
    "            clim=[lbo_min, lbo_max],\n",
    "            show_scalar_bar=False,\n",
    "        )\n",
    "        pl.add_mesh(\n",
    "            mesh=mesh_y.translate(dim * shape_disp).translate(pair_disp),\n",
    "            scalars=f'lbo-{dim}',\n",
    "            cmap='coolwarm',\n",
    "            clim=[lbo_min, lbo_max],\n",
    "            show_scalar_bar=False,\n",
    "        )\n",
    "\n",
    "    pl.camera_position = 'xy'\n",
    "    pl.zoom_camera(2)\n",
    "    pl.screenshot(output_folder / f'lbo-{idx}.png', window_size=window_size, return_img=False)"
   ]
  },
  {
   "cell_type": "code",
   "execution_count": null,
   "id": "972e384d",
   "metadata": {},
   "outputs": [],
   "source": []
  }
 ],
 "metadata": {
  "kernelspec": {
   "display_name": "fmap",
   "language": "python",
   "name": "python3"
  },
  "language_info": {
   "codemirror_mode": {
    "name": "ipython",
    "version": 3
   },
   "file_extension": ".py",
   "mimetype": "text/x-python",
   "name": "python",
   "nbconvert_exporter": "python",
   "pygments_lexer": "ipython3",
   "version": "3.10.18"
  }
 },
 "nbformat": 4,
 "nbformat_minor": 5
}
