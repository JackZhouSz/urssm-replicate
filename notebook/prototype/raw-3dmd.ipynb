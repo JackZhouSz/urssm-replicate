{
 "cells": [
  {
   "cell_type": "code",
   "execution_count": 2,
   "id": "ea7505f0",
   "metadata": {},
   "outputs": [],
   "source": [
    "import sys\n",
    "sys.path.append('../..')"
   ]
  },
  {
   "cell_type": "markdown",
   "id": "1a0b4b2d",
   "metadata": {},
   "source": [
    "## Trimming mesh with PyVista"
   ]
  },
  {
   "cell_type": "code",
   "execution_count": 3,
   "id": "d0c7ebb9",
   "metadata": {},
   "outputs": [],
   "source": [
    "import pyvista as pv"
   ]
  },
  {
   "cell_type": "code",
   "execution_count": 4,
   "id": "6442fff8",
   "metadata": {},
   "outputs": [
    {
     "data": {
      "text/plain": [
       "(PolyData (0x12f66bdc0)\n",
       "   N Cells:    96048\n",
       "   N Points:   288144\n",
       "   N Strips:   0\n",
       "   X Bounds:   -1.399e+03, 1.111e+03\n",
       "   Y Bounds:   -6.370e+02, 9.704e+02\n",
       "   Z Bounds:   -1.400e+03, 1.065e+03\n",
       "   N Arrays:   6,\n",
       " PolyData (0x149ec12a0)\n",
       "   N Cells:    98605\n",
       "   N Points:   295815\n",
       "   N Strips:   0\n",
       "   X Bounds:   -1.400e+03, 1.149e+03\n",
       "   Y Bounds:   -6.239e+02, 1.148e+03\n",
       "   Z Bounds:   -1.400e+03, 4.273e+02\n",
       "   N Arrays:   6)"
      ]
     },
     "execution_count": 4,
     "metadata": {},
     "output_type": "execute_result"
    }
   ],
   "source": [
    "mesh_x = pv.read('/Users/knpob/Downloads/S6_nude_jump120_0309_0372/meshes/S6_nude_jump120_0309_0372.000001.obj')\n",
    "texture_x = pv.read_texture('/Users/knpob/Downloads/S6_nude_jump120_0309_0372/meshes/S6_nude_jump120_0309_0372.000001.jpg')\n",
    "mesh_y = pv.read('/Users/knpob/Downloads/S6_nude_jump120_0309_0372/meshes/S6_nude_jump120_0309_0372.000032.obj')\n",
    "texture_y = pv.read_texture('/Users/knpob/Downloads/S6_nude_jump120_0309_0372/meshes/S6_nude_jump120_0309_0372.000032.jpg')\n",
    "\n",
    "mesh_x, mesh_y"
   ]
  },
  {
   "cell_type": "code",
   "execution_count": 4,
   "id": "979f53fe",
   "metadata": {},
   "outputs": [],
   "source": [
    "mesh_x_c = mesh_x.clean().split_bodies()[0].extract_surface().triangulate()\n",
    "mesh_y_c = mesh_y.clean().split_bodies()[0].extract_surface().triangulate()\n",
    "# mesh_x_c.plot()\n",
    "# mesh_y_c.plot()"
   ]
  },
  {
   "cell_type": "code",
   "execution_count": 5,
   "id": "2f9e5d89",
   "metadata": {},
   "outputs": [],
   "source": [
    "mesh_x_c.save('output/3dmd/x_clean.ply')\n",
    "mesh_y_c.save('output/3dmd/y_clean.ply')\n",
    "# pv.read('output/3dmd/x_clean.ply').plot()\n",
    "# pv.read('output/3dmd/y_clean.ply').plot()"
   ]
  },
  {
   "cell_type": "code",
   "execution_count": 6,
   "id": "d0f5b4b6",
   "metadata": {},
   "outputs": [
    {
     "data": {
      "text/html": [
       "<table style='width: 100%;'><tr><th>Header</th><th>Data Arrays</th></tr><tr><td>\n",
       "<table style='width: 100%;'>\n",
       "<tr><th>PolyData</th><th>Information</th></tr>\n",
       "<tr><td>N Cells</td><td>65244</td></tr>\n",
       "<tr><td>N Points</td><td>32796</td></tr>\n",
       "<tr><td>N Strips</td><td>0</td></tr>\n",
       "<tr><td>X Bounds</td><td>-5.501e+02, 5.705e+02</td></tr>\n",
       "<tr><td>Y Bounds</td><td>-5.950e+02, 9.704e+02</td></tr>\n",
       "<tr><td>Z Bounds</td><td>-1.806e+02, 1.853e+02</td></tr>\n",
       "<tr><td>N Arrays</td><td>9</td></tr>\n",
       "</table>\n",
       "\n",
       "</td><td>\n",
       "<table style='width: 100%;'>\n",
       "<tr><th>Name</th><th>Field</th><th>Type</th><th>N Comp</th><th>Min</th><th>Max</th></tr>\n",
       "<tr><td>Normals</td><td>Points</td><td>float32</td><td>3</td><td>-9.997e-01</td><td>9.998e-01</td></tr>\n",
       "<tr><td>S6_nude_jump120_0309_0372.000001</td><td>Points</td><td>float32</td><td>2</td><td>1.830e-03</td><td>9.971e-01</td></tr>\n",
       "<tr><td>vtkOriginalPointIds</td><td>Points</td><td>int64</td><td>1</td><td>0.000e+00</td><td>3.280e+04</td></tr>\n",
       "<tr><td>GroupIds</td><td>Cells</td><td>float32</td><td>1</td><td>0.000e+00</td><td>0.000e+00</td></tr>\n",
       "<tr><td>MaterialIds</td><td>Cells</td><td>int32</td><td>1</td><td>0.000e+00</td><td>1.000e+00</td></tr>\n",
       "<tr><td>vtkOriginalCellIds</td><td>Cells</td><td>int64</td><td>1</td><td>0.000e+00</td><td>6.524e+04</td></tr>\n",
       "<tr><td>Normals</td><td>Cells</td><td>float32</td><td>3</td><td>-1.000e+00</td><td>1.000e+00</td></tr>\n",
       "<tr><td>MaterialNames</td><td>Fields</td><td><U32</td><td>1</td><td>nan</td><td>nan</td></tr>\n",
       "<tr><td>MaterialLibraries</td><td>Fields</td><td><U36</td><td>1</td><td>nan</td><td>nan</td></tr>\n",
       "</table>\n",
       "\n",
       "</td></tr> </table>"
      ],
      "text/plain": [
       "PolyData (0x11e6e37c0)\n",
       "  N Cells:    65244\n",
       "  N Points:   32796\n",
       "  N Strips:   0\n",
       "  X Bounds:   -5.501e+02, 5.705e+02\n",
       "  Y Bounds:   -5.950e+02, 9.704e+02\n",
       "  Z Bounds:   -1.806e+02, 1.853e+02\n",
       "  N Arrays:   9"
      ]
     },
     "execution_count": 6,
     "metadata": {},
     "output_type": "execute_result"
    }
   ],
   "source": [
    "mesh_x_c"
   ]
  },
  {
   "cell_type": "markdown",
   "id": "81a5073e",
   "metadata": {},
   "source": [
    "## Mesh simplification with PyMeshLab"
   ]
  },
  {
   "cell_type": "code",
   "execution_count": 7,
   "id": "9bdb83cf",
   "metadata": {},
   "outputs": [
    {
     "name": "stdout",
     "output_type": "stream",
     "text": [
      "input mesh has 32796 vertex and 65244 faces\n",
      "mesh decimated to 9713 faces contains 5000 vertex\n",
      "output mesh has 5000 vertex and 9712 faces\n",
      "input mesh has 35016 vertex and 69850 faces\n",
      "mesh decimated to 9841 faces contains 5000 vertex\n",
      "output mesh has 5000 vertex and 9840 faces\n"
     ]
    }
   ],
   "source": [
    "import pymeshlab as ml\n",
    "\n",
    "def mesh_simplify(input_mesh_path, output_mesh_path, target_vertex_count):\n",
    "    ms = ml.MeshSet()\n",
    "    ms.load_new_mesh(input_mesh_path)\n",
    "    m = ms.current_mesh()\n",
    "    print('input mesh has', m.vertex_number(), 'vertex and', m.face_number(), 'faces')\n",
    "\n",
    "    # Clean-up in case of input has duplicate/unreferenced vertices\n",
    "    ms.meshing_remove_duplicate_vertices()\n",
    "    ms.meshing_remove_unreferenced_vertices()\n",
    "\n",
    "    # Initial estimation number of faces, designed to be superior than the teorical value\n",
    "    numFaces = 100 + ms.current_mesh().face_number() - (ms.current_mesh().vertex_number() - target_vertex_count)\n",
    "\n",
    "    # Simplify the mesh\n",
    "    while (ms.current_mesh().vertex_number() > target_vertex_count):\n",
    "        ms.meshing_decimation_quadric_edge_collapse(targetfacenum=numFaces, preservenormal=True)\n",
    "        # Refine our estimation to slowly converge to TARGET vertex number\n",
    "        numFaces = numFaces - (ms.current_mesh().vertex_number() - target_vertex_count)\n",
    "\n",
    "    print(\"mesh decimated to\", numFaces, \"faces contains\", ms.current_mesh().vertex_number(), \"vertex\")\n",
    "\n",
    "    # num_holes_after = ms.current_mesh().bounding_box().hole_number()\n",
    "    # print(\"Number of holes after:\", num_holes_after)\n",
    "\n",
    "    m = ms.current_mesh()\n",
    "    print('output mesh has', m.vertex_number(), 'vertex and', m.face_number(), 'faces')\n",
    "    ms.save_current_mesh(output_mesh_path)\n",
    "\n",
    "mesh_simplify(\n",
    "    input_mesh_path='output/3dmd/x_clean.ply',\n",
    "    output_mesh_path='output/3dmd/x_simplified.ply',\n",
    "    target_vertex_count=5000,\n",
    ")\n",
    "mesh_simplify(\n",
    "    input_mesh_path='output/3dmd/y_clean.ply',\n",
    "    output_mesh_path='output/3dmd/y_simplified.ply',\n",
    "    target_vertex_count=5000,\n",
    ")"
   ]
  },
  {
   "cell_type": "code",
   "execution_count": 5,
   "id": "10366d20",
   "metadata": {},
   "outputs": [],
   "source": [
    "mesh_x_c_s = pv.read('output/3dmd/x_simplified.ply')\n",
    "mesh_y_c_s = pv.read('output/3dmd/y_simplified.ply')\n",
    "# mesh_x_c_s.plot()\n",
    "# mesh_y_c_s.plot()"
   ]
  },
  {
   "cell_type": "markdown",
   "id": "d1eb2ee4",
   "metadata": {},
   "source": [
    "## LBO"
   ]
  },
  {
   "cell_type": "code",
   "execution_count": 6,
   "id": "01ec1bf8",
   "metadata": {},
   "outputs": [],
   "source": [
    "import torch\n",
    "import numpy as np\n",
    "from src.utils.geometry import compute_operators, torch2np, sparse_torch_to_np\n",
    "\n",
    "def get_verts_and_faces(mesh):\n",
    "    points = mesh.points                 # shape (V, 3)\n",
    "    faces = mesh.faces.reshape(-1, 4)    # shape (F, 4)\n",
    "    tri_faces = faces[:, 1:4]            # shape (F, 3)\n",
    "\n",
    "    return np.array(points), np.array(tri_faces)\n",
    "\n",
    "def lbo(mesh, save_path, k_eig=200, is_pcd = False):\n",
    "    verts, faces = get_verts_and_faces(mesh)\n",
    "\n",
    "    frames, mass_vec, L, evals, evecs, gradX, gradY = compute_operators(\n",
    "        torch.from_numpy(verts).float(),\n",
    "        torch.from_numpy(faces).long() if not is_pcd else None,\n",
    "        k=k_eig,\n",
    "    )\n",
    "\n",
    "    frames_np = torch2np(frames).astype(np.float32)\n",
    "    mass_np = torch2np(mass_vec).astype(np.float32)\n",
    "    evals_np = torch2np(evals).astype(np.float32)\n",
    "    evecs_np = torch2np(evecs).astype(np.float32)\n",
    "    L_np = sparse_torch_to_np(L).astype(np.float32)\n",
    "    gradX_np = sparse_torch_to_np(gradX).astype(np.float32)\n",
    "    gradY_np = sparse_torch_to_np(gradY).astype(np.float32)\n",
    "\n",
    "    np.savez(\n",
    "        save_path,\n",
    "        verts=verts,\n",
    "        faces=faces,\n",
    "        k_eig=k_eig,\n",
    "        frames=frames_np,\n",
    "        mass=mass_np,\n",
    "        evals=evals_np,\n",
    "        evecs=evecs_np,\n",
    "        L_data=L_np.data,\n",
    "        L_indices=L_np.indices,\n",
    "        L_indptr=L_np.indptr,\n",
    "        L_shape=L_np.shape,\n",
    "        gradX_data=gradX_np.data,\n",
    "        gradX_indices=gradX_np.indices,\n",
    "        gradX_indptr=gradX_np.indptr,\n",
    "        gradX_shape=gradX_np.shape,\n",
    "        gradY_data=gradY_np.data,\n",
    "        gradY_indices=gradY_np.indices,\n",
    "        gradY_indptr=gradY_np.indptr,\n",
    "        gradY_shape=gradY_np.shape,\n",
    "    )\n",
    "\n",
    "lbo(mesh_x_c_s, 'output/3dmd/x_spectral.npz')\n",
    "lbo(mesh_y_c_s, 'output/3dmd/y_spectral.npz')\n",
    "lbo(mesh_x_c_s, 'output/3dmd/x_pcd_spectral.npz', is_pcd=True)\n",
    "lbo(mesh_y_c_s, 'output/3dmd/y_pcd_spectral.npz', is_pcd=True)"
   ]
  },
  {
   "cell_type": "code",
   "execution_count": null,
   "id": "4f37a085",
   "metadata": {},
   "outputs": [],
   "source": [
    "import pyvista as pv\n",
    "\n",
    "def visualize_lbo(mesh, name, spectral_npz):\n",
    "    npz = np.load(spectral_npz)\n",
    "    scale = npz['mass'].max()\n",
    "\n",
    "    for id in range(10):\n",
    "        mesh[f'evec {id}'] = npz['evecs'][:, id] * scale\n",
    "        plotter = pv.Plotter()\n",
    "        plotter.add_mesh(\n",
    "            mesh=mesh,\n",
    "            scalars=f'evec {id}',\n",
    "            cmap='coolwarm',\n",
    "            clim=[-1, 1],\n",
    "            show_scalar_bar=False,\n",
    "        )\n",
    "        plotter.camera_position = 'xy'\n",
    "        plotter.screenshot(f'output/3dmd/lbo/{name}/{id}.png', window_size=[1024, 1024], return_img=False)\n",
    "\n",
    "visualize_lbo(mesh_x_c_s, 'x', 'output/3dmd/x_spectral.npz')\n",
    "visualize_lbo(mesh_y_c_s, 'y', 'output/3dmd/y_spectral.npz')\n",
    "visualize_lbo(mesh_x_c_s, 'x_pcd', 'output/3dmd/x_pcd_spectral.npz')\n",
    "visualize_lbo(mesh_y_c_s, 'y_pcd', 'output/3dmd/y_pcd_spectral.npz')"
   ]
  },
  {
   "cell_type": "code",
   "execution_count": 9,
   "id": "e76b94ca",
   "metadata": {},
   "outputs": [
    {
     "data": {
      "image/png": "[encoded data removed]",
      "text/plain": [
       "<Figure size 640x480 with 1 Axes>"
      ]
     },
     "metadata": {},
     "output_type": "display_data"
    }
   ],
   "source": [
    "import matplotlib.pyplot as plt\n",
    "\n",
    "npz = np.load('output/3dmd/x_spectral.npz')\n",
    "mass = torch.from_numpy(npz['mass'])\n",
    "evecs = torch.from_numpy(npz['evecs'])\n",
    "evecs_trans = torch.from_numpy(\n",
    "    npz['evecs'][:, :200].T * npz['mass'][None]\n",
    ")\n",
    "\n",
    "\n",
    "plt.imshow(evecs_trans @ evecs)\n",
    "plt.show()"
   ]
  },
  {
   "cell_type": "code",
   "execution_count": 10,
   "id": "42ee58a0",
   "metadata": {},
   "outputs": [
    {
     "data": {
      "text/plain": [
       "{'area': tensor(1.3662), 'dist': tensor(0.0187)}"
      ]
     },
     "execution_count": 10,
     "metadata": {},
     "output_type": "execute_result"
    }
   ],
   "source": [
    "{\n",
    "    'area': mass.sum() / 1e6,  # mm^2 -> m^2\n",
    "    'dist': 0.016 * (mass.sum() / 1e6).sqrt(),  # 1.6% -> abs geodesic distance (m)\n",
    "}"
   ]
  },
  {
   "cell_type": "markdown",
   "id": "74611e18",
   "metadata": {},
   "source": [
    "## Functional Maps"
   ]
  },
  {
   "cell_type": "markdown",
   "id": "a0dede41",
   "metadata": {},
   "source": [
    "### Organize data"
   ]
  },
  {
   "cell_type": "code",
   "execution_count": 43,
   "id": "6e16ee9d",
   "metadata": {},
   "outputs": [],
   "source": [
    "from pathlib import Path\n",
    "from src.utils.tensor import sparse_np_to_torch, read_sp_mat\n",
    "from src.dataloader.shape_cor_batch import collate_shape_batch\n",
    "\n",
    "def get_item(npz_path, return_faces=True, return_L=False, return_mass=True, num_evecs=200, return_evecs=True, return_grad=True):\n",
    "    item = {}\n",
    "    spectral_npz = np.load(npz_path)\n",
    "\n",
    "    assert spectral_npz['k_eig'] >= num_evecs, 'not enough eigenvectors in spectral data'\n",
    "\n",
    "    # name\n",
    "    item['name'] = Path(npz_path).stem\n",
    "\n",
    "    # get vertices and faces\n",
    "    item['verts'] = torch.from_numpy(spectral_npz['verts'])\n",
    "    item['verts_mask'] = torch.ones(item['verts'].shape[0], dtype=torch.bool)\n",
    "\n",
    "    if return_faces:\n",
    "        item['faces'] = torch.from_numpy(spectral_npz['faces'])\n",
    "\n",
    "    if return_L:\n",
    "        item['L'] = sparse_np_to_torch(read_sp_mat(spectral_npz, 'L'))\n",
    "        \n",
    "    if return_mass:\n",
    "        item['mass'] = torch.from_numpy(spectral_npz['mass'])\n",
    "\n",
    "    if return_evecs:\n",
    "        item['evecs'] = torch.from_numpy(spectral_npz['evecs'][:, :num_evecs])\n",
    "        item['evecs_trans'] = torch.from_numpy(\n",
    "            spectral_npz['evecs'][:, :num_evecs].T * spectral_npz['mass'][None]\n",
    "        )\n",
    "        item['evals'] = torch.from_numpy(spectral_npz['evals'][:num_evecs])\n",
    "\n",
    "    if return_grad:\n",
    "        item['gradX'] = sparse_np_to_torch(read_sp_mat(spectral_npz, 'gradX'))\n",
    "        item['gradY'] = sparse_np_to_torch(read_sp_mat(spectral_npz, 'gradY'))\n",
    "\n",
    "    return item\n",
    "\n",
    "data = collate_shape_batch([{\n",
    "    'first': get_item('output/3dmd/x_spectral.npz'),\n",
    "    'second': get_item('output/3dmd/y_spectral.npz'),\n",
    "}])"
   ]
  },
  {
   "cell_type": "markdown",
   "id": "dab339a8",
   "metadata": {},
   "source": [
    "### Network"
   ]
  },
  {
   "cell_type": "code",
   "execution_count": 72,
   "id": "76811d4b",
   "metadata": {},
   "outputs": [],
   "source": [
    "from src.infra import config\n",
    "\n",
    "path = '../../config/vec.yaml'\n",
    "opt = config.load_config(path)\n",
    "opt.path = path"
   ]
  },
  {
   "cell_type": "code",
   "execution_count": 73,
   "id": "d9fcd0b7",
   "metadata": {},
   "outputs": [
    {
     "data": {
      "text/plain": [
       "URSSM_vectorized(\n",
       "  (point_descriptor): WKS_vectorized()\n",
       "  (feature_extractor): DiffusionNet_vectorized(\n",
       "    (first_lin): Linear(in_features=128, out_features=128, bias=True)\n",
       "    (last_lin): Linear(in_features=128, out_features=256, bias=True)\n",
       "    (block_0): DiffusionNetBlock(\n",
       "      (diffusion): LearnedTimeDiffusion()\n",
       "      (gradient_features): SpatialGradientFeatures(\n",
       "        (A_re): Linear(in_features=128, out_features=128, bias=False)\n",
       "        (A_im): Linear(in_features=128, out_features=128, bias=False)\n",
       "      )\n",
       "      (mlp): MiniMLP(\n",
       "        (miniMLP_mlp_layer_000): Linear(in_features=384, out_features=128, bias=True)\n",
       "        (miniMLP_mlp_act_000): ReLU()\n",
       "        (miniMLP_mlp_layer_dropout_001): Dropout(p=0.5, inplace=False)\n",
       "        (miniMLP_mlp_layer_001): Linear(in_features=128, out_features=128, bias=True)\n",
       "        (miniMLP_mlp_act_001): ReLU()\n",
       "        (miniMLP_mlp_layer_dropout_002): Dropout(p=0.5, inplace=False)\n",
       "        (miniMLP_mlp_layer_002): Linear(in_features=128, out_features=128, bias=True)\n",
       "      )\n",
       "    )\n",
       "    (block_1): DiffusionNetBlock(\n",
       "      (diffusion): LearnedTimeDiffusion()\n",
       "      (gradient_features): SpatialGradientFeatures(\n",
       "        (A_re): Linear(in_features=128, out_features=128, bias=False)\n",
       "        (A_im): Linear(in_features=128, out_features=128, bias=False)\n",
       "      )\n",
       "      (mlp): MiniMLP(\n",
       "        (miniMLP_mlp_layer_000): Linear(in_features=384, out_features=128, bias=True)\n",
       "        (miniMLP_mlp_act_000): ReLU()\n",
       "        (miniMLP_mlp_layer_dropout_001): Dropout(p=0.5, inplace=False)\n",
       "        (miniMLP_mlp_layer_001): Linear(in_features=128, out_features=128, bias=True)\n",
       "        (miniMLP_mlp_act_001): ReLU()\n",
       "        (miniMLP_mlp_layer_dropout_002): Dropout(p=0.5, inplace=False)\n",
       "        (miniMLP_mlp_layer_002): Linear(in_features=128, out_features=128, bias=True)\n",
       "      )\n",
       "    )\n",
       "    (block_2): DiffusionNetBlock(\n",
       "      (diffusion): LearnedTimeDiffusion()\n",
       "      (gradient_features): SpatialGradientFeatures(\n",
       "        (A_re): Linear(in_features=128, out_features=128, bias=False)\n",
       "        (A_im): Linear(in_features=128, out_features=128, bias=False)\n",
       "      )\n",
       "      (mlp): MiniMLP(\n",
       "        (miniMLP_mlp_layer_000): Linear(in_features=384, out_features=128, bias=True)\n",
       "        (miniMLP_mlp_act_000): ReLU()\n",
       "        (miniMLP_mlp_layer_dropout_001): Dropout(p=0.5, inplace=False)\n",
       "        (miniMLP_mlp_layer_001): Linear(in_features=128, out_features=128, bias=True)\n",
       "        (miniMLP_mlp_act_001): ReLU()\n",
       "        (miniMLP_mlp_layer_dropout_002): Dropout(p=0.5, inplace=False)\n",
       "        (miniMLP_mlp_layer_002): Linear(in_features=128, out_features=128, bias=True)\n",
       "      )\n",
       "    )\n",
       "    (block_3): DiffusionNetBlock(\n",
       "      (diffusion): LearnedTimeDiffusion()\n",
       "      (gradient_features): SpatialGradientFeatures(\n",
       "        (A_re): Linear(in_features=128, out_features=128, bias=False)\n",
       "        (A_im): Linear(in_features=128, out_features=128, bias=False)\n",
       "      )\n",
       "      (mlp): MiniMLP(\n",
       "        (miniMLP_mlp_layer_000): Linear(in_features=384, out_features=128, bias=True)\n",
       "        (miniMLP_mlp_act_000): ReLU()\n",
       "        (miniMLP_mlp_layer_dropout_001): Dropout(p=0.5, inplace=False)\n",
       "        (miniMLP_mlp_layer_001): Linear(in_features=128, out_features=128, bias=True)\n",
       "        (miniMLP_mlp_act_001): ReLU()\n",
       "        (miniMLP_mlp_layer_dropout_002): Dropout(p=0.5, inplace=False)\n",
       "        (miniMLP_mlp_layer_002): Linear(in_features=128, out_features=128, bias=True)\n",
       "      )\n",
       "    )\n",
       "  )\n",
       "  (fm_solver): RegularizedFMNet_vectorized()\n",
       "  (permute_mat): SoftmaxPermutationMatrix()\n",
       ")"
      ]
     },
     "execution_count": 73,
     "metadata": {},
     "output_type": "execute_result"
    }
   ],
   "source": [
    "from src.network.urssm import URSSM_vectorized\n",
    "\n",
    "network = URSSM_vectorized(opt=opt)\n",
    "network.load_state_dict(torch.load('output/3dmd/model-800.pth', map_location='cpu'))\n",
    "network"
   ]
  },
  {
   "cell_type": "code",
   "execution_count": 75,
   "id": "e2dc411b",
   "metadata": {},
   "outputs": [
    {
     "data": {
      "text/plain": [
       "dict_keys(['Cxy', 'Cyx', 'Pxy', 'Pyx'])"
      ]
     },
     "execution_count": 75,
     "metadata": {},
     "output_type": "execute_result"
    }
   ],
   "source": [
    "infer = network(data)\n",
    "infer.keys()"
   ]
  },
  {
   "cell_type": "code",
   "execution_count": 102,
   "id": "048f2fff",
   "metadata": {},
   "outputs": [
    {
     "data": {
      "text/plain": [
       "(tensor([[4033, 4299, 4033,  ..., 4033, 4201, 2621]]), torch.Size([1, 5000]))"
      ]
     },
     "execution_count": 102,
     "metadata": {},
     "output_type": "execute_result"
    }
   ],
   "source": [
    "from src.utils.fmap import fmap2pointmap_vectorized\n",
    "\n",
    "data_x, data_y = data['first'], data['second']\n",
    "evecs_x = data_x['evecs']\n",
    "evecs_y = data_y['evecs']\n",
    "\n",
    "p2p = fmap2pointmap_vectorized(\n",
    "    infer['Cxy'], evecs_x, evecs_y, data['first']['verts_mask'], data['second']['verts_mask'])\n",
    "p2p, p2p.shape"
   ]
  },
  {
   "cell_type": "code",
   "execution_count": 136,
   "id": "694f19c5",
   "metadata": {},
   "outputs": [
    {
     "data": {
      "text/plain": [
       "(tensor([0., 0., 0.,  ..., 0., 0., 0.]),\n",
       " tensor([1., 1., 1.,  ..., 1., 1., 1.]))"
      ]
     },
     "execution_count": 136,
     "metadata": {},
     "output_type": "execute_result"
    }
   ],
   "source": [
    "from src.utils.fmap import p2p_to_permutation_mat_sparse\n",
    "\n",
    "Pyx = p2p_to_permutation_mat_sparse(p2p, evecs_x.shape[1])\n",
    "Pyx.to_dense()[0].sum(axis=0), Pyx.to_dense()[0].sum(axis=1) # <-- dubious"
   ]
  },
  {
   "cell_type": "code",
   "execution_count": null,
   "id": "f304b846",
   "metadata": {},
   "outputs": [],
   "source": [
    "# compute the point-to-point map\n",
    "evecs_trans_x = data_x['evecs_trans']\n",
    "evecs_trans_y = data_y['evecs_trans']\n",
    "\n",
    "Cxy = evecs_trans_y[0] @ evecs_x[0][p2p[0]]\n",
    "Pyx = evecs_y[0] @ Cxy @ evecs_trans_x[0]\n",
    "\n",
    "Pyx.shape, Pyx.sum(axis=0), Pyx.sum(axis=1)"
   ]
  },
  {
   "cell_type": "markdown",
   "id": "b809eb54",
   "metadata": {},
   "source": [
    "### Visualization"
   ]
  },
  {
   "cell_type": "code",
   "execution_count": 140,
   "id": "756413f1",
   "metadata": {},
   "outputs": [],
   "source": [
    "import os\n",
    "from src.utils.tensor import to_numpy\n",
    "from src.utils.texture import write_obj_pair\n",
    "\n",
    "for output_path in ['output/3dmd/clr-grad', 'output/3dmd/symbol-grid']:\n",
    "    name_x, name_y = 'x', 'y'\n",
    "    file_x = os.path.join(output_path, f'{name_x}.obj')\n",
    "    file_y = os.path.join(output_path, f'{name_x}-{name_y}.obj')\n",
    "    texture_fname = os.path.join(output_path, 'texture.png')\n",
    "    faces_x, faces_y = to_numpy(data_x['faces'][0]), to_numpy(data_y['faces'][0])\n",
    "    verts_x, verts_y = to_numpy(data_x['verts'][0]), to_numpy(data_y['verts'][0])\n",
    "\n",
    "    write_obj_pair(file_x, file_y, verts_x, faces_x, verts_y, faces_y, to_numpy(Pyx.to_dense()), texture_fname)"
   ]
  },
  {
   "cell_type": "code",
   "execution_count": 141,
   "id": "0e30c2dd",
   "metadata": {},
   "outputs": [
    {
     "data": {
      "application/vnd.jupyter.widget-view+json": {
       "model_id": "eea31bf48a634e248e97e1d16b325d7b",
       "version_major": 2,
       "version_minor": 0
      },
      "text/plain": [
       "Widget(value='<iframe src=\"http://localhost:55441/index.html?ui=P_0x4e740f1f0_60&reconnect=auto\" class=\"pyvist…"
      ]
     },
     "metadata": {},
     "output_type": "display_data"
    }
   ],
   "source": [
    "pl = pv.Plotter()\n",
    "pl.add_mesh(\n",
    "    pv.read('output/3dmd/clr-grad/x.obj'),\n",
    "    texture=pv.read_texture('output/3dmd/clr-grad/texture.png'),\n",
    ")\n",
    "pl.add_mesh(\n",
    "    pv.read('output/3dmd/clr-grad/x-y.obj').translate([1000, 0, 0]),\n",
    "    texture=pv.read_texture('output/3dmd/clr-grad/texture.png'),\n",
    ")\n",
    "pl.camera_position = 'xy'\n",
    "pl.screenshot('output/3dmd/clr-grad/screenshot.png')\n",
    "pl.show()"
   ]
  },
  {
   "cell_type": "code",
   "execution_count": 142,
   "id": "98ff8eec",
   "metadata": {},
   "outputs": [
    {
     "data": {
      "application/vnd.jupyter.widget-view+json": {
       "model_id": "77fb530ec0a8434fa977c6ffeca5c552",
       "version_major": 2,
       "version_minor": 0
      },
      "text/plain": [
       "Widget(value='<iframe src=\"http://localhost:55441/index.html?ui=P_0x39af67c70_61&reconnect=auto\" class=\"pyvist…"
      ]
     },
     "metadata": {},
     "output_type": "display_data"
    }
   ],
   "source": [
    "pl = pv.Plotter()\n",
    "pl.add_mesh(\n",
    "    pv.read('output/3dmd/symbol-grid/x.obj'),\n",
    "    texture=pv.read_texture('output/3dmd/symbol-grid/texture.png'),\n",
    ")\n",
    "pl.add_mesh(\n",
    "    pv.read('output/3dmd/symbol-grid/x-y.obj').translate([1000, 0, 0]),\n",
    "    texture=pv.read_texture('output/3dmd/symbol-grid/texture.png'),\n",
    ")\n",
    "pl.camera_position = 'xy'\n",
    "pl.screenshot('output/3dmd/symbol-grid/screenshot.png')\n",
    "pl.show()"
   ]
  },
  {
   "cell_type": "code",
   "execution_count": null,
   "id": "2aa559b3",
   "metadata": {},
   "outputs": [],
   "source": []
  }
 ],
 "metadata": {
  "kernelspec": {
   "display_name": "fmap",
   "language": "python",
   "name": "python3"
  },
  "language_info": {
   "codemirror_mode": {
    "name": "ipython",
    "version": 3
   },
   "file_extension": ".py",
   "mimetype": "text/x-python",
   "name": "python",
   "nbconvert_exporter": "python",
   "pygments_lexer": "ipython3",
   "version": "3.10.18"
  }
 },
 "nbformat": 4,
 "nbformat_minor": 5
}
