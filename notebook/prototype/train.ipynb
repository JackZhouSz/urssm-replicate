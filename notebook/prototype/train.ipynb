{
 "cells": [
  {
   "cell_type": "code",
   "execution_count": 1,
   "id": "764cf7e6",
   "metadata": {},
   "outputs": [],
   "source": [
    "%reload_ext autoreload\n",
    "%autoreload 2"
   ]
  },
  {
   "cell_type": "code",
   "execution_count": 2,
   "id": "1577e1ff",
   "metadata": {},
   "outputs": [],
   "source": [
    "import sys\n",
    "sys.path.append('..')"
   ]
  },
  {
   "cell_type": "code",
   "execution_count": 3,
   "id": "4efc159e",
   "metadata": {},
   "outputs": [
    {
     "name": "stdout",
     "output_type": "stream",
     "text": [
      "Jupyter environment detected. Enabling Open3D WebVisualizer.\n",
      "[Open3D INFO] WebRTC GUI backend enabled.\n",
      "[Open3D INFO] WebRTCWindowSystem: HTTP handshake server disabled.\n",
      "device_select: auto\n",
      "network:\n",
      "  feature_extractor:\n",
      "    args:\n",
      "      cache_dir: ../data/FAUST_r/diffusion\n",
      "      in_channels: 128\n",
      "      input_type: wks\n",
      "      out_channels: 256\n",
      "    name: DiffusionNet\n",
      "  fm_solver:\n",
      "    args:\n",
      "      \n",
      "    name: RegularizedFMNet\n",
      "  name: URSSM\n",
      "  permutation:\n",
      "    args:\n",
      "      tau: 0.07\n",
      "    name: Similarity\n",
      "path: ../config/test.yaml\n",
      "train:\n",
      "  checkpoint_interval: 1000\n",
      "  dataset:\n",
      "    test:\n",
      "      args:\n",
      "        data_root: data/FAUST_r/\n",
      "        num_evecs: 200\n",
      "        phase: test\n",
      "        return_corr: True\n",
      "        return_dist: True\n",
      "        return_evecs: True\n",
      "        return_faces: True\n",
      "      dataloader:\n",
      "        args:\n",
      "          batch_size: 1\n",
      "          shuffle: True\n",
      "        name: DataLoader\n",
      "      name: PairFaustDataset\n",
      "    train:\n",
      "      args:\n",
      "        data_root: data/FAUST_r/\n",
      "        num_evecs: 200\n",
      "        phase: train\n",
      "        return_corr: False\n",
      "        return_dist: False\n",
      "        return_evecs: True\n",
      "        return_faces: True\n",
      "      dataloader:\n",
      "        args:\n",
      "          batch_size: 1\n",
      "          shuffle: True\n",
      "        name: DataLoader\n",
      "      name: PairFaustDataset\n",
      "  loss:\n",
      "    align_loss:\n",
      "      args:\n",
      "        \n",
      "      name: SpatialSpectralAlignmentLoss\n",
      "      weight: 1.0\n",
      "    bij_loss:\n",
      "      args:\n",
      "        \n",
      "      name: BijectivityLoss\n",
      "      weight: 1.0\n",
      "    orth_loss:\n",
      "      args:\n",
      "        \n",
      "      name: OrthogonalityLoss\n",
      "      weight: 1.0\n",
      "  metric:\n",
      "    geodist:\n",
      "      args:\n",
      "        \n",
      "      name: GeodesicDist\n",
      "  optimizer:\n",
      "    args:\n",
      "      lr: 0.001\n",
      "    epochs: 1\n",
      "    name: Adam\n",
      "  save_best: geodist\n",
      "  script: TrainScript\n",
      "  test_interval: 2000\n"
     ]
    }
   ],
   "source": [
    "from src.infra import config\n",
    "\n",
    "path = '../config/test.yaml'\n",
    "opt = config.load_config(path)\n",
    "opt.network.feature_extractor.args.cache_dir = '../data/FAUST_r/diffusion'\n",
    "opt.path = path\n",
    "print(opt)"
   ]
  },
  {
   "cell_type": "code",
   "execution_count": 4,
   "id": "0feee111",
   "metadata": {},
   "outputs": [
    {
     "data": {
      "text/plain": [
       "'cuda'"
      ]
     },
     "execution_count": 4,
     "metadata": {},
     "output_type": "execute_result"
    }
   ],
   "source": [
    "import torch\n",
    "device = 'cuda' if torch.cuda.is_available() else 'cpu'\n",
    "device"
   ]
  },
  {
   "cell_type": "markdown",
   "id": "33bccb69",
   "metadata": {},
   "source": [
    "## Dataset"
   ]
  },
  {
   "cell_type": "code",
   "execution_count": 5,
   "id": "5c8c8382",
   "metadata": {},
   "outputs": [
    {
     "data": {
      "text/plain": [
       "{'Dataset': torch.utils.data.dataset.Dataset,\n",
       " 'SingleFaustDataset': src.dataset.shape_cor.SingleFaustDataset,\n",
       " 'SingleScapeDataset': src.dataset.shape_cor.SingleScapeDataset,\n",
       " 'SingleShrec19Dataset': src.dataset.shape_cor.SingleShrec19Dataset,\n",
       " 'SingleSmalDataset': src.dataset.shape_cor.SingleSmalDataset,\n",
       " 'SingleDT4DDataset': src.dataset.shape_cor.SingleDT4DDataset,\n",
       " 'SingleShrec20Dataset': src.dataset.shape_cor.SingleShrec20Dataset,\n",
       " 'SingleTopKidsDataset': src.dataset.shape_cor.SingleTopKidsDataset,\n",
       " 'PairDataset': src.dataset.shape_cor.PairDataset,\n",
       " 'PairFaustDataset': src.dataset.shape_cor.PairFaustDataset,\n",
       " 'PairScapeDataset': src.dataset.shape_cor.PairScapeDataset,\n",
       " 'PairShrec19Dataset': src.dataset.shape_cor.PairShrec19Dataset,\n",
       " 'PairSmalDataset': src.dataset.shape_cor.PairSmalDataset,\n",
       " 'PairDT4DDataset': src.dataset.shape_cor.PairDT4DDataset,\n",
       " 'PairShrec20Dataset': src.dataset.shape_cor.PairShrec20Dataset,\n",
       " 'PairShrec16Dataset': src.dataset.shape_cor.PairShrec16Dataset,\n",
       " 'PairTopKidsDataset': src.dataset.shape_cor.PairTopKidsDataset}"
      ]
     },
     "execution_count": 5,
     "metadata": {},
     "output_type": "execute_result"
    }
   ],
   "source": [
    "import src\n",
    "from src.infra.registry import DATASET_REGISTRY\n",
    "DATASET_REGISTRY"
   ]
  },
  {
   "cell_type": "code",
   "execution_count": 6,
   "id": "5c1b0648",
   "metadata": {},
   "outputs": [],
   "source": [
    "dataset = DATASET_REGISTRY['PairFaustDataset'](\n",
    "    phase='train',\n",
    "    data_root='../data/FAUST_r/',\n",
    "    return_evecs='true',\n",
    "    return_faces='true',\n",
    "    num_evecs=200,\n",
    "    return_corr='false',\n",
    "    return_dist='false',\n",
    ")"
   ]
  },
  {
   "cell_type": "code",
   "execution_count": 7,
   "id": "f83a25d1",
   "metadata": {},
   "outputs": [
    {
     "data": {
      "text/plain": [
       "{'DataLoader': torch.utils.data.dataloader.DataLoader}"
      ]
     },
     "execution_count": 7,
     "metadata": {},
     "output_type": "execute_result"
    }
   ],
   "source": [
    "from src.infra.registry import DATALOADER_REGISTRY\n",
    "DATALOADER_REGISTRY"
   ]
  },
  {
   "cell_type": "code",
   "execution_count": 8,
   "id": "1b2b2bcd",
   "metadata": {},
   "outputs": [
    {
     "data": {
      "text/plain": [
       "<torch.utils.data.dataloader.DataLoader at 0x7f79247306d0>"
      ]
     },
     "execution_count": 8,
     "metadata": {},
     "output_type": "execute_result"
    }
   ],
   "source": [
    "dataloader = DATALOADER_REGISTRY['DataLoader'](\n",
    "    dataset=dataset,\n",
    "    batch_size=1,\n",
    "    shuffle=True,\n",
    ")\n",
    "dataloader"
   ]
  },
  {
   "cell_type": "code",
   "execution_count": 9,
   "id": "dabdd7dc",
   "metadata": {},
   "outputs": [
    {
     "name": "stdout",
     "output_type": "stream",
     "text": [
      "['tr_reg_043'] ['tr_reg_013']\n"
     ]
    }
   ],
   "source": [
    "from src.utils.tensor import to_device\n",
    "\n",
    "for batch, data in enumerate(dataloader):\n",
    "    data = to_device(data, device)\n",
    "    data_x, data_y = data['first'], data['second']\n",
    "    print(data_x['name'], data_y['name'])\n",
    "    break"
   ]
  },
  {
   "cell_type": "code",
   "execution_count": 10,
   "id": "afdb88f0",
   "metadata": {},
   "outputs": [
    {
     "data": {
      "text/plain": [
       "{'first': {'name': ['tr_reg_043'],\n",
       "  'verts': tensor([[[ 0.0365,  0.4162,  0.0117],\n",
       "           [ 0.0524,  0.3562,  0.0013],\n",
       "           [ 0.0177,  0.3737,  0.0178],\n",
       "           ...,\n",
       "           [ 0.1372,  0.1737, -0.0159],\n",
       "           [ 0.1341,  0.1765, -0.0186],\n",
       "           [-0.0078, -0.1838, -0.0136]]], device='cuda:0'),\n",
       "  'faces': tensor([[[  11,    0,   23],\n",
       "           [  61,    0,   95],\n",
       "           [  60,    0,   61],\n",
       "           ...,\n",
       "           [4993, 2985, 4029],\n",
       "           [4993, 4029, 4992],\n",
       "           [2985, 2983, 4029]]], device='cuda:0'),\n",
       "  'evecs': tensor([[[ 1.0000e+00, -1.1361e+00,  2.0527e-03,  ..., -2.9906e+00,\n",
       "            -3.1261e+00, -5.4041e-01],\n",
       "           [ 1.0000e+00, -1.1023e+00,  1.2053e-03,  ..., -9.5013e-01,\n",
       "            -7.1931e-01, -1.7982e+00],\n",
       "           [ 1.0000e+00, -1.1157e+00,  2.1572e-03,  ..., -9.9875e-01,\n",
       "            -2.5395e+00,  3.3135e-01],\n",
       "           ...,\n",
       "           [ 1.0000e+00, -9.1606e-01, -2.7488e-02,  ...,  5.6287e-01,\n",
       "             2.6026e-01, -5.4159e-02],\n",
       "           [ 1.0000e+00, -8.6972e-01, -2.8339e-02,  ...,  8.3303e-01,\n",
       "             1.7358e-01,  2.1470e-01],\n",
       "           [ 1.0000e+00,  5.4081e-01,  3.1435e-02,  ..., -5.4032e-01,\n",
       "            -6.0065e-01,  1.8463e-01]]], device='cuda:0'),\n",
       "  'evecs_trans': tensor([[[ 1.5135e-04,  1.8894e-04,  9.0683e-05,  ...,  2.7491e-05,\n",
       "             2.2583e-05,  2.2495e-05],\n",
       "           [-1.7195e-04, -2.0826e-04, -1.0117e-04,  ..., -2.5183e-05,\n",
       "            -1.9641e-05,  1.2166e-05],\n",
       "           [ 3.1068e-07,  2.2774e-07,  1.9562e-07,  ..., -7.5568e-07,\n",
       "            -6.3999e-07,  7.0714e-07],\n",
       "           ...,\n",
       "           [-4.5264e-04, -1.7952e-04, -9.0569e-05,  ...,  1.5474e-05,\n",
       "             1.8813e-05, -1.2155e-05],\n",
       "           [-4.7315e-04, -1.3591e-04, -2.3029e-04,  ...,  7.1547e-06,\n",
       "             3.9201e-06, -1.3512e-05],\n",
       "           [-8.1794e-05, -3.3975e-04,  3.0048e-05,  ..., -1.4889e-06,\n",
       "             4.8488e-06,  4.1533e-06]]], device='cuda:0'),\n",
       "  'evals': tensor([[5.0010e-05, 5.8534e+00, 7.4378e+00, 1.3564e+01, 1.8382e+01, 2.3042e+01,\n",
       "           4.2377e+01, 4.5102e+01, 6.7216e+01, 6.8078e+01, 8.5550e+01, 8.9919e+01,\n",
       "           9.8258e+01, 1.2928e+02, 1.3308e+02, 1.5415e+02, 1.6639e+02, 1.9306e+02,\n",
       "           2.2461e+02, 2.3795e+02, 2.4460e+02, 2.6086e+02, 2.6761e+02, 2.8605e+02,\n",
       "           2.8877e+02, 3.0599e+02, 3.1910e+02, 3.3227e+02, 3.4380e+02, 3.4821e+02,\n",
       "           3.5904e+02, 3.8154e+02, 3.8617e+02, 3.9520e+02, 3.9840e+02, 4.0982e+02,\n",
       "           4.1597e+02, 4.4784e+02, 4.5677e+02, 4.8344e+02, 4.8732e+02, 4.9379e+02,\n",
       "           5.1281e+02, 5.2586e+02, 5.3254e+02, 5.4376e+02, 5.6951e+02, 5.7484e+02,\n",
       "           5.8347e+02, 5.9546e+02, 6.0203e+02, 6.1536e+02, 6.3782e+02, 6.4824e+02,\n",
       "           6.6936e+02, 6.8486e+02, 6.9068e+02, 7.0542e+02, 7.0962e+02, 7.2525e+02,\n",
       "           7.3601e+02, 7.3983e+02, 7.5403e+02, 7.8476e+02, 7.8984e+02, 8.0121e+02,\n",
       "           8.1054e+02, 8.1647e+02, 8.2384e+02, 8.2927e+02, 8.4421e+02, 8.4723e+02,\n",
       "           8.6473e+02, 8.8980e+02, 8.9385e+02, 9.0098e+02, 9.1869e+02, 9.2911e+02,\n",
       "           9.5143e+02, 9.5707e+02, 9.5714e+02, 9.6956e+02, 9.9107e+02, 9.9661e+02,\n",
       "           1.0025e+03, 1.0051e+03, 1.0220e+03, 1.0435e+03, 1.0456e+03, 1.0566e+03,\n",
       "           1.0635e+03, 1.0797e+03, 1.0828e+03, 1.0840e+03, 1.1027e+03, 1.1184e+03,\n",
       "           1.1284e+03, 1.1323e+03, 1.1382e+03, 1.1413e+03, 1.1583e+03, 1.1682e+03,\n",
       "           1.1719e+03, 1.1784e+03, 1.1870e+03, 1.1951e+03, 1.2026e+03, 1.2352e+03,\n",
       "           1.2433e+03, 1.2608e+03, 1.2682e+03, 1.2768e+03, 1.2825e+03, 1.2882e+03,\n",
       "           1.2976e+03, 1.3041e+03, 1.3151e+03, 1.3263e+03, 1.3432e+03, 1.3563e+03,\n",
       "           1.3721e+03, 1.3808e+03, 1.3917e+03, 1.3951e+03, 1.4035e+03, 1.4155e+03,\n",
       "           1.4213e+03, 1.4342e+03, 1.4573e+03, 1.4822e+03, 1.4871e+03, 1.4938e+03,\n",
       "           1.4999e+03, 1.5153e+03, 1.5405e+03, 1.5585e+03, 1.5761e+03, 1.5839e+03,\n",
       "           1.5904e+03, 1.6028e+03, 1.6142e+03, 1.6389e+03, 1.6491e+03, 1.6517e+03,\n",
       "           1.6644e+03, 1.6726e+03, 1.6856e+03, 1.7052e+03, 1.7163e+03, 1.7336e+03,\n",
       "           1.7352e+03, 1.7445e+03, 1.7504e+03, 1.7624e+03, 1.7782e+03, 1.7848e+03,\n",
       "           1.7937e+03, 1.8106e+03, 1.8190e+03, 1.8299e+03, 1.8487e+03, 1.8626e+03,\n",
       "           1.8734e+03, 1.8837e+03, 1.8858e+03, 1.8987e+03, 1.9078e+03, 1.9157e+03,\n",
       "           1.9244e+03, 1.9297e+03, 1.9378e+03, 1.9647e+03, 1.9713e+03, 1.9764e+03,\n",
       "           1.9883e+03, 2.0025e+03, 2.0094e+03, 2.0135e+03, 2.0284e+03, 2.0335e+03,\n",
       "           2.0399e+03, 2.0560e+03, 2.0646e+03, 2.0718e+03, 2.0811e+03, 2.0985e+03,\n",
       "           2.1166e+03, 2.1188e+03, 2.1270e+03, 2.1399e+03, 2.1645e+03, 2.1694e+03,\n",
       "           2.1773e+03, 2.2003e+03, 2.2104e+03, 2.2182e+03, 2.2315e+03, 2.2384e+03,\n",
       "           2.2482e+03, 2.2537e+03]], device='cuda:0'),\n",
       "  'mass': tensor([[1.5136e-04, 1.8894e-04, 9.0683e-05,  ..., 2.7491e-05, 2.2583e-05,\n",
       "           2.2495e-05]], device='cuda:0'),\n",
       "  'L': tensor([[[3.5996, 0.0000, 0.0000,  ..., 0.0000, 0.0000, 0.0000],\n",
       "           [0.0000, 3.6383, 0.0000,  ..., 0.0000, 0.0000, 0.0000],\n",
       "           [0.0000, 0.0000, 3.6199,  ..., 0.0000, 0.0000, 0.0000],\n",
       "           ...,\n",
       "           [0.0000, 0.0000, 0.0000,  ..., 3.9886, 0.0000, 0.0000],\n",
       "           [0.0000, 0.0000, 0.0000,  ..., 0.0000, 3.9783, 0.0000],\n",
       "           [0.0000, 0.0000, 0.0000,  ..., 0.0000, 0.0000, 4.0297]]],\n",
       "         device='cuda:0'),\n",
       "  'dist': tensor([[[0.0000, 0.0663, 0.0535,  ..., 0.3363, 0.3314, 0.7523],\n",
       "           [0.0663, 0.0000, 0.0440,  ..., 0.2705, 0.2656, 0.6871],\n",
       "           [0.0535, 0.0440, 0.0000,  ..., 0.2981, 0.2932, 0.7141],\n",
       "           ...,\n",
       "           [0.3363, 0.2705, 0.2981,  ..., 0.0000, 0.0117, 0.4776],\n",
       "           [0.3314, 0.2656, 0.2932,  ..., 0.0117, 0.0000, 0.4711],\n",
       "           [0.7523, 0.6871, 0.7141,  ..., 0.4776, 0.4711, 0.0000]]],\n",
       "         device='cuda:0'),\n",
       "  'corr': tensor([[4454, 1173, 1937,  ..., 3654,  136, 2582]], device='cuda:0')},\n",
       " 'second': {'name': ['tr_reg_013'],\n",
       "  'verts': tensor([[[ 0.0278,  0.4477,  0.0226],\n",
       "           [ 0.0400,  0.4504,  0.0098],\n",
       "           [ 0.0247,  0.4033,  0.0228],\n",
       "           ...,\n",
       "           [ 0.1412, -0.7355, -0.0399],\n",
       "           [-0.1684, -0.7391, -0.0496],\n",
       "           [-0.1708, -0.7341, -0.0463]]], device='cuda:0'),\n",
       "  'faces': tensor([[[  25,    1,   13],\n",
       "           [  13,    0,   25],\n",
       "           [  25,    0,   65],\n",
       "           ...,\n",
       "           [4992, 3898, 4991],\n",
       "           [4992, 2519, 3001],\n",
       "           [4992, 3001, 3985]]], device='cuda:0'),\n",
       "  'evecs': tensor([[[ 1.0000,  1.1685,  0.0071,  ..., -0.3298,  0.8349,  0.1010],\n",
       "           [ 1.0000,  1.1687,  0.0071,  ..., -0.4631,  0.6369,  0.0528],\n",
       "           [ 1.0000,  1.1500,  0.0070,  ...,  0.1563, -0.1465,  0.3329],\n",
       "           ...,\n",
       "           [ 1.0000, -1.6892,  2.6515,  ..., -0.8664, -0.4714, -1.1619],\n",
       "           [ 1.0000, -1.6715, -2.6734,  ...,  0.2876,  1.7775,  0.4122],\n",
       "           [ 1.0000, -1.6717, -2.6737,  ...,  0.2705,  2.0098,  0.6586]]],\n",
       "         device='cuda:0'),\n",
       "  'evecs_trans': tensor([[[ 1.1750e-04,  2.0924e-04,  8.6182e-05,  ...,  1.3570e-05,\n",
       "             1.9577e-05,  1.4262e-05],\n",
       "           [ 1.3730e-04,  2.4455e-04,  9.9109e-05,  ..., -2.2923e-05,\n",
       "            -3.2723e-05, -2.3842e-05],\n",
       "           [ 8.3157e-07,  1.4955e-06,  6.0483e-07,  ...,  3.5982e-05,\n",
       "            -5.2336e-05, -3.8132e-05],\n",
       "           ...,\n",
       "           [-3.8756e-05, -9.6901e-05,  1.3473e-05,  ..., -1.1757e-05,\n",
       "             5.6310e-06,  3.8579e-06],\n",
       "           [ 9.8101e-05,  1.3328e-04, -1.2629e-05,  ..., -6.3967e-06,\n",
       "             3.4798e-05,  2.8664e-05],\n",
       "           [ 1.1868e-05,  1.1046e-05,  2.8688e-05,  ..., -1.5767e-05,\n",
       "             8.0701e-06,  9.3929e-06]]], device='cuda:0'),\n",
       "  'evals': tensor([[5.0000e-05, 5.3721e+00, 7.2316e+00, 1.2407e+01, 1.6667e+01, 2.1497e+01,\n",
       "           4.0706e+01, 4.2666e+01, 6.3686e+01, 6.8089e+01, 8.6335e+01, 8.9265e+01,\n",
       "           9.7049e+01, 1.1964e+02, 1.2771e+02, 1.5539e+02, 1.5812e+02, 1.8240e+02,\n",
       "           2.2353e+02, 2.2548e+02, 2.4543e+02, 2.5177e+02, 2.5448e+02, 2.7854e+02,\n",
       "           2.9026e+02, 3.0212e+02, 3.1279e+02, 3.3296e+02, 3.4141e+02, 3.5320e+02,\n",
       "           3.6924e+02, 3.7175e+02, 3.7443e+02, 3.9207e+02, 3.9766e+02, 4.0485e+02,\n",
       "           4.2014e+02, 4.4748e+02, 4.5322e+02, 4.7461e+02, 4.9590e+02, 4.9735e+02,\n",
       "           5.0501e+02, 5.2602e+02, 5.4376e+02, 5.4675e+02, 5.5725e+02, 5.6596e+02,\n",
       "           5.7487e+02, 5.9374e+02, 5.9876e+02, 6.1613e+02, 6.2159e+02, 6.4210e+02,\n",
       "           6.4996e+02, 6.5550e+02, 6.6347e+02, 6.9609e+02, 7.0801e+02, 7.1765e+02,\n",
       "           7.4196e+02, 7.5933e+02, 7.6030e+02, 7.7330e+02, 7.8758e+02, 7.9916e+02,\n",
       "           8.2117e+02, 8.3028e+02, 8.4197e+02, 8.4410e+02, 8.6416e+02, 8.7888e+02,\n",
       "           8.8777e+02, 8.9280e+02, 8.9989e+02, 9.1776e+02, 9.3581e+02, 9.3629e+02,\n",
       "           9.5084e+02, 9.5687e+02, 9.6938e+02, 9.9224e+02, 9.9916e+02, 1.0126e+03,\n",
       "           1.0173e+03, 1.0294e+03, 1.0399e+03, 1.0422e+03, 1.0572e+03, 1.0648e+03,\n",
       "           1.0801e+03, 1.0833e+03, 1.0900e+03, 1.1026e+03, 1.1067e+03, 1.1143e+03,\n",
       "           1.1243e+03, 1.1321e+03, 1.1379e+03, 1.1628e+03, 1.1783e+03, 1.1819e+03,\n",
       "           1.1886e+03, 1.1976e+03, 1.2034e+03, 1.2164e+03, 1.2198e+03, 1.2334e+03,\n",
       "           1.2428e+03, 1.2533e+03, 1.2658e+03, 1.2676e+03, 1.2957e+03, 1.3070e+03,\n",
       "           1.3186e+03, 1.3271e+03, 1.3347e+03, 1.3498e+03, 1.3517e+03, 1.3777e+03,\n",
       "           1.3844e+03, 1.3927e+03, 1.4043e+03, 1.4144e+03, 1.4158e+03, 1.4289e+03,\n",
       "           1.4398e+03, 1.4509e+03, 1.4628e+03, 1.4657e+03, 1.4711e+03, 1.4793e+03,\n",
       "           1.4955e+03, 1.5092e+03, 1.5290e+03, 1.5516e+03, 1.5625e+03, 1.5735e+03,\n",
       "           1.5924e+03, 1.5980e+03, 1.6097e+03, 1.6285e+03, 1.6357e+03, 1.6428e+03,\n",
       "           1.6656e+03, 1.6752e+03, 1.6793e+03, 1.6827e+03, 1.7144e+03, 1.7335e+03,\n",
       "           1.7454e+03, 1.7521e+03, 1.7561e+03, 1.7680e+03, 1.7803e+03, 1.7850e+03,\n",
       "           1.8009e+03, 1.8150e+03, 1.8372e+03, 1.8439e+03, 1.8486e+03, 1.8550e+03,\n",
       "           1.8605e+03, 1.8749e+03, 1.8802e+03, 1.8898e+03, 1.9005e+03, 1.9109e+03,\n",
       "           1.9226e+03, 1.9265e+03, 1.9309e+03, 1.9450e+03, 1.9474e+03, 1.9591e+03,\n",
       "           1.9732e+03, 1.9800e+03, 1.9858e+03, 2.0023e+03, 2.0125e+03, 2.0184e+03,\n",
       "           2.0303e+03, 2.0374e+03, 2.0430e+03, 2.0515e+03, 2.0590e+03, 2.0799e+03,\n",
       "           2.0913e+03, 2.1053e+03, 2.1099e+03, 2.1282e+03, 2.1389e+03, 2.1601e+03,\n",
       "           2.1685e+03, 2.1818e+03, 2.1871e+03, 2.1924e+03, 2.2056e+03, 2.2210e+03,\n",
       "           2.2281e+03, 2.2459e+03]], device='cuda:0'),\n",
       "  'mass': tensor([[1.1750e-04, 2.0924e-04, 8.6183e-05,  ..., 1.3570e-05, 1.9577e-05,\n",
       "           1.4262e-05]], device='cuda:0'),\n",
       "  'L': tensor([[[3.7138, 0.0000, 0.0000,  ..., 0.0000, 0.0000, 0.0000],\n",
       "           [0.0000, 3.7402, 0.0000,  ..., 0.0000, 0.0000, 0.0000],\n",
       "           [0.0000, 0.0000, 3.9330,  ..., 0.0000, 0.0000, 0.0000],\n",
       "           ...,\n",
       "           [0.0000, 0.0000, 0.0000,  ..., 4.6984, 0.0000, 0.0000],\n",
       "           [0.0000, 0.0000, 0.0000,  ..., 0.0000, 3.8196, 0.0000],\n",
       "           [0.0000, 0.0000, 0.0000,  ..., 0.0000, 0.0000, 4.0640]]],\n",
       "         device='cuda:0'),\n",
       "  'dist': tensor([[[0.0000, 0.0230, 0.0468,  ..., 1.3630, 1.3902, 1.3880],\n",
       "           [0.0230, 0.0000, 0.0543,  ..., 1.3623, 1.3900, 1.3877],\n",
       "           [0.0468, 0.0543, 0.0000,  ..., 1.3218, 1.3437, 1.3414],\n",
       "           ...,\n",
       "           [1.3630, 1.3623, 1.3218,  ..., 0.0000, 1.3052, 1.3029],\n",
       "           [1.3902, 1.3900, 1.3437,  ..., 1.3052, 0.0000, 0.0080],\n",
       "           [1.3880, 1.3877, 1.3414,  ..., 1.3029, 0.0080, 0.0000]]],\n",
       "         device='cuda:0'),\n",
       "  'corr': tensor([[4402, 1169, 1929,  ..., 3664,  160, 2617]], device='cuda:0')}}"
      ]
     },
     "execution_count": 10,
     "metadata": {},
     "output_type": "execute_result"
    }
   ],
   "source": [
    "data"
   ]
  },
  {
   "cell_type": "markdown",
   "id": "7f26747d",
   "metadata": {},
   "source": [
    "## Model"
   ]
  },
  {
   "cell_type": "code",
   "execution_count": 11,
   "id": "4c4202e2",
   "metadata": {},
   "outputs": [
    {
     "data": {
      "text/plain": [
       "{'URSSM': src.network.urssm.URSSM}"
      ]
     },
     "execution_count": 11,
     "metadata": {},
     "output_type": "execute_result"
    }
   ],
   "source": [
    "from src.infra.registry import NETWORK_REGISTRY\n",
    "NETWORK_REGISTRY"
   ]
  },
  {
   "cell_type": "code",
   "execution_count": 12,
   "id": "6165e5d8",
   "metadata": {},
   "outputs": [
    {
     "data": {
      "text/plain": [
       "URSSM(\n",
       "  (feature_extractor): DiffusionNet(\n",
       "    (first_linear): Linear(in_features=128, out_features=128, bias=True)\n",
       "    (last_linear): Linear(in_features=128, out_features=256, bias=True)\n",
       "    (blocks): ModuleList(\n",
       "      (0): DiffusionNetBlock(\n",
       "        (diffusion): LearnedTimeDiffusion()\n",
       "        (gradient_features): SpatialGradientFeatures(\n",
       "          (A_re): Linear(in_features=128, out_features=128, bias=False)\n",
       "          (A_im): Linear(in_features=128, out_features=128, bias=False)\n",
       "        )\n",
       "        (mlp): MiniMLP(\n",
       "          (miniMLP_linear_000): Linear(in_features=384, out_features=128, bias=True)\n",
       "          (miniMLP_activation_000): ReLU()\n",
       "          (miniMLP_dropout_001): Dropout(p=0.5, inplace=False)\n",
       "          (miniMLP_linear_001): Linear(in_features=128, out_features=128, bias=True)\n",
       "          (miniMLP_activation_001): ReLU()\n",
       "          (miniMLP_dropout_002): Dropout(p=0.5, inplace=False)\n",
       "          (miniMLP_linear_002): Linear(in_features=128, out_features=128, bias=True)\n",
       "        )\n",
       "      )\n",
       "      (1): DiffusionNetBlock(\n",
       "        (diffusion): LearnedTimeDiffusion()\n",
       "        (gradient_features): SpatialGradientFeatures(\n",
       "          (A_re): Linear(in_features=128, out_features=128, bias=False)\n",
       "          (A_im): Linear(in_features=128, out_features=128, bias=False)\n",
       "        )\n",
       "        (mlp): MiniMLP(\n",
       "          (miniMLP_linear_000): Linear(in_features=384, out_features=128, bias=True)\n",
       "          (miniMLP_activation_000): ReLU()\n",
       "          (miniMLP_dropout_001): Dropout(p=0.5, inplace=False)\n",
       "          (miniMLP_linear_001): Linear(in_features=128, out_features=128, bias=True)\n",
       "          (miniMLP_activation_001): ReLU()\n",
       "          (miniMLP_dropout_002): Dropout(p=0.5, inplace=False)\n",
       "          (miniMLP_linear_002): Linear(in_features=128, out_features=128, bias=True)\n",
       "        )\n",
       "      )\n",
       "      (2): DiffusionNetBlock(\n",
       "        (diffusion): LearnedTimeDiffusion()\n",
       "        (gradient_features): SpatialGradientFeatures(\n",
       "          (A_re): Linear(in_features=128, out_features=128, bias=False)\n",
       "          (A_im): Linear(in_features=128, out_features=128, bias=False)\n",
       "        )\n",
       "        (mlp): MiniMLP(\n",
       "          (miniMLP_linear_000): Linear(in_features=384, out_features=128, bias=True)\n",
       "          (miniMLP_activation_000): ReLU()\n",
       "          (miniMLP_dropout_001): Dropout(p=0.5, inplace=False)\n",
       "          (miniMLP_linear_001): Linear(in_features=128, out_features=128, bias=True)\n",
       "          (miniMLP_activation_001): ReLU()\n",
       "          (miniMLP_dropout_002): Dropout(p=0.5, inplace=False)\n",
       "          (miniMLP_linear_002): Linear(in_features=128, out_features=128, bias=True)\n",
       "        )\n",
       "      )\n",
       "      (3): DiffusionNetBlock(\n",
       "        (diffusion): LearnedTimeDiffusion()\n",
       "        (gradient_features): SpatialGradientFeatures(\n",
       "          (A_re): Linear(in_features=128, out_features=128, bias=False)\n",
       "          (A_im): Linear(in_features=128, out_features=128, bias=False)\n",
       "        )\n",
       "        (mlp): MiniMLP(\n",
       "          (miniMLP_linear_000): Linear(in_features=384, out_features=128, bias=True)\n",
       "          (miniMLP_activation_000): ReLU()\n",
       "          (miniMLP_dropout_001): Dropout(p=0.5, inplace=False)\n",
       "          (miniMLP_linear_001): Linear(in_features=128, out_features=128, bias=True)\n",
       "          (miniMLP_activation_001): ReLU()\n",
       "          (miniMLP_dropout_002): Dropout(p=0.5, inplace=False)\n",
       "          (miniMLP_linear_002): Linear(in_features=128, out_features=128, bias=True)\n",
       "        )\n",
       "      )\n",
       "    )\n",
       "  )\n",
       "  (fm_solver): RegularizedFMNet()\n",
       "  (permutation): Similarity()\n",
       ")"
      ]
     },
     "execution_count": 12,
     "metadata": {},
     "output_type": "execute_result"
    }
   ],
   "source": [
    "urssm = NETWORK_REGISTRY[opt.network.name](opt).to(device)\n",
    "urssm"
   ]
  },
  {
   "cell_type": "code",
   "execution_count": 13,
   "id": "80d0c19e",
   "metadata": {},
   "outputs": [
    {
     "name": "stdout",
     "output_type": "stream",
     "text": [
      "Loaded pretrain weights from ../checkpoints/faust.pth\n"
     ]
    }
   ],
   "source": [
    "network_path = '../checkpoints/faust.pth'\n",
    "urssm.feature_extractor.load_state_dict(\n",
    "    torch.load(network_path)['networks']['feature_extractor']\n",
    ")\n",
    "print(f'Loaded pretrain weights from {network_path}')"
   ]
  },
  {
   "cell_type": "code",
   "execution_count": 14,
   "id": "a597d89f",
   "metadata": {},
   "outputs": [
    {
     "data": {
      "text/plain": [
       "{'Cxy': tensor([[[ 9.7130e-01, -1.5122e-02, -1.8399e-03,  ...,  2.5405e-04,\n",
       "           -3.2051e-06,  3.4399e-04],\n",
       "          [ 8.2068e-03, -9.5574e-01,  2.5925e-02,  ...,  3.6873e-04,\n",
       "           -1.5091e-04,  5.1748e-04],\n",
       "          [ 8.9977e-03, -2.8313e-02, -9.1457e-01,  ...,  3.3003e-04,\n",
       "           -1.3187e-04, -6.1882e-04],\n",
       "          ...,\n",
       "          [-8.2736e-04, -5.1638e-04, -3.6542e-04,  ..., -4.5998e-02,\n",
       "            5.6245e-02, -2.6612e-01],\n",
       "          [ 3.1957e-04,  4.6047e-04, -2.1055e-04,  ...,  1.4296e-01,\n",
       "           -3.7584e-02,  2.8080e-01],\n",
       "          [-1.0973e-03,  3.5642e-04, -4.0581e-05,  ...,  1.9760e-01,\n",
       "           -9.6500e-02,  1.3485e-01]]], device='cuda:0', grad_fn=<CatBackward0>),\n",
       " 'Cyx': tensor([[[ 9.8565e-01, -1.3447e-02, -1.2126e-03,  ..., -1.1071e-04,\n",
       "            8.1987e-04, -1.0983e-04],\n",
       "          [ 9.1590e-03, -1.0021e+00, -3.5750e-02,  ..., -1.5244e-03,\n",
       "           -5.2046e-04,  6.3162e-04],\n",
       "          [ 9.3044e-03,  2.8630e-02, -1.0561e+00,  ..., -1.9739e-04,\n",
       "            1.8299e-04, -7.3783e-05],\n",
       "          ...,\n",
       "          [-1.3323e-03, -9.8505e-05,  1.5742e-03,  ..., -2.1629e-01,\n",
       "            1.0059e-01,  1.1360e-01],\n",
       "          [ 4.0889e-04,  1.2773e-03, -3.1626e-04,  ...,  2.1584e-01,\n",
       "           -1.0747e-01, -2.8174e-01],\n",
       "          [-8.1806e-04,  4.4039e-05, -3.5735e-04,  ..., -1.5487e-01,\n",
       "            2.2563e-01,  1.2349e-02]]], device='cuda:0', grad_fn=<CatBackward0>),\n",
       " 'Pxy': tensor([[[1.7105e-03, 3.2230e-02, 1.0409e-04,  ..., 1.6921e-06,\n",
       "           3.9321e-06, 1.9255e-06],\n",
       "          [4.3145e-05, 2.8158e-07, 8.6107e-03,  ..., 1.2256e-08,\n",
       "           1.3557e-07, 1.7577e-07],\n",
       "          [4.2126e-04, 1.5589e-06, 2.5579e-02,  ..., 1.7326e-07,\n",
       "           2.8422e-06, 7.6804e-07],\n",
       "          ...,\n",
       "          [2.6298e-07, 2.0807e-07, 1.2971e-07,  ..., 3.1794e-07,\n",
       "           5.0326e-07, 7.0221e-07],\n",
       "          [9.6328e-07, 2.2775e-06, 1.4900e-06,  ..., 6.8723e-07,\n",
       "           1.0307e-05, 7.3025e-06],\n",
       "          [2.1003e-06, 7.5614e-07, 1.8268e-06,  ..., 1.8539e-06,\n",
       "           2.4622e-07, 1.3079e-06]]], device='cuda:0', grad_fn=<ExpBackward0>),\n",
       " 'Pyx': tensor([[[7.4347e-03, 9.9751e-04, 9.5331e-03,  ..., 9.8429e-06,\n",
       "           7.2163e-06, 2.5537e-05],\n",
       "          [3.6692e-02, 1.7051e-06, 9.2396e-06,  ..., 2.0398e-06,\n",
       "           4.4687e-06, 2.4080e-06],\n",
       "          [4.1684e-05, 1.8342e-02, 5.3333e-02,  ..., 4.4730e-07,\n",
       "           1.0284e-06, 2.0465e-06],\n",
       "          ...,\n",
       "          [6.9721e-07, 2.6862e-08, 3.7169e-07,  ..., 1.1281e-06,\n",
       "           4.8805e-07, 2.1368e-06],\n",
       "          [1.1756e-06, 2.1560e-07, 4.4240e-06,  ..., 1.2956e-06,\n",
       "           5.3110e-06, 2.0592e-07],\n",
       "          [7.2949e-07, 3.5421e-07, 1.5149e-06,  ..., 2.2909e-06,\n",
       "           4.7683e-06, 1.3861e-06]]], device='cuda:0', grad_fn=<ExpBackward0>)}"
      ]
     },
     "execution_count": 14,
     "metadata": {},
     "output_type": "execute_result"
    }
   ],
   "source": [
    "infer = urssm.feed(data)\n",
    "infer"
   ]
  },
  {
   "cell_type": "markdown",
   "id": "24e0fa34",
   "metadata": {},
   "source": [
    "## Loss"
   ]
  },
  {
   "cell_type": "code",
   "execution_count": 15,
   "id": "d3913d67",
   "metadata": {},
   "outputs": [
    {
     "data": {
      "text/plain": [
       "{'BijectivityLoss': src.loss.fmap.BijectivityLoss,\n",
       " 'OrthogonalityLoss': src.loss.fmap.OrthogonalityLoss,\n",
       " 'LaplacianCommutativityLoss': src.loss.fmap.LaplacianCommutativityLoss,\n",
       " 'SpatialSpectralAlignmentLoss': src.loss.fmap.SpatialSpectralAlignmentLoss,\n",
       " 'PartialFmapsLoss': src.loss.fmap.PartialFmapsLoss,\n",
       " 'DirichletLoss': src.loss.dirichlet.DirichletLoss}"
      ]
     },
     "execution_count": 15,
     "metadata": {},
     "output_type": "execute_result"
    }
   ],
   "source": [
    "from src.infra.registry import LOSS_REGISTRY\n",
    "LOSS_REGISTRY"
   ]
  },
  {
   "cell_type": "code",
   "execution_count": 16,
   "id": "2bdf5437",
   "metadata": {},
   "outputs": [
    {
     "data": {
      "text/plain": [
       "{'bij_loss': {'fn': BijectivityLoss(\n",
       "    (squared_frobenius): SquaredFrobeniusLoss()\n",
       "  ),\n",
       "  'weight': 1.0},\n",
       " 'orth_loss': {'fn': OrthogonalityLoss(\n",
       "    (squared_frobenius): SquaredFrobeniusLoss()\n",
       "  ),\n",
       "  'weight': 1.0},\n",
       " 'align_loss': {'fn': SpatialSpectralAlignmentLoss(\n",
       "    (squared_frobenius): SquaredFrobeniusLoss()\n",
       "  ),\n",
       "  'weight': 1.0}}"
      ]
     },
     "execution_count": 16,
     "metadata": {},
     "output_type": "execute_result"
    }
   ],
   "source": [
    "loss_dict = {}\n",
    "\n",
    "for name, loss in opt.train.loss.items():\n",
    "    loss_dict[name] = {\n",
    "        'fn': LOSS_REGISTRY[loss['name']](**loss['args']).to(device),\n",
    "        'weight': loss['weight'],\n",
    "    }\n",
    "\n",
    "loss_dict"
   ]
  },
  {
   "cell_type": "code",
   "execution_count": 17,
   "id": "a1a08a63",
   "metadata": {},
   "outputs": [
    {
     "name": "stdout",
     "output_type": "stream",
     "text": [
      "bij_loss tensor(17.4373, device='cuda:0', grad_fn=<AddBackward0>)\n",
      "orth_loss tensor(48.4561, device='cuda:0', grad_fn=<AddBackward0>)\n",
      "align_loss tensor(53.4464, device='cuda:0', grad_fn=<AddBackward0>)\n"
     ]
    }
   ],
   "source": [
    "for name, loss in loss_dict.items():\n",
    "    print(name, loss['fn'].feed(infer, data))"
   ]
  },
  {
   "cell_type": "markdown",
   "id": "1f4f946a",
   "metadata": {},
   "source": [
    "## Metrics"
   ]
  },
  {
   "cell_type": "code",
   "execution_count": 18,
   "id": "abf7c7ab",
   "metadata": {},
   "outputs": [
    {
     "data": {
      "text/plain": [
       "{'MeanDiffRatio': src.metric.stats.MeanDiffRatio,\n",
       " 'StdDiffRatio': src.metric.stats.StdDiffRatio,\n",
       " 'GeodesicDist': src.metric.geodist.GeodesicDist}"
      ]
     },
     "execution_count": 18,
     "metadata": {},
     "output_type": "execute_result"
    }
   ],
   "source": [
    "from src.infra.registry import METRIC_REGISTRY\n",
    "METRIC_REGISTRY"
   ]
  },
  {
   "cell_type": "code",
   "execution_count": 19,
   "id": "807d1147",
   "metadata": {},
   "outputs": [
    {
     "data": {
      "text/plain": [
       "{'geodist': GeodesicDist()}"
      ]
     },
     "execution_count": 19,
     "metadata": {},
     "output_type": "execute_result"
    }
   ],
   "source": [
    "metric_dict = {}\n",
    "\n",
    "for name, metric in opt.train.metric.items():\n",
    "    metric_dict[name] = METRIC_REGISTRY[metric['name']](**metric['args']).to(device)\n",
    "\n",
    "metric_dict"
   ]
  },
  {
   "cell_type": "code",
   "execution_count": 20,
   "id": "6467308f",
   "metadata": {},
   "outputs": [],
   "source": [
    "for name, metric in metric_dict.items():\n",
    "    metric.eval()\n",
    "    metric.start_feed(None, 'geodist')\n",
    "    metric.feed(infer, data)"
   ]
  },
  {
   "cell_type": "markdown",
   "id": "3dc1afff",
   "metadata": {},
   "source": [
    "## Training loop"
   ]
  },
  {
   "cell_type": "code",
   "execution_count": 21,
   "id": "c35aaf56",
   "metadata": {},
   "outputs": [
    {
     "data": {
      "text/plain": [
       "{'SGD': torch.optim.sgd.SGD,\n",
       " 'Adam': torch.optim.adam.Adam,\n",
       " 'AdamW': torch.optim.adamw.AdamW,\n",
       " 'RMSprop': torch.optim.rmsprop.RMSprop,\n",
       " 'Adagrad': torch.optim.adagrad.Adagrad,\n",
       " 'Adadelta': torch.optim.adadelta.Adadelta}"
      ]
     },
     "execution_count": 21,
     "metadata": {},
     "output_type": "execute_result"
    }
   ],
   "source": [
    "from src.infra.registry import OPTIMIZER_REGISTRY\n",
    "OPTIMIZER_REGISTRY"
   ]
  },
  {
   "cell_type": "code",
   "execution_count": 22,
   "id": "e6746169",
   "metadata": {},
   "outputs": [
    {
     "data": {
      "text/plain": [
       "Adam (\n",
       "Parameter Group 0\n",
       "    amsgrad: False\n",
       "    betas: (0.9, 0.999)\n",
       "    capturable: False\n",
       "    differentiable: False\n",
       "    eps: 1e-08\n",
       "    foreach: None\n",
       "    fused: False\n",
       "    lr: 0.001\n",
       "    maximize: False\n",
       "    weight_decay: 0\n",
       ")"
      ]
     },
     "execution_count": 22,
     "metadata": {},
     "output_type": "execute_result"
    }
   ],
   "source": [
    "optimizer = OPTIMIZER_REGISTRY[opt.train.optimizer.name](\n",
    "    params=urssm.parameters(),\n",
    "    **opt.train.optimizer.args,\n",
    ")\n",
    "optimizer"
   ]
  },
  {
   "cell_type": "code",
   "execution_count": 23,
   "id": "37b28c9a",
   "metadata": {},
   "outputs": [
    {
     "name": "stdout",
     "output_type": "stream",
     "text": [
      "batch 0 loss: 156.3905029296875\n",
      "batch 1 loss: 161.17811584472656\n",
      "batch 2 loss: 131.73617553710938\n",
      "batch 3 loss: 188.54330444335938\n",
      "batch 4 loss: 147.65383911132812\n",
      "batch 5 loss: 200.42495727539062\n",
      "batch 6 loss: 154.72117614746094\n",
      "batch 7 loss: 154.2474822998047\n",
      "batch 8 loss: 135.6914520263672\n",
      "batch 9 loss: 149.32748413085938\n",
      "batch 10 loss: 158.50827026367188\n",
      "batch 11 loss: 180.33425903320312\n"
     ]
    }
   ],
   "source": [
    "urssm.train()\n",
    "\n",
    "for batch, data in enumerate(dataloader):\n",
    "    data = to_device(data, device)\n",
    "    infer = urssm(data)\n",
    "    loss_val = 0\n",
    "    \n",
    "    for name, loss in loss_dict.items():\n",
    "        loss_value = loss['fn'](infer, data) * loss['weight']\n",
    "        loss_val += loss_value\n",
    "    \n",
    "    print(f'batch {batch} loss: {loss_val.item()}')\n",
    "\n",
    "    optimizer.zero_grad()\n",
    "    loss_val.backward()\n",
    "    optimizer.step()\n",
    "\n",
    "    if batch > 10:\n",
    "        break"
   ]
  },
  {
   "cell_type": "markdown",
   "id": "bd687fda",
   "metadata": {},
   "source": [
    "## Inference mode"
   ]
  },
  {
   "cell_type": "code",
   "execution_count": 24,
   "id": "56481c68",
   "metadata": {},
   "outputs": [
    {
     "data": {
      "text/plain": [
       "{'Cxy': tensor([[[-9.6680e-01, -7.6220e-03, -5.4017e-03,  ..., -3.8725e-04,\n",
       "            5.4300e-04, -1.3607e-04],\n",
       "          [-8.4055e-03,  9.5202e-01, -9.6099e-02,  ..., -3.6205e-04,\n",
       "            2.4001e-05, -6.0918e-04],\n",
       "          [ 4.7266e-03,  1.5281e-01,  9.4750e-01,  ..., -9.4869e-04,\n",
       "           -2.7597e-04, -2.7404e-04],\n",
       "          ...,\n",
       "          [-1.7067e-03, -5.2618e-05,  1.9227e-04,  ..., -8.9134e-02,\n",
       "            1.8322e-01,  1.3075e-01],\n",
       "          [-9.6023e-04, -8.8564e-04,  3.0949e-03,  ...,  3.2237e-03,\n",
       "            3.0350e-01,  2.2264e-01],\n",
       "          [-2.4657e-04,  1.4766e-03, -3.0290e-04,  ..., -2.8351e-02,\n",
       "           -1.3229e-01,  7.4403e-02]]], device='cuda:0', grad_fn=<CatBackward0>),\n",
       " 'Pyx': [tensor([[ 2.0774e-02,  3.1640e-02,  2.9294e-03,  ..., -4.9916e-05,\n",
       "            4.7147e-05,  4.9359e-05],\n",
       "          [ 2.2859e-02,  3.2898e-02,  5.4672e-03,  ..., -5.1118e-05,\n",
       "            1.1208e-05,  2.3583e-05],\n",
       "          [ 2.3053e-02,  3.3987e-02,  6.0531e-03,  ..., -5.9679e-05,\n",
       "            2.6104e-05,  3.3066e-05],\n",
       "          ...,\n",
       "          [ 9.6183e-05, -8.0668e-05,  2.9109e-04,  ..., -7.0455e-06,\n",
       "            4.6747e-06, -3.3915e-05],\n",
       "          [ 1.5896e-04,  5.3567e-06,  1.1429e-04,  ...,  3.2239e-05,\n",
       "           -1.6635e-05, -2.5725e-05],\n",
       "          [ 2.8416e-04,  3.2398e-04,  2.9972e-04,  ...,  1.6710e-05,\n",
       "            4.9154e-05, -4.5199e-05]], device='cuda:0')],\n",
       " 'p2p': [tensor([  46,   14,    1,  ..., 4936, 4269, 3244], device='cuda:0')]}"
      ]
     },
     "execution_count": 24,
     "metadata": {},
     "output_type": "execute_result"
    }
   ],
   "source": [
    "infer = urssm.inference(data)\n",
    "infer"
   ]
  }
 ],
 "metadata": {
  "kernelspec": {
   "display_name": "dongliang-cao-2023-cvpr",
   "language": "python",
   "name": "python3"
  },
  "language_info": {
   "codemirror_mode": {
    "name": "ipython",
    "version": 3
   },
   "file_extension": ".py",
   "mimetype": "text/x-python",
   "name": "python",
   "nbconvert_exporter": "python",
   "pygments_lexer": "ipython3",
   "version": "3.8.20"
  }
 },
 "nbformat": 4,
 "nbformat_minor": 5
}
