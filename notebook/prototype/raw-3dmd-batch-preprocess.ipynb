{
 "cells": [
  {
   "cell_type": "code",
   "execution_count": null,
   "id": "38350e88",
   "metadata": {},
   "outputs": [],
   "source": [
    "import sys\n",
    "sys.path.append('../..')"
   ]
  },
  {
   "cell_type": "code",
   "execution_count": 24,
   "id": "58ab77cd",
   "metadata": {},
   "outputs": [],
   "source": [
    "from pathlib import Path\n",
    "\n",
    "data_root = Path('/Users/knpob/Dev/data/3dMD/jump')"
   ]
  },
  {
   "cell_type": "markdown",
   "id": "30ba728f",
   "metadata": {},
   "source": [
    "## Clean meshes"
   ]
  },
  {
   "cell_type": "code",
   "execution_count": 25,
   "id": "4043007c",
   "metadata": {},
   "outputs": [
    {
     "data": {
      "text/plain": [
       "['/Users/knpob/Dev/data/3dMD/jump/meshes/S6_nude_jump120_0309_0372.000001.obj',\n",
       " '/Users/knpob/Dev/data/3dMD/jump/meshes/S6_nude_jump120_0309_0372.000002.obj',\n",
       " '/Users/knpob/Dev/data/3dMD/jump/meshes/S6_nude_jump120_0309_0372.000003.obj',\n",
       " '/Users/knpob/Dev/data/3dMD/jump/meshes/S6_nude_jump120_0309_0372.000004.obj',\n",
       " '/Users/knpob/Dev/data/3dMD/jump/meshes/S6_nude_jump120_0309_0372.000005.obj',\n",
       " '/Users/knpob/Dev/data/3dMD/jump/meshes/S6_nude_jump120_0309_0372.000006.obj',\n",
       " '/Users/knpob/Dev/data/3dMD/jump/meshes/S6_nude_jump120_0309_0372.000007.obj',\n",
       " '/Users/knpob/Dev/data/3dMD/jump/meshes/S6_nude_jump120_0309_0372.000008.obj',\n",
       " '/Users/knpob/Dev/data/3dMD/jump/meshes/S6_nude_jump120_0309_0372.000009.obj',\n",
       " '/Users/knpob/Dev/data/3dMD/jump/meshes/S6_nude_jump120_0309_0372.000010.obj',\n",
       " '/Users/knpob/Dev/data/3dMD/jump/meshes/S6_nude_jump120_0309_0372.000011.obj',\n",
       " '/Users/knpob/Dev/data/3dMD/jump/meshes/S6_nude_jump120_0309_0372.000012.obj',\n",
       " '/Users/knpob/Dev/data/3dMD/jump/meshes/S6_nude_jump120_0309_0372.000013.obj',\n",
       " '/Users/knpob/Dev/data/3dMD/jump/meshes/S6_nude_jump120_0309_0372.000014.obj',\n",
       " '/Users/knpob/Dev/data/3dMD/jump/meshes/S6_nude_jump120_0309_0372.000015.obj',\n",
       " '/Users/knpob/Dev/data/3dMD/jump/meshes/S6_nude_jump120_0309_0372.000016.obj',\n",
       " '/Users/knpob/Dev/data/3dMD/jump/meshes/S6_nude_jump120_0309_0372.000017.obj',\n",
       " '/Users/knpob/Dev/data/3dMD/jump/meshes/S6_nude_jump120_0309_0372.000018.obj',\n",
       " '/Users/knpob/Dev/data/3dMD/jump/meshes/S6_nude_jump120_0309_0372.000019.obj',\n",
       " '/Users/knpob/Dev/data/3dMD/jump/meshes/S6_nude_jump120_0309_0372.000020.obj',\n",
       " '/Users/knpob/Dev/data/3dMD/jump/meshes/S6_nude_jump120_0309_0372.000021.obj',\n",
       " '/Users/knpob/Dev/data/3dMD/jump/meshes/S6_nude_jump120_0309_0372.000022.obj',\n",
       " '/Users/knpob/Dev/data/3dMD/jump/meshes/S6_nude_jump120_0309_0372.000023.obj',\n",
       " '/Users/knpob/Dev/data/3dMD/jump/meshes/S6_nude_jump120_0309_0372.000024.obj',\n",
       " '/Users/knpob/Dev/data/3dMD/jump/meshes/S6_nude_jump120_0309_0372.000025.obj',\n",
       " '/Users/knpob/Dev/data/3dMD/jump/meshes/S6_nude_jump120_0309_0372.000026.obj',\n",
       " '/Users/knpob/Dev/data/3dMD/jump/meshes/S6_nude_jump120_0309_0372.000027.obj',\n",
       " '/Users/knpob/Dev/data/3dMD/jump/meshes/S6_nude_jump120_0309_0372.000028.obj',\n",
       " '/Users/knpob/Dev/data/3dMD/jump/meshes/S6_nude_jump120_0309_0372.000029.obj',\n",
       " '/Users/knpob/Dev/data/3dMD/jump/meshes/S6_nude_jump120_0309_0372.000030.obj',\n",
       " '/Users/knpob/Dev/data/3dMD/jump/meshes/S6_nude_jump120_0309_0372.000031.obj',\n",
       " '/Users/knpob/Dev/data/3dMD/jump/meshes/S6_nude_jump120_0309_0372.000032.obj',\n",
       " '/Users/knpob/Dev/data/3dMD/jump/meshes/S6_nude_jump120_0309_0372.000033.obj',\n",
       " '/Users/knpob/Dev/data/3dMD/jump/meshes/S6_nude_jump120_0309_0372.000034.obj',\n",
       " '/Users/knpob/Dev/data/3dMD/jump/meshes/S6_nude_jump120_0309_0372.000035.obj',\n",
       " '/Users/knpob/Dev/data/3dMD/jump/meshes/S6_nude_jump120_0309_0372.000036.obj',\n",
       " '/Users/knpob/Dev/data/3dMD/jump/meshes/S6_nude_jump120_0309_0372.000037.obj',\n",
       " '/Users/knpob/Dev/data/3dMD/jump/meshes/S6_nude_jump120_0309_0372.000038.obj',\n",
       " '/Users/knpob/Dev/data/3dMD/jump/meshes/S6_nude_jump120_0309_0372.000039.obj',\n",
       " '/Users/knpob/Dev/data/3dMD/jump/meshes/S6_nude_jump120_0309_0372.000040.obj',\n",
       " '/Users/knpob/Dev/data/3dMD/jump/meshes/S6_nude_jump120_0309_0372.000041.obj',\n",
       " '/Users/knpob/Dev/data/3dMD/jump/meshes/S6_nude_jump120_0309_0372.000042.obj',\n",
       " '/Users/knpob/Dev/data/3dMD/jump/meshes/S6_nude_jump120_0309_0372.000043.obj',\n",
       " '/Users/knpob/Dev/data/3dMD/jump/meshes/S6_nude_jump120_0309_0372.000044.obj',\n",
       " '/Users/knpob/Dev/data/3dMD/jump/meshes/S6_nude_jump120_0309_0372.000045.obj',\n",
       " '/Users/knpob/Dev/data/3dMD/jump/meshes/S6_nude_jump120_0309_0372.000046.obj',\n",
       " '/Users/knpob/Dev/data/3dMD/jump/meshes/S6_nude_jump120_0309_0372.000047.obj',\n",
       " '/Users/knpob/Dev/data/3dMD/jump/meshes/S6_nude_jump120_0309_0372.000048.obj',\n",
       " '/Users/knpob/Dev/data/3dMD/jump/meshes/S6_nude_jump120_0309_0372.000049.obj',\n",
       " '/Users/knpob/Dev/data/3dMD/jump/meshes/S6_nude_jump120_0309_0372.000050.obj',\n",
       " '/Users/knpob/Dev/data/3dMD/jump/meshes/S6_nude_jump120_0309_0372.000051.obj',\n",
       " '/Users/knpob/Dev/data/3dMD/jump/meshes/S6_nude_jump120_0309_0372.000052.obj',\n",
       " '/Users/knpob/Dev/data/3dMD/jump/meshes/S6_nude_jump120_0309_0372.000053.obj',\n",
       " '/Users/knpob/Dev/data/3dMD/jump/meshes/S6_nude_jump120_0309_0372.000054.obj',\n",
       " '/Users/knpob/Dev/data/3dMD/jump/meshes/S6_nude_jump120_0309_0372.000055.obj',\n",
       " '/Users/knpob/Dev/data/3dMD/jump/meshes/S6_nude_jump120_0309_0372.000056.obj',\n",
       " '/Users/knpob/Dev/data/3dMD/jump/meshes/S6_nude_jump120_0309_0372.000057.obj',\n",
       " '/Users/knpob/Dev/data/3dMD/jump/meshes/S6_nude_jump120_0309_0372.000058.obj',\n",
       " '/Users/knpob/Dev/data/3dMD/jump/meshes/S6_nude_jump120_0309_0372.000059.obj',\n",
       " '/Users/knpob/Dev/data/3dMD/jump/meshes/S6_nude_jump120_0309_0372.000060.obj',\n",
       " '/Users/knpob/Dev/data/3dMD/jump/meshes/S6_nude_jump120_0309_0372.000061.obj',\n",
       " '/Users/knpob/Dev/data/3dMD/jump/meshes/S6_nude_jump120_0309_0372.000062.obj',\n",
       " '/Users/knpob/Dev/data/3dMD/jump/meshes/S6_nude_jump120_0309_0372.000063.obj',\n",
       " '/Users/knpob/Dev/data/3dMD/jump/meshes/S6_nude_jump120_0309_0372.000064.obj']"
      ]
     },
     "execution_count": 25,
     "metadata": {},
     "output_type": "execute_result"
    }
   ],
   "source": [
    "from glob import glob\n",
    "\n",
    "mesh_files = sorted(glob(str(data_root / 'meshes' / '*.obj')))\n",
    "mesh_files"
   ]
  },
  {
   "cell_type": "code",
   "execution_count": 22,
   "id": "3335e11c",
   "metadata": {},
   "outputs": [
    {
     "name": "stderr",
     "output_type": "stream",
     "text": [
      "Processing meshes:   0%|          | 0/64 [00:00<?, ?it/s]"
     ]
    },
    {
     "name": "stderr",
     "output_type": "stream",
     "text": [
      "Processing meshes: 100%|██████████| 64/64 [00:09<00:00,  6.48it/s]\n"
     ]
    }
   ],
   "source": [
    "import os\n",
    "from tqdm import tqdm\n",
    "import pyvista as pv\n",
    "\n",
    "os.makedirs(data_root / 'clean', exist_ok=True)\n",
    "\n",
    "for mesh_file in tqdm(mesh_files, desc='Processing meshes'):\n",
    "    mesh_clean = pv.read(mesh_file).clean().split_bodies()[0].extract_surface().triangulate()\n",
    "    mesh_clean.save(str(data_root / 'clean' / Path(mesh_file).stem) + '.ply')"
   ]
  },
  {
   "cell_type": "markdown",
   "id": "22ab63c1",
   "metadata": {},
   "source": [
    "## Simplify meshes"
   ]
  },
  {
   "cell_type": "code",
   "execution_count": 42,
   "id": "b3f10c4c",
   "metadata": {},
   "outputs": [],
   "source": [
    "import pymeshlab as ml\n",
    "\n",
    "def mesh_simplify(input_mesh_path, output_mesh_path, target_vertex_count):\n",
    "    ms = ml.MeshSet()\n",
    "    ms.load_new_mesh(input_mesh_path)\n",
    "    m = ms.current_mesh()\n",
    "\n",
    "    # clean-up in case of input has duplicate/unreferenced vertices\n",
    "    ms.meshing_remove_duplicate_vertices()\n",
    "    ms.meshing_remove_unreferenced_vertices()\n",
    "\n",
    "    # initial estimation number of faces, designed to be superior than the teorical value\n",
    "    numFaces = 100 + ms.current_mesh().face_number() - (ms.current_mesh().vertex_number() - target_vertex_count)\n",
    "\n",
    "    # iteratively simplify the mesh\n",
    "    while (ms.current_mesh().vertex_number() > target_vertex_count):\n",
    "        ms.meshing_decimation_quadric_edge_collapse(targetfacenum=numFaces, preservenormal=True)\n",
    "        numFaces = numFaces - (ms.current_mesh().vertex_number() - target_vertex_count)\n",
    "\n",
    "    m = ms.current_mesh()\n",
    "    ms.save_current_mesh(output_mesh_path)#, save_textures=False)"
   ]
  },
  {
   "cell_type": "code",
   "execution_count": 26,
   "id": "25b1db85",
   "metadata": {},
   "outputs": [
    {
     "data": {
      "text/plain": [
       "['/Users/knpob/Dev/data/3dMD/jump/clean/S6_nude_jump120_0309_0372.000001.ply',\n",
       " '/Users/knpob/Dev/data/3dMD/jump/clean/S6_nude_jump120_0309_0372.000002.ply',\n",
       " '/Users/knpob/Dev/data/3dMD/jump/clean/S6_nude_jump120_0309_0372.000003.ply',\n",
       " '/Users/knpob/Dev/data/3dMD/jump/clean/S6_nude_jump120_0309_0372.000004.ply',\n",
       " '/Users/knpob/Dev/data/3dMD/jump/clean/S6_nude_jump120_0309_0372.000005.ply',\n",
       " '/Users/knpob/Dev/data/3dMD/jump/clean/S6_nude_jump120_0309_0372.000006.ply',\n",
       " '/Users/knpob/Dev/data/3dMD/jump/clean/S6_nude_jump120_0309_0372.000007.ply',\n",
       " '/Users/knpob/Dev/data/3dMD/jump/clean/S6_nude_jump120_0309_0372.000008.ply',\n",
       " '/Users/knpob/Dev/data/3dMD/jump/clean/S6_nude_jump120_0309_0372.000009.ply',\n",
       " '/Users/knpob/Dev/data/3dMD/jump/clean/S6_nude_jump120_0309_0372.000010.ply',\n",
       " '/Users/knpob/Dev/data/3dMD/jump/clean/S6_nude_jump120_0309_0372.000011.ply',\n",
       " '/Users/knpob/Dev/data/3dMD/jump/clean/S6_nude_jump120_0309_0372.000012.ply',\n",
       " '/Users/knpob/Dev/data/3dMD/jump/clean/S6_nude_jump120_0309_0372.000013.ply',\n",
       " '/Users/knpob/Dev/data/3dMD/jump/clean/S6_nude_jump120_0309_0372.000014.ply',\n",
       " '/Users/knpob/Dev/data/3dMD/jump/clean/S6_nude_jump120_0309_0372.000015.ply',\n",
       " '/Users/knpob/Dev/data/3dMD/jump/clean/S6_nude_jump120_0309_0372.000016.ply',\n",
       " '/Users/knpob/Dev/data/3dMD/jump/clean/S6_nude_jump120_0309_0372.000017.ply',\n",
       " '/Users/knpob/Dev/data/3dMD/jump/clean/S6_nude_jump120_0309_0372.000018.ply',\n",
       " '/Users/knpob/Dev/data/3dMD/jump/clean/S6_nude_jump120_0309_0372.000019.ply',\n",
       " '/Users/knpob/Dev/data/3dMD/jump/clean/S6_nude_jump120_0309_0372.000020.ply',\n",
       " '/Users/knpob/Dev/data/3dMD/jump/clean/S6_nude_jump120_0309_0372.000021.ply',\n",
       " '/Users/knpob/Dev/data/3dMD/jump/clean/S6_nude_jump120_0309_0372.000022.ply',\n",
       " '/Users/knpob/Dev/data/3dMD/jump/clean/S6_nude_jump120_0309_0372.000023.ply',\n",
       " '/Users/knpob/Dev/data/3dMD/jump/clean/S6_nude_jump120_0309_0372.000024.ply',\n",
       " '/Users/knpob/Dev/data/3dMD/jump/clean/S6_nude_jump120_0309_0372.000025.ply',\n",
       " '/Users/knpob/Dev/data/3dMD/jump/clean/S6_nude_jump120_0309_0372.000026.ply',\n",
       " '/Users/knpob/Dev/data/3dMD/jump/clean/S6_nude_jump120_0309_0372.000027.ply',\n",
       " '/Users/knpob/Dev/data/3dMD/jump/clean/S6_nude_jump120_0309_0372.000028.ply',\n",
       " '/Users/knpob/Dev/data/3dMD/jump/clean/S6_nude_jump120_0309_0372.000029.ply',\n",
       " '/Users/knpob/Dev/data/3dMD/jump/clean/S6_nude_jump120_0309_0372.000030.ply',\n",
       " '/Users/knpob/Dev/data/3dMD/jump/clean/S6_nude_jump120_0309_0372.000031.ply',\n",
       " '/Users/knpob/Dev/data/3dMD/jump/clean/S6_nude_jump120_0309_0372.000032.ply',\n",
       " '/Users/knpob/Dev/data/3dMD/jump/clean/S6_nude_jump120_0309_0372.000033.ply',\n",
       " '/Users/knpob/Dev/data/3dMD/jump/clean/S6_nude_jump120_0309_0372.000034.ply',\n",
       " '/Users/knpob/Dev/data/3dMD/jump/clean/S6_nude_jump120_0309_0372.000035.ply',\n",
       " '/Users/knpob/Dev/data/3dMD/jump/clean/S6_nude_jump120_0309_0372.000036.ply',\n",
       " '/Users/knpob/Dev/data/3dMD/jump/clean/S6_nude_jump120_0309_0372.000037.ply',\n",
       " '/Users/knpob/Dev/data/3dMD/jump/clean/S6_nude_jump120_0309_0372.000038.ply',\n",
       " '/Users/knpob/Dev/data/3dMD/jump/clean/S6_nude_jump120_0309_0372.000039.ply',\n",
       " '/Users/knpob/Dev/data/3dMD/jump/clean/S6_nude_jump120_0309_0372.000040.ply',\n",
       " '/Users/knpob/Dev/data/3dMD/jump/clean/S6_nude_jump120_0309_0372.000041.ply',\n",
       " '/Users/knpob/Dev/data/3dMD/jump/clean/S6_nude_jump120_0309_0372.000042.ply',\n",
       " '/Users/knpob/Dev/data/3dMD/jump/clean/S6_nude_jump120_0309_0372.000043.ply',\n",
       " '/Users/knpob/Dev/data/3dMD/jump/clean/S6_nude_jump120_0309_0372.000044.ply',\n",
       " '/Users/knpob/Dev/data/3dMD/jump/clean/S6_nude_jump120_0309_0372.000045.ply',\n",
       " '/Users/knpob/Dev/data/3dMD/jump/clean/S6_nude_jump120_0309_0372.000046.ply',\n",
       " '/Users/knpob/Dev/data/3dMD/jump/clean/S6_nude_jump120_0309_0372.000047.ply',\n",
       " '/Users/knpob/Dev/data/3dMD/jump/clean/S6_nude_jump120_0309_0372.000048.ply',\n",
       " '/Users/knpob/Dev/data/3dMD/jump/clean/S6_nude_jump120_0309_0372.000049.ply',\n",
       " '/Users/knpob/Dev/data/3dMD/jump/clean/S6_nude_jump120_0309_0372.000050.ply',\n",
       " '/Users/knpob/Dev/data/3dMD/jump/clean/S6_nude_jump120_0309_0372.000051.ply',\n",
       " '/Users/knpob/Dev/data/3dMD/jump/clean/S6_nude_jump120_0309_0372.000052.ply',\n",
       " '/Users/knpob/Dev/data/3dMD/jump/clean/S6_nude_jump120_0309_0372.000053.ply',\n",
       " '/Users/knpob/Dev/data/3dMD/jump/clean/S6_nude_jump120_0309_0372.000054.ply',\n",
       " '/Users/knpob/Dev/data/3dMD/jump/clean/S6_nude_jump120_0309_0372.000055.ply',\n",
       " '/Users/knpob/Dev/data/3dMD/jump/clean/S6_nude_jump120_0309_0372.000056.ply',\n",
       " '/Users/knpob/Dev/data/3dMD/jump/clean/S6_nude_jump120_0309_0372.000057.ply',\n",
       " '/Users/knpob/Dev/data/3dMD/jump/clean/S6_nude_jump120_0309_0372.000058.ply',\n",
       " '/Users/knpob/Dev/data/3dMD/jump/clean/S6_nude_jump120_0309_0372.000059.ply',\n",
       " '/Users/knpob/Dev/data/3dMD/jump/clean/S6_nude_jump120_0309_0372.000060.ply',\n",
       " '/Users/knpob/Dev/data/3dMD/jump/clean/S6_nude_jump120_0309_0372.000061.ply',\n",
       " '/Users/knpob/Dev/data/3dMD/jump/clean/S6_nude_jump120_0309_0372.000062.ply',\n",
       " '/Users/knpob/Dev/data/3dMD/jump/clean/S6_nude_jump120_0309_0372.000063.ply',\n",
       " '/Users/knpob/Dev/data/3dMD/jump/clean/S6_nude_jump120_0309_0372.000064.ply']"
      ]
     },
     "execution_count": 26,
     "metadata": {},
     "output_type": "execute_result"
    }
   ],
   "source": [
    "mesh_clean_files = sorted(glob(str(data_root / 'clean' / '*.ply')))\n",
    "mesh_clean_files"
   ]
  },
  {
   "cell_type": "code",
   "execution_count": 44,
   "id": "580b4233",
   "metadata": {},
   "outputs": [
    {
     "name": "stderr",
     "output_type": "stream",
     "text": [
      "Processing meshes: 100%|██████████| 64/64 [01:12<00:00,  1.14s/it]\n"
     ]
    }
   ],
   "source": [
    "import os\n",
    "from tqdm import tqdm\n",
    "\n",
    "os.makedirs(data_root / 'ply', exist_ok=True)\n",
    "\n",
    "for mesh_file in tqdm(mesh_clean_files, desc='Processing meshes'):\n",
    "    mesh_simplify(\n",
    "        input_mesh_path=mesh_file,\n",
    "        output_mesh_path=str(data_root / 'ply' / Path(mesh_file).stem) + '.ply',\n",
    "        target_vertex_count=5000,\n",
    "    )"
   ]
  },
  {
   "cell_type": "code",
   "execution_count": 45,
   "id": "f376536d",
   "metadata": {},
   "outputs": [
    {
     "data": {
      "application/vnd.jupyter.widget-view+json": {
       "model_id": "2c6463e828dd4b759953d8f493d3379b",
       "version_major": 2,
       "version_minor": 0
      },
      "text/plain": [
       "Widget(value='<iframe src=\"http://localhost:55786/index.html?ui=P_0x120bc5570_1&reconnect=auto\" class=\"pyvista…"
      ]
     },
     "metadata": {},
     "output_type": "display_data"
    }
   ],
   "source": [
    "pv.read(str(data_root / 'ply' / Path(mesh_file).stem) + '.ply').plot()"
   ]
  },
  {
   "cell_type": "code",
   "execution_count": 50,
   "id": "60d34b94",
   "metadata": {},
   "outputs": [],
   "source": [
    "import shutil\n",
    "\n",
    "# remove the cleaned meshes directory\n",
    "shutil.rmtree(data_root / 'clean')"
   ]
  },
  {
   "cell_type": "code",
   "execution_count": null,
   "id": "24857459",
   "metadata": {},
   "outputs": [],
   "source": []
  }
 ],
 "metadata": {
  "kernelspec": {
   "display_name": "fmap",
   "language": "python",
   "name": "python3"
  },
  "language_info": {
   "codemirror_mode": {
    "name": "ipython",
    "version": 3
   },
   "file_extension": ".py",
   "mimetype": "text/x-python",
   "name": "python",
   "nbconvert_exporter": "python",
   "pygments_lexer": "ipython3",
   "version": "3.10.18"
  }
 },
 "nbformat": 4,
 "nbformat_minor": 5
}
