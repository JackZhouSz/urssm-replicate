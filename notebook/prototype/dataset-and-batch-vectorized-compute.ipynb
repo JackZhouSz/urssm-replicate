{
 "cells": [
  {
   "cell_type": "code",
   "execution_count": 1,
   "id": "0714f59c",
   "metadata": {},
   "outputs": [],
   "source": [
    "%reload_ext autoreload\n",
    "%autoreload 2"
   ]
  },
  {
   "cell_type": "code",
   "execution_count": 2,
   "id": "717427ea",
   "metadata": {},
   "outputs": [],
   "source": [
    "import sys\n",
    "sys.path.append('../..')"
   ]
  },
  {
   "cell_type": "code",
   "execution_count": 3,
   "id": "fa0420a6",
   "metadata": {},
   "outputs": [
    {
     "data": {
      "text/plain": [
       "'cuda'"
      ]
     },
     "execution_count": 3,
     "metadata": {},
     "output_type": "execute_result"
    }
   ],
   "source": [
    "import torch\n",
    "device = 'cuda' if torch.cuda.is_available() else 'cpu'\n",
    "device"
   ]
  },
  {
   "cell_type": "markdown",
   "id": "a644ef9f",
   "metadata": {},
   "source": [
    "## Original dataset"
   ]
  },
  {
   "cell_type": "code",
   "execution_count": 4,
   "id": "0b3db828",
   "metadata": {},
   "outputs": [],
   "source": [
    "# from src.dataset.shape_cor import PairFaustDataset\n",
    "\n",
    "# dataset = PairFaustDataset(\n",
    "#     phase='train',\n",
    "#     data_root='../../data/FAUST_r/',\n",
    "#     return_evecs='true',\n",
    "#     return_faces='true',\n",
    "#     num_evecs=200,\n",
    "#     return_corr='false',\n",
    "#     return_dist='false',\n",
    "# )"
   ]
  },
  {
   "cell_type": "code",
   "execution_count": 5,
   "id": "176e1c92",
   "metadata": {},
   "outputs": [],
   "source": [
    "# import time\n",
    "# start_time = time.time()\n",
    "\n",
    "# for idx, data in enumerate(dataset):\n",
    "#     if idx >= 10:\n",
    "#         break\n",
    "\n",
    "# end_time = time.time()\n",
    "# sample_per_sec = 10 / (end_time - start_time)\n",
    "# eta = len(dataset) / sample_per_sec / 60\n",
    "# print(f\"total: {10 / (sample_per_sec)} sample/s | eta: {eta} min\")\n",
    "# # total: 2.158205032348633 sample/s | eta: 23.020853678385414 min"
   ]
  },
  {
   "cell_type": "markdown",
   "id": "1b1d0a5a",
   "metadata": {},
   "source": [
    "## Fast dataset"
   ]
  },
  {
   "cell_type": "code",
   "execution_count": 6,
   "id": "3af0418d",
   "metadata": {},
   "outputs": [
    {
     "name": "stdout",
     "output_type": "stream",
     "text": [
      "Jupyter environment detected. Enabling Open3D WebVisualizer.\n",
      "[Open3D INFO] WebRTC GUI backend enabled.\n",
      "[Open3D INFO] WebRTCWindowSystem: HTTP handshake server disabled.\n"
     ]
    },
    {
     "data": {
      "text/plain": [
       "6400"
      ]
     },
     "execution_count": 6,
     "metadata": {},
     "output_type": "execute_result"
    }
   ],
   "source": [
    "from src.dataset.shape_cor_fast import PairFaustDatasetFast\n",
    "\n",
    "dataset = PairFaustDatasetFast(\n",
    "    data_root='../../data_/FAUST_r',\n",
    "    phase='train',\n",
    "    return_faces=True,\n",
    "    return_L=True,\n",
    "    return_mass=True,\n",
    "    num_evecs=200,\n",
    "    return_evecs=True,\n",
    "    return_grad=True,\n",
    "    return_corr=True,\n",
    "    return_dist=True,\n",
    ")\n",
    "len(dataset)"
   ]
  },
  {
   "cell_type": "code",
   "execution_count": 7,
   "id": "a70df6e2",
   "metadata": {},
   "outputs": [
    {
     "name": "stderr",
     "output_type": "stream",
     "text": [
      "  0%|          | 0/6400 [00:00<?, ?it/s]\n"
     ]
    }
   ],
   "source": [
    "from tqdm import tqdm\n",
    "\n",
    "for data in tqdm(dataset):\n",
    "    # pass\n",
    "    break"
   ]
  },
  {
   "cell_type": "code",
   "execution_count": 8,
   "id": "19cb7eb6",
   "metadata": {},
   "outputs": [
    {
     "data": {
      "image/png": "[encoded data removed]",
      "text/plain": [
       "<Figure size 640x480 with 1 Axes>"
      ]
     },
     "metadata": {},
     "output_type": "display_data"
    }
   ],
   "source": [
    "import matplotlib.pyplot as plt\n",
    "plt.imshow(data['first']['evecs_trans'] @ data['first']['evecs'])\n",
    "plt.show()"
   ]
  },
  {
   "cell_type": "markdown",
   "id": "871ab78f",
   "metadata": {},
   "source": [
    "## Batched dataloader"
   ]
  },
  {
   "cell_type": "code",
   "execution_count": 9,
   "id": "365d45b9",
   "metadata": {},
   "outputs": [
    {
     "name": "stderr",
     "output_type": "stream",
     "text": [
      "  0%|          | 0/800 [00:00<?, ?it/s]"
     ]
    },
    {
     "name": "stderr",
     "output_type": "stream",
     "text": [
      "  0%|          | 0/800 [00:05<?, ?it/s]\n"
     ]
    }
   ],
   "source": [
    "from tqdm import tqdm\n",
    "from src.utils.tensor import to_device\n",
    "from src.dataloader.shape_cor_batch import BatchShapePairDataLoader\n",
    "\n",
    "batch_loader = BatchShapePairDataLoader(\n",
    "    dataset=dataset,\n",
    "    batch_size=8,\n",
    "    shuffle=True,\n",
    "    num_workers=4,\n",
    ")\n",
    "\n",
    "for batch in tqdm(batch_loader, total=len(batch_loader)):\n",
    "    # pass\n",
    "    batch = to_device(batch, device)\n",
    "    break"
   ]
  },
  {
   "cell_type": "code",
   "execution_count": 10,
   "id": "161959da",
   "metadata": {},
   "outputs": [
    {
     "data": {
      "text/plain": [
       "(5001,\n",
       " tensor([[ 0.0115, -0.5356, -0.1038],\n",
       "         [ 0.0061, -0.5331, -0.1032]], device='cuda:0'))"
      ]
     },
     "execution_count": 10,
     "metadata": {},
     "output_type": "execute_result"
    }
   ],
   "source": [
    "batch['first']['num_verts'][0], batch['first']['verts'][0][4999:, :]"
   ]
  },
  {
   "cell_type": "markdown",
   "id": "492fc5be",
   "metadata": {},
   "source": [
    "## Point descriptors"
   ]
  },
  {
   "cell_type": "code",
   "execution_count": 11,
   "id": "9746702e",
   "metadata": {},
   "outputs": [
    {
     "data": {
      "text/plain": [
       "torch.Size([8, 200, 5001])"
      ]
     },
     "execution_count": 11,
     "metadata": {},
     "output_type": "execute_result"
    }
   ],
   "source": [
    "batch['first']['evecs_trans'].shape"
   ]
  },
  {
   "cell_type": "code",
   "execution_count": 12,
   "id": "5ad4c2c9",
   "metadata": {},
   "outputs": [],
   "source": [
    "def get_single(batch, idx, name='first'):\n",
    "    num_verts = batch[name]['num_verts'][idx]\n",
    "    return {\n",
    "        'evals': batch[name]['evals'][idx].unsqueeze(0),\n",
    "        'evecs': batch[name]['evecs'][idx][0:num_verts].unsqueeze(0),\n",
    "        'evecs_trans': batch[name]['evecs_trans'][idx][:, 0:num_verts].unsqueeze(0),\n",
    "        'mass': batch[name]['mass'][idx][0:num_verts].unsqueeze(0),\n",
    "        'verts': batch[name]['verts'][idx][0:num_verts].unsqueeze(0),\n",
    "        'faces': batch[name]['faces'][idx][0:num_verts].unsqueeze(0),\n",
    "        'gradX': torch.sparse_coo_tensor(\n",
    "            batch[name]['gradX_indices'],\n",
    "            batch[name]['gradX_values'],\n",
    "            batch[name]['gradX_size'],\n",
    "        ).to_dense()[idx, :num_verts, :num_verts].unsqueeze(0).to_sparse_coo(),\n",
    "        'gradY': torch.sparse_coo_tensor(\n",
    "            batch[name]['gradY_indices'],\n",
    "            batch[name]['gradY_values'],\n",
    "            batch[name]['gradY_size'],\n",
    "        ).to_dense()[idx, :num_verts, :num_verts].unsqueeze(0).to_sparse_coo(),\n",
    "    }"
   ]
  },
  {
   "cell_type": "markdown",
   "id": "40147b04",
   "metadata": {},
   "source": [
    "### HKS"
   ]
  },
  {
   "cell_type": "code",
   "execution_count": 13,
   "id": "84a38679",
   "metadata": {},
   "outputs": [
    {
     "data": {
      "text/plain": [
       "(torch.Size([200]), torch.Size([5001, 200]))"
      ]
     },
     "execution_count": 13,
     "metadata": {},
     "output_type": "execute_result"
    }
   ],
   "source": [
    "batch['first']['evals'][0].shape, batch['first']['evecs'][0].shape"
   ]
  },
  {
   "cell_type": "code",
   "execution_count": 14,
   "id": "d5cab418",
   "metadata": {},
   "outputs": [
    {
     "name": "stderr",
     "output_type": "stream",
     "text": [
      "100%|██████████| 10/10 [00:00<00:00, 11345.16it/s]\n"
     ]
    },
    {
     "data": {
      "text/plain": [
       "torch.Size([8, 5001, 16])"
      ]
     },
     "execution_count": 14,
     "metadata": {},
     "output_type": "execute_result"
    }
   ],
   "source": [
    "from src.utils.geometry import compute_hks_autoscale\n",
    "from tqdm import tqdm\n",
    "\n",
    "for _ in tqdm(range(10)):\n",
    "    hks_batch = compute_hks_autoscale(\n",
    "        batch['first']['evals'],\n",
    "        batch['first']['evecs'],\n",
    "    )\n",
    "\n",
    "hks_batch.shape"
   ]
  },
  {
   "cell_type": "code",
   "execution_count": 15,
   "id": "871981bc",
   "metadata": {},
   "outputs": [
    {
     "data": {
      "text/plain": [
       "tensor(0., device='cuda:0')"
      ]
     },
     "execution_count": 15,
     "metadata": {},
     "output_type": "execute_result"
    }
   ],
   "source": [
    "# signal on the padded points\n",
    "(hks_batch[0, batch['first']['num_verts'][0]:]).norm()"
   ]
  },
  {
   "cell_type": "code",
   "execution_count": 16,
   "id": "9e8cd73d",
   "metadata": {},
   "outputs": [
    {
     "name": "stdout",
     "output_type": "stream",
     "text": [
      "0 tensor(0., device='cuda:0')\n",
      "1 tensor(0., device='cuda:0')\n",
      "2 tensor(0., device='cuda:0')\n",
      "3 tensor(0., device='cuda:0')\n",
      "4 tensor(0., device='cuda:0')\n",
      "5 tensor(0., device='cuda:0')\n",
      "6 tensor(0., device='cuda:0')\n",
      "7 tensor(0., device='cuda:0')\n"
     ]
    }
   ],
   "source": [
    "# validate padded batch computation\n",
    "batch_size = len(batch['first']['evals'])\n",
    "\n",
    "for idx in range(batch_size):\n",
    "    num_verts = batch['first']['num_verts'][idx]\n",
    "    single = get_single(batch, idx, name='first')\n",
    "    hks = compute_hks_autoscale(\n",
    "        single['evals'],\n",
    "        single['evecs'],\n",
    "    )\n",
    "    print(idx, (hks_batch[idx][:num_verts] - hks[0]).norm())"
   ]
  },
  {
   "cell_type": "code",
   "execution_count": 17,
   "id": "bd999d7a",
   "metadata": {},
   "outputs": [
    {
     "data": {
      "text/plain": [
       "tensor(0., device='cuda:0')"
      ]
     },
     "execution_count": 17,
     "metadata": {},
     "output_type": "execute_result"
    }
   ],
   "source": [
    "# validate module\n",
    "from src.module.point_descriptor import HKS\n",
    "\n",
    "hks_mod = HKS()\n",
    "\n",
    "(hks_batch - hks_mod(\n",
    "    batch['first']['evals'],\n",
    "    batch['first']['evecs'],\n",
    ")).norm()"
   ]
  },
  {
   "cell_type": "code",
   "execution_count": 18,
   "id": "f382a8f1",
   "metadata": {},
   "outputs": [
    {
     "name": "stderr",
     "output_type": "stream",
     "text": [
      "100%|██████████| 10/10 [00:00<00:00, 25606.25it/s]\n"
     ]
    }
   ],
   "source": [
    "from tqdm import tqdm\n",
    "\n",
    "for _ in tqdm(range(10)):\n",
    "    hks_mod(\n",
    "        batch['first']['evals'],\n",
    "        batch['first']['evecs'],\n",
    "    )"
   ]
  },
  {
   "cell_type": "markdown",
   "id": "60a209a2",
   "metadata": {},
   "source": [
    "### WKS"
   ]
  },
  {
   "cell_type": "code",
   "execution_count": 19,
   "id": "6fb4869a",
   "metadata": {},
   "outputs": [
    {
     "name": "stderr",
     "output_type": "stream",
     "text": [
      "100%|██████████| 10/10 [00:00<00:00, 27.09it/s]\n"
     ]
    },
    {
     "data": {
      "text/plain": [
       "torch.Size([8, 5001, 128])"
      ]
     },
     "execution_count": 19,
     "metadata": {},
     "output_type": "execute_result"
    }
   ],
   "source": [
    "from src.utils.geometry import compute_wks_autoscale\n",
    "\n",
    "from tqdm import tqdm\n",
    "\n",
    "for _ in tqdm(range(10)):\n",
    "    wks_batch = compute_wks_autoscale(\n",
    "        batch['first']['evals'],\n",
    "        batch['first']['evecs'],\n",
    "        batch['first']['mass'],\n",
    "    )\n",
    "\n",
    "wks_batch.shape"
   ]
  },
  {
   "cell_type": "code",
   "execution_count": 20,
   "id": "21f3d64a",
   "metadata": {},
   "outputs": [
    {
     "data": {
      "text/plain": [
       "tensor(0., device='cuda:0')"
      ]
     },
     "execution_count": 20,
     "metadata": {},
     "output_type": "execute_result"
    }
   ],
   "source": [
    "# signal on the padded points\n",
    "(wks_batch[0, batch['first']['num_verts'][0]:]).norm()"
   ]
  },
  {
   "cell_type": "code",
   "execution_count": 21,
   "id": "12610a8a",
   "metadata": {},
   "outputs": [
    {
     "name": "stdout",
     "output_type": "stream",
     "text": [
      "0 tensor(0., device='cuda:0')\n",
      "1 tensor(0., device='cuda:0')\n",
      "2 tensor(0., device='cuda:0')\n",
      "3 tensor(0., device='cuda:0')\n",
      "4 tensor(0., device='cuda:0')\n",
      "5 tensor(0., device='cuda:0')\n",
      "6 tensor(0., device='cuda:0')\n",
      "7 tensor(0., device='cuda:0')\n"
     ]
    }
   ],
   "source": [
    "# validate padded batch computation\n",
    "batch_size = len(batch['first']['evals'])\n",
    "\n",
    "for idx in range(batch_size):\n",
    "    num_verts = batch['first']['num_verts'][idx]\n",
    "    single = get_single(batch, idx, name='first')\n",
    "    wks = compute_wks_autoscale(\n",
    "        single['evals'],\n",
    "        single['evecs'],\n",
    "        single['mass'],\n",
    "    )\n",
    "    print(idx, (wks_batch[idx][:num_verts] - wks[0]).norm())"
   ]
  },
  {
   "cell_type": "code",
   "execution_count": 22,
   "id": "0537695a",
   "metadata": {},
   "outputs": [
    {
     "data": {
      "text/plain": [
       "tensor(0., device='cuda:0')"
      ]
     },
     "execution_count": 22,
     "metadata": {},
     "output_type": "execute_result"
    }
   ],
   "source": [
    "# validate module\n",
    "from src.module.point_descriptor import WKS\n",
    "\n",
    "wks_mod = WKS()\n",
    "\n",
    "(wks_batch - wks_mod(\n",
    "    batch['first']['evals'],\n",
    "    batch['first']['evecs'],\n",
    "    batch['first']['mass'],\n",
    "    n_eig=128,\n",
    ")).norm()"
   ]
  },
  {
   "cell_type": "code",
   "execution_count": 23,
   "id": "6e8bcf92",
   "metadata": {},
   "outputs": [
    {
     "name": "stderr",
     "output_type": "stream",
     "text": [
      "100%|██████████| 10/10 [00:00<00:00, 105.74it/s]\n"
     ]
    }
   ],
   "source": [
    "from tqdm import tqdm\n",
    "\n",
    "for _ in tqdm(range(10)):\n",
    "    wks_mod(\n",
    "        batch['first']['evals'],\n",
    "        batch['first']['evecs'],\n",
    "        batch['first']['mass'],\n",
    "        n_eig=128,\n",
    "    )"
   ]
  },
  {
   "cell_type": "code",
   "execution_count": 24,
   "id": "108bb04a",
   "metadata": {},
   "outputs": [
    {
     "data": {
      "text/plain": [
       "tensor(0.0009, device='cuda:0')"
      ]
     },
     "execution_count": 24,
     "metadata": {},
     "output_type": "execute_result"
    }
   ],
   "source": [
    "# validate module\n",
    "from src.module.point_descriptor import WKS_vectorized\n",
    "\n",
    "wks_mod = WKS_vectorized()\n",
    "\n",
    "(wks_batch - wks_mod(\n",
    "    batch['first']['evals'],\n",
    "    batch['first']['evecs'],\n",
    "    batch['first']['mass'],\n",
    "    n_eig=128,\n",
    ")).norm()"
   ]
  },
  {
   "cell_type": "code",
   "execution_count": 25,
   "id": "3c7f90e3",
   "metadata": {},
   "outputs": [
    {
     "data": {
      "text/plain": [
       "tensor(0., device='cuda:0')"
      ]
     },
     "execution_count": 25,
     "metadata": {},
     "output_type": "execute_result"
    }
   ],
   "source": [
    "wks_batch_vec = wks_mod(\n",
    "    batch['first']['evals'],\n",
    "    batch['first']['evecs'],\n",
    "    batch['first']['mass'],\n",
    "    n_eig=128,\n",
    ")\n",
    "\n",
    "# signal on the padded points\n",
    "(wks_batch_vec[0, batch['first']['num_verts'][0]:]).norm()"
   ]
  },
  {
   "cell_type": "code",
   "execution_count": 26,
   "id": "fb737581",
   "metadata": {},
   "outputs": [
    {
     "name": "stderr",
     "output_type": "stream",
     "text": [
      "100%|██████████| 10/10 [00:00<00:00, 4503.71it/s]\n"
     ]
    }
   ],
   "source": [
    "from tqdm import tqdm\n",
    "\n",
    "for _ in tqdm(range(10)):\n",
    "    wks_mod(\n",
    "        batch['first']['evals'],\n",
    "        batch['first']['evecs'],\n",
    "        batch['first']['mass'],\n",
    "        n_eig=128,\n",
    "    )"
   ]
  },
  {
   "cell_type": "markdown",
   "id": "af86c718",
   "metadata": {},
   "source": [
    "### XYZ w/ random rotation"
   ]
  },
  {
   "cell_type": "code",
   "execution_count": 27,
   "id": "0dc67ece",
   "metadata": {},
   "outputs": [
    {
     "name": "stderr",
     "output_type": "stream",
     "text": [
      "100%|██████████| 10/10 [00:00<00:00, 75.02it/s]\n"
     ]
    },
    {
     "data": {
      "text/plain": [
       "torch.Size([8, 5001, 3])"
      ]
     },
     "execution_count": 27,
     "metadata": {},
     "output_type": "execute_result"
    }
   ],
   "source": [
    "from src.utils.geometry import data_augmentation\n",
    "from tqdm import tqdm\n",
    "\n",
    "for _ in tqdm(range(10)):\n",
    "    xyz_batch = data_augmentation(\n",
    "        batch['first']['verts'],\n",
    "    )\n",
    "\n",
    "xyz_batch.shape"
   ]
  },
  {
   "cell_type": "code",
   "execution_count": 28,
   "id": "fd535d6a",
   "metadata": {},
   "outputs": [
    {
     "data": {
      "text/plain": [
       "tensor(0., device='cuda:0')"
      ]
     },
     "execution_count": 28,
     "metadata": {},
     "output_type": "execute_result"
    }
   ],
   "source": [
    "# signal on the padded points\n",
    "(xyz_batch[0, batch['first']['num_verts'][0]:]).norm()"
   ]
  },
  {
   "cell_type": "code",
   "execution_count": 29,
   "id": "81a84e63",
   "metadata": {},
   "outputs": [
    {
     "name": "stderr",
     "output_type": "stream",
     "text": [
      "100%|██████████| 10/10 [00:00<00:00, 2212.42it/s]\n"
     ]
    }
   ],
   "source": [
    "from src.module.point_descriptor import XYZ\n",
    "from tqdm import tqdm\n",
    "\n",
    "xyz_mod = XYZ()\n",
    "\n",
    "for _ in tqdm(range(10)):\n",
    "    xyz_mod(\n",
    "        batch['first']['verts'],\n",
    "        batch['first']['verts_mask'],\n",
    "    )"
   ]
  },
  {
   "cell_type": "code",
   "execution_count": 30,
   "id": "2ffb01ac",
   "metadata": {},
   "outputs": [
    {
     "name": "stderr",
     "output_type": "stream",
     "text": [
      "100%|██████████| 10/10 [00:00<00:00, 3344.47it/s]\n"
     ]
    },
    {
     "data": {
      "text/plain": [
       "torch.Size([8, 5001, 3])"
      ]
     },
     "execution_count": 30,
     "metadata": {},
     "output_type": "execute_result"
    }
   ],
   "source": [
    "from src.module.point_descriptor import XYZ_vectorized\n",
    "from tqdm import tqdm\n",
    "\n",
    "xyz_mod = XYZ_vectorized()\n",
    "\n",
    "for _ in tqdm(range(10)):\n",
    "    xyz_batch_vec = xyz_mod(\n",
    "        batch['first']['verts'],\n",
    "        batch['first']['verts_mask'],\n",
    "    )\n",
    "\n",
    "xyz_batch_vec.shape"
   ]
  },
  {
   "cell_type": "code",
   "execution_count": 31,
   "id": "b07722a8",
   "metadata": {},
   "outputs": [
    {
     "data": {
      "text/plain": [
       "tensor(0., device='cuda:0')"
      ]
     },
     "execution_count": 31,
     "metadata": {},
     "output_type": "execute_result"
    }
   ],
   "source": [
    "# signal on the padded points\n",
    "(xyz_batch_vec[0, batch['first']['num_verts'][0]:]).norm()"
   ]
  },
  {
   "cell_type": "markdown",
   "id": "ffa31e73",
   "metadata": {},
   "source": [
    "## Backbone"
   ]
  },
  {
   "cell_type": "markdown",
   "id": "49fefa01",
   "metadata": {},
   "source": [
    "### DiffusionNet"
   ]
  },
  {
   "cell_type": "code",
   "execution_count": 32,
   "id": "ac11e207",
   "metadata": {},
   "outputs": [
    {
     "name": "stderr",
     "output_type": "stream",
     "text": [
      "100%|██████████| 10/10 [00:00<00:00, 25.14it/s]\n"
     ]
    },
    {
     "data": {
      "text/plain": [
       "torch.Size([8, 5001, 128])"
      ]
     },
     "execution_count": 32,
     "metadata": {},
     "output_type": "execute_result"
    }
   ],
   "source": [
    "from src.module.diffusionnet_vanilla import DiffusionNet_vanilla\n",
    "\n",
    "feat_mod = DiffusionNet_vanilla(\n",
    "    C_in=128,  # input channels\n",
    "    C_out=128,  # output channels\n",
    ")\n",
    "feat_mod.to(device=device)\n",
    "feat_mod.eval()\n",
    "\n",
    "for _ in tqdm(range(10)):\n",
    "    feat_batch = feat_mod(\n",
    "        x_in=wks_batch,\n",
    "        mass=batch['first']['mass'],\n",
    "        evals=batch['first']['evals'],\n",
    "        evecs=batch['first']['evecs'],\n",
    "        gradX=torch.sparse_coo_tensor(\n",
    "            batch['first']['gradX_indices'],\n",
    "            batch['first']['gradX_values'],\n",
    "            batch['first']['gradX_size'],\n",
    "        ),\n",
    "        gradY=torch.sparse_coo_tensor(\n",
    "            batch['first']['gradY_indices'],\n",
    "            batch['first']['gradY_values'],\n",
    "            batch['first']['gradY_size'],\n",
    "        ),\n",
    "    )\n",
    "\n",
    "feat_batch.shape"
   ]
  },
  {
   "cell_type": "code",
   "execution_count": 33,
   "id": "98348b1a",
   "metadata": {},
   "outputs": [
    {
     "data": {
      "text/plain": [
       "tensor(0., device='cuda:0', grad_fn=<NormBackward1>)"
      ]
     },
     "execution_count": 33,
     "metadata": {},
     "output_type": "execute_result"
    }
   ],
   "source": [
    "# signal on the padded points\n",
    "(feat_batch[0, batch['first']['num_verts'][0]:]).norm()"
   ]
  },
  {
   "cell_type": "code",
   "execution_count": 34,
   "id": "34a4e3a0",
   "metadata": {},
   "outputs": [
    {
     "name": "stdout",
     "output_type": "stream",
     "text": [
      "0 tensor(0.0012, device='cuda:0', grad_fn=<NormBackward1>)\n",
      "1 tensor(0.0012, device='cuda:0', grad_fn=<NormBackward1>)\n",
      "2 tensor(0.0014, device='cuda:0', grad_fn=<NormBackward1>)\n",
      "3 tensor(0.0012, device='cuda:0', grad_fn=<NormBackward1>)\n",
      "4 tensor(0.0013, device='cuda:0', grad_fn=<NormBackward1>)\n",
      "5 tensor(0.0012, device='cuda:0', grad_fn=<NormBackward1>)\n",
      "6 tensor(0.0012, device='cuda:0', grad_fn=<NormBackward1>)\n",
      "7 tensor(0.0012, device='cuda:0', grad_fn=<NormBackward1>)\n"
     ]
    }
   ],
   "source": [
    "# validate padded batch computation\n",
    "batch_size = len(batch['first']['evals'])\n",
    "\n",
    "for idx in range(batch_size):\n",
    "    num_verts = batch['first']['num_verts'][idx]\n",
    "    single = get_single(batch, idx, name='first')\n",
    "\n",
    "    wks = compute_wks_autoscale(\n",
    "        single['evals'],\n",
    "        single['evecs'],\n",
    "        single['mass'],\n",
    "    )\n",
    "\n",
    "    feat = feat_mod(\n",
    "        x_in=wks,\n",
    "        mass=single['mass'],\n",
    "        evals=single['evals'],\n",
    "        evecs=single['evecs'],\n",
    "        gradX=single['gradX'],\n",
    "        gradY=single['gradY'],\n",
    "    )\n",
    "    print(idx, (feat_batch[idx][:num_verts] - feat[0]).norm())"
   ]
  },
  {
   "cell_type": "code",
   "execution_count": 35,
   "id": "f1f81b13",
   "metadata": {},
   "outputs": [
    {
     "name": "stderr",
     "output_type": "stream",
     "text": [
      "100%|██████████| 10/10 [00:00<00:00, 51.26it/s]\n"
     ]
    },
    {
     "data": {
      "text/plain": [
       "tensor(0., device='cuda:0', grad_fn=<NormBackward1>)"
      ]
     },
     "execution_count": 35,
     "metadata": {},
     "output_type": "execute_result"
    }
   ],
   "source": [
    "# validate vectorized module\n",
    "from src.module.diffusionnet_vectorized import DiffusionNet_vectorized\n",
    "\n",
    "feat_mod_vec = DiffusionNet_vectorized(\n",
    "    C_in=128,  # input channels\n",
    "    C_out=128,  # output channels\n",
    ")\n",
    "feat_mod_vec.load_state_dict(\n",
    "    feat_mod.state_dict()\n",
    ")\n",
    "feat_mod_vec.to(device=device)\n",
    "feat_mod_vec.eval()\n",
    "\n",
    "for _ in tqdm(range(10)):\n",
    "    feat_batch_vec = feat_mod_vec(\n",
    "        x_in=wks_batch,\n",
    "        mass=batch['first']['mass'],\n",
    "        evals=batch['first']['evals'],\n",
    "        evecs=batch['first']['evecs'],\n",
    "        gradX=torch.sparse_coo_tensor(\n",
    "            batch['first']['gradX_indices'],\n",
    "            batch['first']['gradX_values'],\n",
    "            batch['first']['gradX_size'],\n",
    "        ),\n",
    "        gradY=torch.sparse_coo_tensor(\n",
    "            batch['first']['gradY_indices'],\n",
    "            batch['first']['gradY_values'],\n",
    "            batch['first']['gradY_size'],\n",
    "        ),\n",
    "    )\n",
    "\n",
    "(feat_batch_vec - feat_batch).norm()"
   ]
  },
  {
   "cell_type": "markdown",
   "id": "5441bbea",
   "metadata": {},
   "source": [
    "### Permutation"
   ]
  },
  {
   "cell_type": "code",
   "execution_count": 36,
   "id": "dfcc9ffc",
   "metadata": {},
   "outputs": [
    {
     "name": "stderr",
     "output_type": "stream",
     "text": [
      "100%|██████████| 10/10 [00:00<00:00, 13144.17it/s]\n"
     ]
    },
    {
     "data": {
      "text/plain": [
       "torch.Size([8, 5001, 128])"
      ]
     },
     "execution_count": 36,
     "metadata": {},
     "output_type": "execute_result"
    }
   ],
   "source": [
    "from src.module.permutation import Similarity\n",
    "\n",
    "permute_mod = Similarity()\n",
    "\n",
    "for _ in tqdm(range(10)):\n",
    "    permute_batch = permute_mod(feat_batch_vec)\n",
    "\n",
    "permute_batch.shape"
   ]
  },
  {
   "cell_type": "code",
   "execution_count": 37,
   "id": "010ba3b9",
   "metadata": {},
   "outputs": [
    {
     "data": {
      "text/plain": [
       "tensor(0., device='cuda:0', grad_fn=<NormBackward1>)"
      ]
     },
     "execution_count": 37,
     "metadata": {},
     "output_type": "execute_result"
    }
   ],
   "source": [
    "# signal on the padded points\n",
    "(permute_batch[0, batch['first']['num_verts'][0]:]).norm()"
   ]
  },
  {
   "cell_type": "code",
   "execution_count": 38,
   "id": "e23503c7",
   "metadata": {},
   "outputs": [
    {
     "name": "stdout",
     "output_type": "stream",
     "text": [
      "0 tensor(0.0002, device='cuda:0', grad_fn=<NormBackward1>)\n",
      "1 tensor(0.0002, device='cuda:0', grad_fn=<NormBackward1>)\n",
      "2 tensor(0.0002, device='cuda:0', grad_fn=<NormBackward1>)\n",
      "3 tensor(0.0001, device='cuda:0', grad_fn=<NormBackward1>)\n",
      "4 tensor(0.0002, device='cuda:0', grad_fn=<NormBackward1>)\n",
      "5 tensor(0.0002, device='cuda:0', grad_fn=<NormBackward1>)\n",
      "6 tensor(0.0002, device='cuda:0', grad_fn=<NormBackward1>)\n",
      "7 tensor(0.0002, device='cuda:0', grad_fn=<NormBackward1>)\n"
     ]
    }
   ],
   "source": [
    "# validate padded batch computation\n",
    "batch_size = len(batch['first']['evals'])\n",
    "\n",
    "for idx in range(batch_size):\n",
    "    num_verts = batch['first']['num_verts'][idx]\n",
    "    single = get_single(batch, idx, name='first')\n",
    "\n",
    "    wks = compute_wks_autoscale(\n",
    "        single['evals'],\n",
    "        single['evecs'],\n",
    "        single['mass'],\n",
    "    )\n",
    "\n",
    "    feat = feat_mod(\n",
    "        x_in=wks,\n",
    "        mass=single['mass'],\n",
    "        evals=single['evals'],\n",
    "        evecs=single['evecs'],\n",
    "        gradX=single['gradX'],\n",
    "        gradY=single['gradY'],\n",
    "    )\n",
    "\n",
    "    permute = permute_mod(feat)\n",
    "\n",
    "    print(idx, (permute_batch[idx][:num_verts] - permute[0]).norm())"
   ]
  },
  {
   "cell_type": "markdown",
   "id": "61f4ad01",
   "metadata": {},
   "source": [
    "### Regularized FMaps"
   ]
  },
  {
   "cell_type": "code",
   "execution_count": 39,
   "id": "a1b283ac",
   "metadata": {},
   "outputs": [
    {
     "name": "stderr",
     "output_type": "stream",
     "text": [
      "  0%|          | 0/10 [00:00<?, ?it/s]"
     ]
    },
    {
     "name": "stderr",
     "output_type": "stream",
     "text": [
      "100%|██████████| 10/10 [00:04<00:00,  2.10it/s]\n"
     ]
    },
    {
     "data": {
      "text/plain": [
       "torch.Size([8, 200, 200])"
      ]
     },
     "execution_count": 39,
     "metadata": {},
     "output_type": "execute_result"
    }
   ],
   "source": [
    "from src.module.fmap import RegularizedFMNet\n",
    "\n",
    "fmap_mod = RegularizedFMNet()\n",
    "\n",
    "wks_batch_vec2 = wks_mod(\n",
    "    batch['second']['evals'],\n",
    "    batch['second']['evecs'],\n",
    "    batch['second']['mass'],\n",
    "    n_eig=128,\n",
    ")\n",
    "\n",
    "feat_batch_vec2 = feat_mod_vec(\n",
    "    x_in=wks_batch_vec2,\n",
    "    mass=batch['second']['mass'],\n",
    "    evals=batch['second']['evals'],\n",
    "    evecs=batch['second']['evecs'],\n",
    "    gradX=torch.sparse_coo_tensor(\n",
    "        batch['second']['gradX_indices'],\n",
    "        batch['second']['gradX_values'],\n",
    "        batch['second']['gradX_size'],\n",
    "    ),\n",
    "    gradY=torch.sparse_coo_tensor(\n",
    "        batch['second']['gradY_indices'],\n",
    "        batch['second']['gradY_values'],\n",
    "        batch['second']['gradY_size'],\n",
    "    ),\n",
    ")\n",
    "\n",
    "for _ in tqdm(range(10)):\n",
    "    fmap_batch = fmap_mod(\n",
    "        feat_x=feat_batch_vec,\n",
    "        feat_y=feat_batch_vec2,\n",
    "        evals_x=batch['first']['evals'],\n",
    "        evals_y=batch['second']['evals'],\n",
    "        evecs_trans_x=batch['first']['evecs_trans'],\n",
    "        evecs_trans_y=batch['second']['evecs_trans'],\n",
    "    )[0]\n",
    "\n",
    "fmap_batch.shape"
   ]
  },
  {
   "cell_type": "code",
   "execution_count": 40,
   "id": "a05ec6f8",
   "metadata": {},
   "outputs": [
    {
     "name": "stdout",
     "output_type": "stream",
     "text": [
      "0 tensor(5.0142e-05, device='cuda:0', grad_fn=<NormBackward1>)\n",
      "1 tensor(7.9880e-05, device='cuda:0', grad_fn=<NormBackward1>)\n"
     ]
    },
    {
     "name": "stdout",
     "output_type": "stream",
     "text": [
      "2 tensor(4.4248e-05, device='cuda:0', grad_fn=<NormBackward1>)\n",
      "3 tensor(5.6922e-05, device='cuda:0', grad_fn=<NormBackward1>)\n",
      "4 tensor(4.7105e-05, device='cuda:0', grad_fn=<NormBackward1>)\n",
      "5 tensor(5.1749e-05, device='cuda:0', grad_fn=<NormBackward1>)\n",
      "6 tensor(4.9262e-05, device='cuda:0', grad_fn=<NormBackward1>)\n",
      "7 tensor(4.2394e-05, device='cuda:0', grad_fn=<NormBackward1>)\n"
     ]
    }
   ],
   "source": [
    "# validate padded batch computation\n",
    "batch_size = len(batch['first']['evals'])\n",
    "\n",
    "for idx in range(batch_size):\n",
    "    single = get_single(batch, idx, name='first')\n",
    "\n",
    "    wks = compute_wks_autoscale(\n",
    "        single['evals'],\n",
    "        single['evecs'],\n",
    "        single['mass'],\n",
    "    )\n",
    "\n",
    "    feat = feat_mod(\n",
    "        x_in=wks,\n",
    "        mass=single['mass'],\n",
    "        evals=single['evals'],\n",
    "        evecs=single['evecs'],\n",
    "        gradX=single['gradX'],\n",
    "        gradY=single['gradY'],\n",
    "    )\n",
    "\n",
    "    single2 = get_single(batch, idx, name='second')\n",
    "\n",
    "    wks2 = compute_wks_autoscale(\n",
    "        single2['evals'],\n",
    "        single2['evecs'],\n",
    "        single2['mass'],\n",
    "    )\n",
    "\n",
    "    feat2 = feat_mod(\n",
    "        x_in=wks2,\n",
    "        mass=single2['mass'],\n",
    "        evals=single2['evals'],\n",
    "        evecs=single2['evecs'],\n",
    "        gradX=single2['gradX'],\n",
    "        gradY=single2['gradY'],\n",
    "    )\n",
    "\n",
    "    fmap = fmap_mod(\n",
    "        feat_x=feat,\n",
    "        feat_y=feat2,\n",
    "        evals_x=single['evals'],\n",
    "        evals_y=single2['evals'],\n",
    "        evecs_trans_x=single['evecs_trans'],\n",
    "        evecs_trans_y=single2['evecs_trans'],\n",
    "    )[0]\n",
    "\n",
    "    print(idx, (fmap_batch[idx] - fmap[0]).norm())"
   ]
  },
  {
   "cell_type": "code",
   "execution_count": null,
   "id": "430aa24c",
   "metadata": {},
   "outputs": [],
   "source": []
  }
 ],
 "metadata": {
  "kernelspec": {
   "display_name": "dongliang-cao-2023-cvpr",
   "language": "python",
   "name": "python3"
  },
  "language_info": {
   "codemirror_mode": {
    "name": "ipython",
    "version": 3
   },
   "file_extension": ".py",
   "mimetype": "text/x-python",
   "name": "python",
   "nbconvert_exporter": "python",
   "pygments_lexer": "ipython3",
   "version": "3.8.20"
  }
 },
 "nbformat": 4,
 "nbformat_minor": 5
}
