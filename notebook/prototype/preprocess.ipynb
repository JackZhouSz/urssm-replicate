{
 "cells": [
  {
   "cell_type": "code",
   "execution_count": 28,
   "id": "07a3dfc0",
   "metadata": {},
   "outputs": [],
   "source": [
    "%reload_ext autoreload\n",
    "%autoreload 2"
   ]
  },
  {
   "cell_type": "code",
   "execution_count": 29,
   "id": "0c843ec5",
   "metadata": {},
   "outputs": [],
   "source": [
    "import sys\n",
    "sys.path.append('../..')"
   ]
  },
  {
   "cell_type": "code",
   "execution_count": 30,
   "id": "cdfdf770",
   "metadata": {},
   "outputs": [],
   "source": [
    "import torch\n",
    "device = 'cuda' if torch.cuda.is_available() else 'cpu'"
   ]
  },
  {
   "cell_type": "code",
   "execution_count": 31,
   "id": "5dfbe731",
   "metadata": {},
   "outputs": [],
   "source": [
    "import os\n",
    "from pathlib import Path\n",
    "\n",
    "data_root = Path('../../data_/FAUST_r')\n",
    "n_eig = 200\n",
    "no_eig = False\n",
    "no_dist = False\n",
    "no_normalize = True\n",
    "\n",
    "assert n_eig > 0, f'invalid n_eig: {n_eig}'\n",
    "assert os.path.isdir(data_root), f'invalid data root: {data_root}'"
   ]
  },
  {
   "cell_type": "markdown",
   "id": "a4ed74aa",
   "metadata": {},
   "source": [
    "## Folder structure"
   ]
  },
  {
   "cell_type": "code",
   "execution_count": 32,
   "id": "43ea1d2b",
   "metadata": {},
   "outputs": [],
   "source": [
    "if not no_eig:\n",
    "    npz_dir = data_root / 'npz'\n",
    "    os.makedirs(npz_dir, exist_ok=True)\n",
    "\n",
    "if not no_dist:\n",
    "    dist_dir = data_root / 'dist'\n",
    "    os.makedirs(dist_dir, exist_ok=True)"
   ]
  },
  {
   "cell_type": "code",
   "execution_count": 33,
   "id": "45d5fa41",
   "metadata": {},
   "outputs": [
    {
     "data": {
      "text/plain": [
       "'../../data_/FAUST_r/off/tr_reg_000.off'"
      ]
     },
     "execution_count": 33,
     "metadata": {},
     "output_type": "execute_result"
    }
   ],
   "source": [
    "from glob import glob\n",
    "\n",
    "off_files = sorted(glob(str(data_root / 'off' / '*.off')))\n",
    "assert len(off_files) != 0\n",
    "\n",
    "off_file = off_files[0]\n",
    "off_file"
   ]
  },
  {
   "cell_type": "code",
   "execution_count": 55,
   "id": "6930ba23",
   "metadata": {},
   "outputs": [
    {
     "data": {
      "text/plain": [
       "'143.79 read/s'"
      ]
     },
     "execution_count": 55,
     "metadata": {},
     "output_type": "execute_result"
    }
   ],
   "source": [
    "import numpy as np\n",
    "import open3d as o3d\n",
    "import time\n",
    "start_time = time.time()\n",
    "\n",
    "for _ in range(100):\n",
    "    mesh = o3d.io.read_triangle_mesh(off_file)\n",
    "    verts, faces = np.asarray(mesh.vertices), np.asarray(mesh.triangles)\n",
    "end_time = time.time()\n",
    "f'{100 / (end_time - start_time):.2f} read/s'"
   ]
  },
  {
   "cell_type": "code",
   "execution_count": 35,
   "id": "d2361e48",
   "metadata": {},
   "outputs": [
    {
     "data": {
      "text/plain": [
       "((4999, 3), (9994, 3))"
      ]
     },
     "execution_count": 35,
     "metadata": {},
     "output_type": "execute_result"
    }
   ],
   "source": [
    "verts.shape, faces.shape"
   ]
  },
  {
   "cell_type": "markdown",
   "id": "658426bd",
   "metadata": {},
   "source": [
    "## LBO"
   ]
  },
  {
   "cell_type": "code",
   "execution_count": 36,
   "id": "e2236d3d",
   "metadata": {},
   "outputs": [],
   "source": [
    "import torch\n",
    "from src.utils.geometry import compute_operators\n",
    "\n",
    "frames, mass_vec, L, evals, evecs, gradX, gradY = compute_operators(\n",
    "    torch.from_numpy(verts).float(),\n",
    "    torch.from_numpy(faces).long(),\n",
    "    k=n_eig,\n",
    ")"
   ]
  },
  {
   "cell_type": "code",
   "execution_count": 37,
   "id": "0aacfd42",
   "metadata": {},
   "outputs": [
    {
     "data": {
      "image/png": "[encoded data removed]",
      "text/plain": [
       "<Figure size 640x480 with 1 Axes>"
      ]
     },
     "metadata": {},
     "output_type": "display_data"
    }
   ],
   "source": [
    "import matplotlib.pyplot as plt\n",
    "plt.imshow(evecs.T @ torch.diag(mass_vec) @ evecs)\n",
    "plt.show()"
   ]
  },
  {
   "cell_type": "code",
   "execution_count": 38,
   "id": "9bf21842",
   "metadata": {},
   "outputs": [],
   "source": [
    "from src.utils.geometry import torch2np, sparse_torch_to_np\n",
    "\n",
    "frames_np = torch2np(frames).astype(np.float32)\n",
    "mass_np = torch2np(mass_vec).astype(np.float32)\n",
    "evals_np = torch2np(evals).astype(np.float32)\n",
    "evecs_np = torch2np(evecs).astype(np.float32)\n",
    "L_np = sparse_torch_to_np(L).astype(np.float32)\n",
    "gradX_np = sparse_torch_to_np(gradX).astype(np.float32)\n",
    "gradY_np = sparse_torch_to_np(gradY).astype(np.float32)\n",
    "\n",
    "np.savez(\n",
    "    npz_dir / f'{Path(off_file).stem}.npz',\n",
    "    verts=verts,\n",
    "    faces=faces,\n",
    "    k_eig=n_eig,\n",
    "    frames=frames_np,\n",
    "    mass=mass_np,\n",
    "    evals=evals_np,\n",
    "    evecs=evecs_np,\n",
    "    L_data=L_np.data,\n",
    "    L_indices=L_np.indices,\n",
    "    L_indptr=L_np.indptr,\n",
    "    L_shape=L_np.shape,\n",
    "    gradX_data=gradX_np.data,\n",
    "    gradX_indices=gradX_np.indices,\n",
    "    gradX_indptr=gradX_np.indptr,\n",
    "    gradX_shape=gradX_np.shape,\n",
    "    gradY_data=gradY_np.data,\n",
    "    gradY_indices=gradY_np.indices,\n",
    "    gradY_indptr=gradY_np.indptr,\n",
    "    gradY_shape=gradY_np.shape,\n",
    ")"
   ]
  },
  {
   "cell_type": "code",
   "execution_count": 39,
   "id": "d9904bff",
   "metadata": {},
   "outputs": [
    {
     "data": {
      "text/plain": [
       "'15100.46 read/s'"
      ]
     },
     "execution_count": 39,
     "metadata": {},
     "output_type": "execute_result"
    }
   ],
   "source": [
    "import time\n",
    "start_time = time.time()\n",
    "\n",
    "for _ in range(100):\n",
    "    np.load(\n",
    "        npz_dir / f'{Path(off_file).stem}.npz'\n",
    "    )\n",
    "\n",
    "end_time = time.time()\n",
    "f'{100 / (end_time - start_time):.2f} read/s'"
   ]
  },
  {
   "cell_type": "markdown",
   "id": "8c1e9fd2",
   "metadata": {},
   "source": [
    "## Geodist"
   ]
  },
  {
   "cell_type": "code",
   "execution_count": 40,
   "id": "a5deb8d0",
   "metadata": {},
   "outputs": [],
   "source": [
    "import scipy.io as sio\n",
    "from src.utils.shape import compute_geodesic_distmat\n",
    "\n",
    "dist_mat = compute_geodesic_distmat(verts, faces)"
   ]
  },
  {
   "cell_type": "code",
   "execution_count": null,
   "id": "2d9fc2f1",
   "metadata": {},
   "outputs": [
    {
     "data": {
      "text/plain": [
       "array([4414, 1129, 1929, ..., 3617,  173, 2482], dtype=int32)"
      ]
     },
     "execution_count": 46,
     "metadata": {},
     "output_type": "execute_result"
    }
   ],
   "source": [
    "import time\n",
    "start_time = time.time()\n",
    "\n",
    "for _ in range(100):\n",
    "    corr = np.loadtxt(\n",
    "        data_root / 'corres' / f'{Path(off_file).stem}.vts',\n",
    "        dtype=np.int32,\n",
    "    ) - 1  # minus 1 to start from 0\n",
    "\n",
    "end_time = time.time()\n",
    "f'{100 / (end_time - start_time):.2f} read/s'"
   ]
  },
  {
   "cell_type": "code",
   "execution_count": 47,
   "id": "6bfcd22b",
   "metadata": {},
   "outputs": [],
   "source": [
    "np.savez(\n",
    "    dist_dir / f'{Path(off_file).stem}.npz',\n",
    "    dist_mat=dist_mat,\n",
    "    corr=corr,\n",
    ")"
   ]
  },
  {
   "cell_type": "code",
   "execution_count": 49,
   "id": "a8be2257",
   "metadata": {},
   "outputs": [
    {
     "data": {
      "text/plain": [
       "'34258.79 read/s'"
      ]
     },
     "execution_count": 49,
     "metadata": {},
     "output_type": "execute_result"
    }
   ],
   "source": [
    "import time\n",
    "start_time = time.time()\n",
    "\n",
    "for _ in range(100):\n",
    "    np.load(\n",
    "        dist_dir / f'{Path(off_file).stem}.npz'\n",
    "    )\n",
    "    \n",
    "end_time = time.time()\n",
    "f'{100 / (end_time - start_time):.2f} read/s'"
   ]
  },
  {
   "cell_type": "code",
   "execution_count": 53,
   "id": "3773b92e",
   "metadata": {},
   "outputs": [
    {
     "data": {
      "text/plain": [
       "'15.26 read/s'"
      ]
     },
     "execution_count": 53,
     "metadata": {},
     "output_type": "execute_result"
    }
   ],
   "source": [
    "import time\n",
    "start_time = time.time()\n",
    "\n",
    "for _ in range(100):\n",
    "    mat = sio.loadmat('../../data/FAUST_r/dist/tr_reg_000.mat')\n",
    "\n",
    "end_time = time.time()\n",
    "f'{100 / (end_time - start_time):.2f} read/s'"
   ]
  },
  {
   "cell_type": "code",
   "execution_count": null,
   "id": "53ab5529",
   "metadata": {},
   "outputs": [],
   "source": []
  }
 ],
 "metadata": {
  "kernelspec": {
   "display_name": "dongliang-cao-2023-cvpr",
   "language": "python",
   "name": "python3"
  },
  "language_info": {
   "codemirror_mode": {
    "name": "ipython",
    "version": 3
   },
   "file_extension": ".py",
   "mimetype": "text/x-python",
   "name": "python",
   "nbconvert_exporter": "python",
   "pygments_lexer": "ipython3",
   "version": "3.8.20"
  }
 },
 "nbformat": 4,
 "nbformat_minor": 5
}
