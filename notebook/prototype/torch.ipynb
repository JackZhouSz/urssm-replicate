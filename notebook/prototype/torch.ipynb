{
 "cells": [
  {
   "cell_type": "code",
   "execution_count": 1,
   "id": "6a1b804b",
   "metadata": {},
   "outputs": [],
   "source": [
    "import torch"
   ]
  },
  {
   "cell_type": "code",
   "execution_count": 11,
   "id": "5ace31b7",
   "metadata": {},
   "outputs": [],
   "source": [
    "b = 10\n",
    "d = 100\n",
    "k = 200\n",
    "\n",
    "# A (k x k) @ c (k x 1) = B (k x 1)\n",
    "A = torch.randn(b, k, k, device='cuda')\n",
    "B = torch.randn(b, k, 1, device='cuda')"
   ]
  },
  {
   "cell_type": "code",
   "execution_count": 12,
   "id": "1fdb8aec",
   "metadata": {},
   "outputs": [
    {
     "data": {
      "text/plain": [
       "torch.Size([10, 200, 1])"
      ]
     },
     "execution_count": 12,
     "metadata": {},
     "output_type": "execute_result"
    }
   ],
   "source": [
    "c = torch.linalg.solve(A, B)\n",
    "c.shape"
   ]
  },
  {
   "cell_type": "code",
   "execution_count": 16,
   "id": "9afcf283",
   "metadata": {},
   "outputs": [
    {
     "data": {
      "text/plain": [
       "tensor(0.0022, device='cuda:0')"
      ]
     },
     "execution_count": 16,
     "metadata": {},
     "output_type": "execute_result"
    }
   ],
   "source": [
    "(A @ c - B).norm()"
   ]
  },
  {
   "cell_type": "code",
   "execution_count": 2,
   "id": "e93c72b1",
   "metadata": {},
   "outputs": [
    {
     "data": {
      "text/plain": [
       "<numpy.lib.npyio.NpzFile at 0x7b37201b8040>"
      ]
     },
     "execution_count": 2,
     "metadata": {},
     "output_type": "execute_result"
    }
   ],
   "source": [
    "import numpy as np\n",
    "\n",
    "npzfile = np.load('../data/FAUST_r/diffusion/79ca7ba27061970177ecfa64dcf7a89319f24e86_0.npz', allow_pickle=True)\n",
    "npzfile"
   ]
  },
  {
   "cell_type": "code",
   "execution_count": 6,
   "id": "6bbbc52e",
   "metadata": {},
   "outputs": [
    {
     "data": {
      "text/plain": [
       "((5000, 3), (9996, 3))"
      ]
     },
     "execution_count": 6,
     "metadata": {},
     "output_type": "execute_result"
    }
   ],
   "source": [
    "npzfile['verts'].shape, npzfile['faces'].shape"
   ]
  },
  {
   "cell_type": "code",
   "execution_count": null,
   "id": "62184df1",
   "metadata": {},
   "outputs": [],
   "source": []
  }
 ],
 "metadata": {
  "kernelspec": {
   "display_name": "dongliang-cao-2023-cvpr",
   "language": "python",
   "name": "python3"
  },
  "language_info": {
   "codemirror_mode": {
    "name": "ipython",
    "version": 3
   },
   "file_extension": ".py",
   "mimetype": "text/x-python",
   "name": "python",
   "nbconvert_exporter": "python",
   "pygments_lexer": "ipython3",
   "version": "3.8.20"
  }
 },
 "nbformat": 4,
 "nbformat_minor": 5
}
