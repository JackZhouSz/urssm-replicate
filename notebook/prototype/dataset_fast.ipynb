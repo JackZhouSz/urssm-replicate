{
 "cells": [
  {
   "cell_type": "code",
   "execution_count": 1,
   "id": "0714f59c",
   "metadata": {},
   "outputs": [],
   "source": [
    "%reload_ext autoreload\n",
    "%autoreload 2"
   ]
  },
  {
   "cell_type": "code",
   "execution_count": 2,
   "id": "717427ea",
   "metadata": {},
   "outputs": [],
   "source": [
    "import sys\n",
    "sys.path.append('../..')"
   ]
  },
  {
   "cell_type": "code",
   "execution_count": 3,
   "id": "fa0420a6",
   "metadata": {},
   "outputs": [],
   "source": [
    "import torch\n",
    "device = 'cuda' if torch.cuda.is_available() else 'cpu'"
   ]
  },
  {
   "cell_type": "markdown",
   "id": "a644ef9f",
   "metadata": {},
   "source": [
    "## Original dataset"
   ]
  },
  {
   "cell_type": "code",
   "execution_count": null,
   "id": "0b3db828",
   "metadata": {},
   "outputs": [],
   "source": [
    "# from src.dataset.shape_cor import PairFaustDataset\n",
    "\n",
    "# dataset = PairFaustDataset(\n",
    "#     phase='train',\n",
    "#     data_root='../../data/FAUST_r/',\n",
    "#     return_evecs='true',\n",
    "#     return_faces='true',\n",
    "#     num_evecs=200,\n",
    "#     return_corr='false',\n",
    "#     return_dist='false',\n",
    "# )"
   ]
  },
  {
   "cell_type": "code",
   "execution_count": null,
   "id": "176e1c92",
   "metadata": {},
   "outputs": [
    {
     "name": "stdout",
     "output_type": "stream",
     "text": [
      "total: 2.158205032348633 sample/s | eta: 23.020853678385414 min\n"
     ]
    }
   ],
   "source": [
    "# import time\n",
    "# start_time = time.time()\n",
    "\n",
    "# for idx, data in enumerate(dataset):\n",
    "#     if idx >= 10:\n",
    "#         break\n",
    "\n",
    "# end_time = time.time()\n",
    "# sample_per_sec = 10 / (end_time - start_time)\n",
    "# eta = len(dataset) / sample_per_sec / 60\n",
    "# print(f\"total: {10 / (sample_per_sec)} sample/s | eta: {eta} min\")"
   ]
  },
  {
   "cell_type": "markdown",
   "id": "1b1d0a5a",
   "metadata": {},
   "source": [
    "## Fast dataset"
   ]
  },
  {
   "cell_type": "code",
   "execution_count": 8,
   "id": "3af0418d",
   "metadata": {},
   "outputs": [
    {
     "data": {
      "text/plain": [
       "6400"
      ]
     },
     "execution_count": 8,
     "metadata": {},
     "output_type": "execute_result"
    }
   ],
   "source": [
    "from src.dataset.shape_cor_fast import PairFaustDatasetFast\n",
    "\n",
    "dataset = PairFaustDatasetFast(\n",
    "    data_root='../../data_/FAUST_r',\n",
    "    phase='train',\n",
    ")\n",
    "len(dataset)"
   ]
  },
  {
   "cell_type": "code",
   "execution_count": 9,
   "id": "a70df6e2",
   "metadata": {},
   "outputs": [
    {
     "data": {
      "application/vnd.jupyter.widget-view+json": {
       "model_id": "90ad0f12f89448d58f4c27331afe2569",
       "version_major": 2,
       "version_minor": 0
      },
      "text/plain": [
       "  0%|          | 0/6400 [00:00<?, ?it/s]"
      ]
     },
     "metadata": {},
     "output_type": "display_data"
    }
   ],
   "source": [
    "from tqdm.notebook import tqdm\n",
    "\n",
    "for data in tqdm(dataset):\n",
    "    pass"
   ]
  },
  {
   "cell_type": "code",
   "execution_count": null,
   "id": "057b6ca3",
   "metadata": {},
   "outputs": [],
   "source": []
  }
 ],
 "metadata": {
  "kernelspec": {
   "display_name": "dongliang-cao-2023-cvpr",
   "language": "python",
   "name": "python3"
  },
  "language_info": {
   "codemirror_mode": {
    "name": "ipython",
    "version": 3
   },
   "file_extension": ".py",
   "mimetype": "text/x-python",
   "name": "python",
   "nbconvert_exporter": "python",
   "pygments_lexer": "ipython3",
   "version": "3.8.20"
  }
 },
 "nbformat": 4,
 "nbformat_minor": 5
}
