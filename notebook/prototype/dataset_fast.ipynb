{
 "cells": [
  {
   "cell_type": "code",
   "execution_count": 1,
   "id": "0714f59c",
   "metadata": {},
   "outputs": [],
   "source": [
    "%reload_ext autoreload\n",
    "%autoreload 2"
   ]
  },
  {
   "cell_type": "code",
   "execution_count": 2,
   "id": "717427ea",
   "metadata": {},
   "outputs": [],
   "source": [
    "import sys\n",
    "sys.path.append('../..')"
   ]
  },
  {
   "cell_type": "code",
   "execution_count": 3,
   "id": "fa0420a6",
   "metadata": {},
   "outputs": [],
   "source": [
    "import torch\n",
    "device = 'cuda' if torch.cuda.is_available() else 'cpu'"
   ]
  },
  {
   "cell_type": "markdown",
   "id": "a644ef9f",
   "metadata": {},
   "source": [
    "## Original dataset"
   ]
  },
  {
   "cell_type": "code",
   "execution_count": 4,
   "id": "0b3db828",
   "metadata": {},
   "outputs": [],
   "source": [
    "# from src.dataset.shape_cor import PairFaustDataset\n",
    "\n",
    "# dataset = PairFaustDataset(\n",
    "#     phase='train',\n",
    "#     data_root='../../data/FAUST_r/',\n",
    "#     return_evecs='true',\n",
    "#     return_faces='true',\n",
    "#     num_evecs=200,\n",
    "#     return_corr='false',\n",
    "#     return_dist='false',\n",
    "# )"
   ]
  },
  {
   "cell_type": "code",
   "execution_count": 5,
   "id": "176e1c92",
   "metadata": {},
   "outputs": [],
   "source": [
    "# import time\n",
    "# start_time = time.time()\n",
    "\n",
    "# for idx, data in enumerate(dataset):\n",
    "#     if idx >= 10:\n",
    "#         break\n",
    "\n",
    "# end_time = time.time()\n",
    "# print(f\"total: {10 / (end_time - start_time)} sample/s\")"
   ]
  },
  {
   "cell_type": "markdown",
   "id": "1b1d0a5a",
   "metadata": {},
   "source": [
    "## Fast dataset"
   ]
  },
  {
   "cell_type": "code",
   "execution_count": 6,
   "id": "3af0418d",
   "metadata": {},
   "outputs": [
    {
     "name": "stdout",
     "output_type": "stream",
     "text": [
      "Jupyter environment detected. Enabling Open3D WebVisualizer.\n",
      "[Open3D INFO] WebRTC GUI backend enabled.\n",
      "[Open3D INFO] WebRTCWindowSystem: HTTP handshake server disabled.\n"
     ]
    }
   ],
   "source": [
    "from src.dataset.shape_cor_fast import ShapeDatasetFast\n",
    "\n",
    "dataset = ShapeDatasetFast(\n",
    "    data_root='../../data_/FAUST_r',\n",
    "    return_faces=True,\n",
    "    return_L=True,\n",
    "    return_mass=True,\n",
    "    num_evecs=200,\n",
    "    return_evecs=True,\n",
    "    return_grad=True,\n",
    "    return_corr=True,\n",
    "    return_dist=True,\n",
    ")"
   ]
  },
  {
   "cell_type": "code",
   "execution_count": 9,
   "id": "a70df6e2",
   "metadata": {},
   "outputs": [
    {
     "data": {
      "application/vnd.jupyter.widget-view+json": {
       "model_id": "f646203a31284551b9fc26812b51e700",
       "version_major": 2,
       "version_minor": 0
      },
      "text/plain": [
       "  0%|          | 0/100 [00:00<?, ?it/s]"
      ]
     },
     "metadata": {},
     "output_type": "display_data"
    }
   ],
   "source": [
    "from tqdm.notebook import tqdm\n",
    "\n",
    "for data in tqdm(dataset):\n",
    "    pass"
   ]
  },
  {
   "cell_type": "code",
   "execution_count": null,
   "id": "057b6ca3",
   "metadata": {},
   "outputs": [],
   "source": []
  }
 ],
 "metadata": {
  "kernelspec": {
   "display_name": "dongliang-cao-2023-cvpr",
   "language": "python",
   "name": "python3"
  },
  "language_info": {
   "codemirror_mode": {
    "name": "ipython",
    "version": 3
   },
   "file_extension": ".py",
   "mimetype": "text/x-python",
   "name": "python",
   "nbconvert_exporter": "python",
   "pygments_lexer": "ipython3",
   "version": "3.8.20"
  }
 },
 "nbformat": 4,
 "nbformat_minor": 5
}
